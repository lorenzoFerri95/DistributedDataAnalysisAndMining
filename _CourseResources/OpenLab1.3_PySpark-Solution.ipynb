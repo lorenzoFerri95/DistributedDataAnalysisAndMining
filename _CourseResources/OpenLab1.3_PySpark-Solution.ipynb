{
 "cells": [
  {
   "cell_type": "markdown",
   "metadata": {},
   "source": [
    "## Exercise 3 - PySpark \n",
    "\n",
    "1. Compute the average word length of shakespeare.txt.\n",
    "2. Compute the word length distribution of shakespeare.txt.\n",
    "3. Find the most frequent words of shakespeare.txt.\n",
    "4. Count the number of words of shakespeare.txt starting with each letter of the alphabet.\n",
    "5. Find the words pair most co-occurring next to each other of shakespeare.txt"
   ]
  },
  {
   "cell_type": "code",
   "execution_count": 1,
   "metadata": {},
   "outputs": [],
   "source": [
    "%matplotlib inline\n",
    "\n",
    "import matplotlib.pyplot as plt\n",
    "import re\n",
    "\n",
    "from pyspark import SparkContext\n",
    "sc = SparkContext(appName=\"MY-APP-NAME\", master=\"local[*]\")\n",
    "# prevent useless logging messages\n",
    "sc.setLogLevel(\"ERROR\")"
   ]
  },
  {
   "cell_type": "code",
   "execution_count": 2,
   "metadata": {},
   "outputs": [],
   "source": [
    "server_number = \"12\"\n",
    "hdfs_path_file = \"hdfs://kddrtserver{0}.isti.cnr.it:9000/hpsa/datasets/shakespeare.txt\".format(server_number)\n",
    "shakespeare_rdd = sc.textFile(hdfs_path_file)"
   ]
  },
  {
   "cell_type": "code",
   "execution_count": 3,
   "metadata": {},
   "outputs": [
    {
     "data": {
      "text/plain": [
       "['This is the 100th Etext file presented by Project Gutenberg, and',\n",
       " 'is presented in cooperation with World Library, Inc., from their',\n",
       " 'Library of the Future and Shakespeare CDROMS.  Project Gutenberg',\n",
       " 'often releases Etexts that are NOT placed in the Public Domain!!',\n",
       " '',\n",
       " 'Shakespeare',\n",
       " '',\n",
       " '*This Etext has certain copyright implications you should read!*',\n",
       " '',\n",
       " '<<THIS ELECTRONIC VERSION OF THE COMPLETE WORKS OF WILLIAM']"
      ]
     },
     "execution_count": 3,
     "metadata": {},
     "output_type": "execute_result"
    }
   ],
   "source": [
    "shakespeare_rdd.take(10)"
   ]
  },
  {
   "cell_type": "code",
   "execution_count": 4,
   "metadata": {},
   "outputs": [],
   "source": [
    "# Clean the rdd of lines lowering the upper case characters and removing the non [a-z0-9 ] characters\n",
    "pattern = re.compile(\"[^a-z0-9 ]+\")\n",
    "shakespeare_clean_rdd = shakespeare_rdd.map(lambda line: pattern.sub(' ', line.lower()))"
   ]
  },
  {
   "cell_type": "markdown",
   "metadata": {},
   "source": [
    "### Ex1 - Average word length"
   ]
  },
  {
   "cell_type": "code",
   "execution_count": 17,
   "metadata": {},
   "outputs": [
    {
     "data": {
      "text/plain": [
       "[4, 2, 3, 5, 5, 4, 9, 2, 7, 9, 3, 2, 9, 2, 11, 4, 5, 7, 3, 4]"
      ]
     },
     "execution_count": 17,
     "metadata": {},
     "output_type": "execute_result"
    }
   ],
   "source": [
    "rdd_word_len = shakespeare_clean_rdd \\\n",
    "    .flatMap(lambda x: [len(w) for w in x.split(' ')]) \\\n",
    "    .filter(lambda x: x>0)\n",
    "rdd_word_len.take(20)"
   ]
  },
  {
   "cell_type": "code",
   "execution_count": 18,
   "metadata": {},
   "outputs": [
    {
     "data": {
      "text/plain": [
       "(699839, 171541, 4.079718551250139)"
      ]
     },
     "execution_count": 18,
     "metadata": {},
     "output_type": "execute_result"
    }
   ],
   "source": [
    "rdd_word_len.sum(), rdd_word_len.count(), rdd_word_len.sum()/rdd_word_len.count()"
   ]
  },
  {
   "cell_type": "markdown",
   "metadata": {},
   "source": [
    "### Ex2 - Word length distribution"
   ]
  },
  {
   "cell_type": "code",
   "execution_count": 21,
   "metadata": {},
   "outputs": [
    {
     "data": {
      "text/plain": [
       "[(4, 38089),\n",
       " (2, 29875),\n",
       " (6, 13961),\n",
       " (8, 6520),\n",
       " (12, 248),\n",
       " (10, 2056),\n",
       " (14, 17),\n",
       " (3, 35105),\n",
       " (5, 20220),\n",
       " (9, 3517),\n",
       " (7, 9950),\n",
       " (11, 730),\n",
       " (1, 11168),\n",
       " (13, 79),\n",
       " (15, 6)]"
      ]
     },
     "execution_count": 21,
     "metadata": {},
     "output_type": "execute_result"
    }
   ],
   "source": [
    "rdd_word_len_dist = rdd_word_len \\\n",
    "    .map(lambda x: (x, 1)) \\\n",
    "    .reduceByKey(lambda x,y: x+y)\n",
    "\n",
    "rdd_word_len_dist.collect()"
   ]
  },
  {
   "cell_type": "code",
   "execution_count": 22,
   "metadata": {},
   "outputs": [],
   "source": [
    "len_w, count_len_w = zip(*rdd_word_len_dist.collect())"
   ]
  },
  {
   "cell_type": "code",
   "execution_count": 24,
   "metadata": {},
   "outputs": [
    {
     "data": {
      "image/png": "[encoded data removed]",
      "text/plain": [
       "<Figure size 1080x360 with 1 Axes>"
      ]
     },
     "metadata": {
      "needs_background": "light"
     },
     "output_type": "display_data"
    }
   ],
   "source": [
    "plt.figure(figsize=(15,5))\n",
    "plt.bar(\n",
    "    x=len_w, height=count_len_w\n",
    ")\n",
    "plt.show()"
   ]
  },
  {
   "cell_type": "markdown",
   "metadata": {},
   "source": [
    "### Ex3 - Most frequent words"
   ]
  },
  {
   "cell_type": "code",
   "execution_count": 26,
   "metadata": {},
   "outputs": [
    {
     "data": {
      "text/plain": [
       "['this', 'is', 'the', '100th', 'etext']"
      ]
     },
     "execution_count": 26,
     "metadata": {},
     "output_type": "execute_result"
    }
   ],
   "source": [
    "rdd_word = shakespeare_clean_rdd \\\n",
    "    .flatMap(lambda x: [w for w in x.split(' ')]) \\\n",
    "    .filter(lambda x: len(x)>0)\n",
    "rdd_word.take(5)"
   ]
  },
  {
   "cell_type": "code",
   "execution_count": 31,
   "metadata": {},
   "outputs": [
    {
     "data": {
      "text/plain": [
       "[('the', 4893),\n",
       " ('and', 4440),\n",
       " ('i', 4254),\n",
       " ('to', 3775),\n",
       " ('of', 3435),\n",
       " ('you', 2855),\n",
       " ('a', 2547),\n",
       " ('that', 2261),\n",
       " ('my', 2185),\n",
       " ('in', 2075)]"
      ]
     },
     "execution_count": 31,
     "metadata": {},
     "output_type": "execute_result"
    }
   ],
   "source": [
    "rdd_word \\\n",
    "    .map(lambda x: (x,1)) \\\n",
    "    .reduceByKey(lambda x,y:x+y) \\\n",
    "    .takeOrdered(10, (lambda pair: -pair[1]))"
   ]
  },
  {
   "cell_type": "markdown",
   "metadata": {},
   "source": [
    "### Ex4 - Number of words starting with each letter"
   ]
  },
  {
   "cell_type": "code",
   "execution_count": 40,
   "metadata": {},
   "outputs": [],
   "source": [
    "rdd_word = shakespeare_clean_rdd \\\n",
    "    .flatMap(lambda x: [w for w in x.split(' ')]) \\\n",
    "    .filter(lambda x: len(x)>0)\n",
    "\n",
    "\n",
    "lst = rdd_word.map(lambda w: (w[0],1)) \\\n",
    "    .reduceByKey(lambda x,y: x+y) \\\n",
    "    .sortByKey() \\\n",
    "    .collect()\n",
    "\n",
    "letter, letter_count = zip(*lst)"
   ]
  },
  {
   "cell_type": "code",
   "execution_count": 41,
   "metadata": {},
   "outputs": [
    {
     "data": {
      "image/png": "[encoded data removed]",
      "text/plain": [
       "<Figure size 1080x360 with 1 Axes>"
      ]
     },
     "metadata": {
      "needs_background": "light"
     },
     "output_type": "display_data"
    }
   ],
   "source": [
    "plt.figure(figsize=(15,5))\n",
    "plt.bar(\n",
    "    x=letter, height=letter_count\n",
    ")\n",
    "plt.show()"
   ]
  },
  {
   "cell_type": "markdown",
   "metadata": {},
   "source": [
    "### Ex5 - Most correlated words"
   ]
  },
  {
   "cell_type": "code",
   "execution_count": 46,
   "metadata": {},
   "outputs": [
    {
     "data": {
      "text/plain": [
       "[(('i', 'am'), 344),\n",
       " (('i', 'have'), 321),\n",
       " (('i', 'll'), 308),\n",
       " (('of', 'the'), 305),\n",
       " (('in', 'the'), 259),\n",
       " (('i', 'will'), 247),\n",
       " (('to', 'the'), 238),\n",
       " (('of', 'syracuse'), 233),\n",
       " (('antipholus', 'of'), 202),\n",
       " (('it', 'is'), 200)]"
      ]
     },
     "execution_count": 46,
     "metadata": {},
     "output_type": "execute_result"
    }
   ],
   "source": [
    "def line_to_bigram(line):\n",
    "    words = line.split()\n",
    "    return [(words[i-1], words[i]) for i in range(1, len(words))]\n",
    "\n",
    "shakespeare_clean_rdd\\\n",
    "    .flatMap(lambda x: line_to_bigram(x))\\\n",
    "    .map(lambda bigram: (bigram, 1))\\\n",
    "    .reduceByKey(lambda x,y: x+y)\\\n",
    "    .takeOrdered(10, (lambda pair: -pair[1]))"
   ]
  },
  {
   "cell_type": "code",
   "execution_count": null,
   "metadata": {},
   "outputs": [],
   "source": []
  }
 ],
 "metadata": {
  "kernelspec": {
   "display_name": "Python 3",
   "language": "python",
   "name": "python3"
  },
  "language_info": {
   "codemirror_mode": {
    "name": "ipython",
    "version": 3
   },
   "file_extension": ".py",
   "mimetype": "text/x-python",
   "name": "python",
   "nbconvert_exporter": "python",
   "pygments_lexer": "ipython3",
   "version": "3.7.7"
  }
 },
 "nbformat": 4,
 "nbformat_minor": 4
}
