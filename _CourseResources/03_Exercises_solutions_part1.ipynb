{
 "cells": [
  {
   "cell_type": "code",
   "execution_count": 2,
   "metadata": {},
   "outputs": [],
   "source": [
    "from pyspark import SparkContext\n",
    "# initialize a new Spark Context to use for the execution of the script\n",
    "sc = SparkContext(appName=\"MY-APP-NAME\", master=\"local[*]\")"
   ]
  },
  {
   "cell_type": "code",
   "execution_count": null,
   "metadata": {},
   "outputs": [],
   "source": []
  },
  {
   "cell_type": "code",
   "execution_count": 8,
   "metadata": {},
   "outputs": [],
   "source": [
    "# EXERCISE N.1\n",
    "# Compute the numer of words appearing in both commedies and tragedies and the number of words which are not \n",
    "# present in both the texts\n",
    "\n",
    "text1 = sc.textFile(\"hdfs://kddrtserver11.isti.cnr.it:9000/user/hpsa00/comedies.txt\")\n",
    "text2 = sc.textFile(\"hdfs://kddrtserver11.isti.cnr.it:9000/user/hpsa00/tragedies.txt\")\n",
    "words1 = text1.flatMap(lambda x: x.split())\n",
    "words2 = text2.flatMap(lambda x: x.split())\n",
    "both = words1.intersection(words2)\n",
    "\n",
    "print(both.count())\n",
    "print(words1.count()+words2.count()-both.count())"
   ]
  },
  {
   "cell_type": "code",
   "execution_count": 6,
   "metadata": {},
   "outputs": [
    {
     "name": "stdout",
     "output_type": "stream",
     "text": [
      "11\n"
     ]
    }
   ],
   "source": [
    "# EXERCISE N.2\n",
    "# Read the file commedies and count the number of rows containing the word \"skill\"\n",
    "\n",
    "text = sc.textFile(\"hdfs://kddrtserver11.isti.cnr.it:9000/user/hpsa00/comm2.txt\")\n",
    "pair_rdd = text.map(lambda x: x.lower().split()).filter(lambda x: \"skill\" in x)\n",
    "print (pair_rdd.count())"
   ]
  },
  {
   "cell_type": "code",
   "execution_count": 7,
   "metadata": {},
   "outputs": [
    {
     "name": "stdout",
     "output_type": "stream",
     "text": [
      "[('L', 6603), ('N', 16760), ('R', 14153), ('K', 111), ('O', 50682), ('C', 1375), ('W', 2210), ('S', 1644), ('J', 8), ('E', 34590), ('H', 40226), ('I', 28351), ('U', 12779), ('D', 743), ('A', 30560), ('T', 4672), ('P', 2881), ('F', 1183), ('G', 712), (\"'\", 970), ('V', 1092), ('B', 749), ('M', 919), ('X', 526), ('Y', 1762), ('Q', 67), ('-', 38), (',', 12), ('Z', 1)]\n"
     ]
    }
   ],
   "source": [
    "# EXERCISE N.3\n",
    "# Read the file commedies and count the number of words having the same second letter.\n",
    "\n",
    "text = sc.textFile(\"hdfs://kddrtserver11.isti.cnr.it:9000/user/hpsa00/comm2.txt\")\n",
    "pair_rdd = text.flatMap(lambda x: x.split()).filter(lambda x: len(x)>2).map(lambda x: (x[1].upper(), 1)).reduceByKey(lambda x,y:x+y)\n",
    "print (pair_rdd.collect())"
   ]
  },
  {
   "cell_type": "code",
   "execution_count": 29,
   "metadata": {},
   "outputs": [],
   "source": [
    "# EXERCISE N.4\n",
    "# Create a file with the following list of class,member pairs:\n",
    "# 1,2;1,2;1,3;1,4;1,5;2,1;2,4;2,4;2,7;2,9;3,1;3,2;3,3;3,6;3,1\n",
    "# Read the file and write the code to obtain the list of elements for each class"
   ]
  },
  {
   "cell_type": "code",
   "execution_count": 117,
   "metadata": {},
   "outputs": [
    {
     "name": "stdout",
     "output_type": "stream",
     "text": [
      "[(0, 28), (1, 58), (2, 67), (3, 44), (4, 10), (5, 29), (6, 42), (7, 39), (8, 31), (9, 81), (10, 54), (11, 46), (12, 88), (13, 30), (14, 38), (15, 51), (16, 62), (17, 80), (18, 89), (19, 33)]\n"
     ]
    }
   ],
   "source": [
    "# EXERCISE N.5\n",
    "# Generate 1000 random points (x,y) and 20 seed points(a,b). Assign the points to the closer seed and than \n",
    "# count how many points are assigned to each seed."
   ]
  },
  {
   "cell_type": "code",
   "execution_count": null,
   "metadata": {},
   "outputs": [],
   "source": []
  }
 ],
 "metadata": {
  "kernelspec": {
   "display_name": "Python 3",
   "language": "python",
   "name": "python3"
  },
  "language_info": {
   "codemirror_mode": {
    "name": "ipython",
    "version": 3
   },
   "file_extension": ".py",
   "mimetype": "text/x-python",
   "name": "python",
   "nbconvert_exporter": "python",
   "pygments_lexer": "ipython3",
   "version": "3.7.7"
  }
 },
 "nbformat": 4,
 "nbformat_minor": 4
}
