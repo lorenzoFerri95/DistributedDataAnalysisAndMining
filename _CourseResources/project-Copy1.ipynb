{
 "cells": [
  {
   "cell_type": "markdown",
   "metadata": {},
   "source": [
    "## Step 1: Data Gathering"
   ]
  },
  {
   "cell_type": "code",
   "execution_count": 1,
   "metadata": {},
   "outputs": [],
   "source": [
    "from pyspark import SparkConf, SparkContext\n",
    "conf = SparkConf()\n",
    "conf.setAppName(\"project\")\n",
    "conf.setMaster(\"local[*]\")\n",
    "sc = SparkContext(conf=conf)"
   ]
  },
  {
   "cell_type": "code",
   "execution_count": 2,
   "metadata": {},
   "outputs": [
    {
     "data": {
      "text/plain": [
       "[['v1', 'v2', '', '', ''],\n",
       " ['ham',\n",
       "  '\"Go until jurong point',\n",
       "  ' crazy.. Available only in bugis n great world la e buffet... Cine there got amore wat...\"',\n",
       "  '',\n",
       "  '',\n",
       "  '']]"
      ]
     },
     "execution_count": 2,
     "metadata": {},
     "output_type": "execute_result"
    }
   ],
   "source": [
    "rdd_data = sc.textFile(\"spam_utf.csv\")\n",
    "rdd_tuple = rdd_data.map(lambda x: x.split(','))\n",
    "rdd_tuple.take(2)"
   ]
  },
  {
   "cell_type": "code",
   "execution_count": 3,
   "metadata": {},
   "outputs": [],
   "source": [
    "#replacing comma separator with semicolon\n",
    "import csv\n",
    "text=[]\n",
    "with open(\"spam_utf.csv\", mode=\"r\") as infile:\n",
    "    reader = csv.reader(infile, delimiter=',')\n",
    "    with open(\"spam_utf_semicolon.txt\", mode=\"w\") as outfile:\n",
    "        for row in reader:\n",
    "            writer = csv.writer(outfile, delimiter='<')\n",
    "            text.append(row)\n",
    "        writer.writerows(text)"
   ]
  },
  {
   "cell_type": "code",
   "execution_count": 4,
   "metadata": {},
   "outputs": [
    {
     "data": {
      "text/plain": [
       "[['v1', 'v2', '', '', ''],\n",
       " ['ham',\n",
       "  'Go until jurong point, crazy.. Available only in bugis n great world la e buffet... Cine there got amore wat...',\n",
       "  '',\n",
       "  '',\n",
       "  '']]"
      ]
     },
     "execution_count": 4,
     "metadata": {},
     "output_type": "execute_result"
    }
   ],
   "source": [
    "#creating rdd_tuple by splitting by semicolon\n",
    "rdd_data = sc.textFile(\"spam_utf_semicolon.txt\")\n",
    "rdd_tuple = rdd_data.map(lambda x: x.split('<'))\n",
    "rdd_tuple.take(2)"
   ]
  },
  {
   "cell_type": "code",
   "execution_count": 5,
   "metadata": {},
   "outputs": [
    {
     "data": {
      "text/plain": [
       "[['v1', 'v2'],\n",
       " ['ham',\n",
       "  'Go until jurong point, crazy.. Available only in bugis n great world la e buffet... Cine there got amore wat...'],\n",
       " ['ham', 'Ok lar... Joking wif u oni...'],\n",
       " ['spam',\n",
       "  \"Free entry in 2 a wkly comp to win FA Cup final tkts 21st May 2005. Text FA to 87121 to receive entry question(std txt rate)T&C's apply 08452810075over18's\"],\n",
       " ['ham', 'U dun say so early hor... U c already then say...'],\n",
       " ['ham', \"Nah I don't think he goes to usf, he lives around here though\"],\n",
       " ['spam',\n",
       "  \"FreeMsg Hey there darling it's been 3 week's now and no word back! I'd like some fun you up for it still? Tb ok! XxX std chgs to send, Â£1.50 to rcv\"],\n",
       " ['ham',\n",
       "  'Even my brother is not like to speak with me. They treat me like aids patent.'],\n",
       " ['ham',\n",
       "  \"As per your request 'Melle Melle (Oru Minnaminunginte Nurungu Vettam)' has been set as your callertune for all Callers. Press *9 to copy your friends Callertune\"],\n",
       " ['spam',\n",
       "  'WINNER!! As a valued network customer you have been selected to receivea Â£900 prize reward! To claim call 09061701461. Claim code KL341. Valid 12 hours only.']]"
      ]
     },
     "execution_count": 5,
     "metadata": {},
     "output_type": "execute_result"
    }
   ],
   "source": [
    "#removing 2-3-4 columns\n",
    "rdd_tuple = rdd_tuple.map(lambda row: row[0:2])\n",
    "rdd_tuple.take(10)"
   ]
  },
  {
   "cell_type": "markdown",
   "metadata": {},
   "source": [
    "## Step 2: Data Exploration\n"
   ]
  },
  {
   "cell_type": "code",
   "execution_count": 6,
   "metadata": {},
   "outputs": [
    {
     "data": {
      "text/plain": [
       "5575"
      ]
     },
     "execution_count": 6,
     "metadata": {},
     "output_type": "execute_result"
    }
   ],
   "source": [
    "#how many sms are there?\n",
    "rdd_tuple.count()"
   ]
  },
  {
   "cell_type": "code",
   "execution_count": 7,
   "metadata": {},
   "outputs": [
    {
     "data": {
      "text/plain": [
       "[('v1', 1), ('ham\"\"\"', 2), ('spam', 747), ('ham', 4825)]"
      ]
     },
     "execution_count": 7,
     "metadata": {},
     "output_type": "execute_result"
    }
   ],
   "source": [
    "#grouping by class\n",
    "list = rdd_tuple.map(lambda x: (x[0], 1)) \\\n",
    "                        .reduceByKey(lambda x,y: x+y) \\\n",
    "                        .takeOrdered(10, (lambda x: x[1])) \n",
    "list"
   ]
  },
  {
   "cell_type": "code",
   "execution_count": 8,
   "metadata": {},
   "outputs": [
    {
     "data": {
      "text/plain": [
       "[('v1', 1), ('ham', 4827), ('spam', 747)]"
      ]
     },
     "execution_count": 8,
     "metadata": {},
     "output_type": "execute_result"
    }
   ],
   "source": [
    "#replacing ham\"\"\" with ham\n",
    "def replace(row):\n",
    "    if row[0]=='ham\"\"\"':\n",
    "        row[0]='ham'\n",
    "    return row\n",
    "\n",
    "\n",
    "list = rdd_tuple.map(lambda x: replace(x),1)\\\n",
    "                    .map(lambda x: (x[0], 1)) \\\n",
    "                    .reduceByKey(lambda x,y: x+y) \n",
    "list.collect()\n"
   ]
  },
  {
   "cell_type": "code",
   "execution_count": 9,
   "metadata": {
    "scrolled": true
   },
   "outputs": [
    {
     "data": {
      "text/plain": [
       "[['ham',\n",
       "  'Go until jurong point, crazy.. Available only in bugis n great world la e buffet... Cine there got amore wat...'],\n",
       " ['ham', 'Ok lar... Joking wif u oni...'],\n",
       " ['spam',\n",
       "  \"Free entry in 2 a wkly comp to win FA Cup final tkts 21st May 2005. Text FA to 87121 to receive entry question(std txt rate)T&C's apply 08452810075over18's\"],\n",
       " ['ham', 'U dun say so early hor... U c already then say...'],\n",
       " ['ham', \"Nah I don't think he goes to usf, he lives around here though\"]]"
      ]
     },
     "execution_count": 9,
     "metadata": {},
     "output_type": "execute_result"
    }
   ],
   "source": [
    "#removing header from rdd\n",
    "header = rdd_tuple.take(1)\n",
    "rdd_tuple = rdd_tuple.filter(lambda line : line not in header)\n",
    "rdd_tuple.take(5)"
   ]
  },
  {
   "cell_type": "code",
   "execution_count": 10,
   "metadata": {},
   "outputs": [
    {
     "data": {
      "text/plain": [
       "[('to', 601),\n",
       " ('a', 358),\n",
       " ('or', 185),\n",
       " ('call', 183),\n",
       " ('your', 183),\n",
       " ('the', 177),\n",
       " ('2', 169),\n",
       " ('for', 168),\n",
       " ('you', 164),\n",
       " ('is', 140),\n",
       " ('Call', 134),\n",
       " ('on', 133),\n",
       " ('have', 125),\n",
       " ('and', 117),\n",
       " ('from', 111),\n",
       " ('ur', 107),\n",
       " ('with', 101),\n",
       " ('&', 98),\n",
       " ('of', 93),\n",
       " ('4', 92),\n",
       " ('FREE', 88),\n",
       " ('mobile', 81),\n",
       " ('are', 77),\n",
       " ('our', 75),\n",
       " ('claim', 73),\n",
       " ('To', 73),\n",
       " ('You', 72),\n",
       " ('U', 70),\n",
       " ('Your', 69),\n",
       " ('txt', 68),\n",
       " ('text', 68),\n",
       " ('in', 64),\n",
       " ('now', 64),\n",
       " ('Txt', 63),\n",
       " ('reply', 58),\n",
       " ('free', 56),\n",
       " ('contact', 56),\n",
       " ('-', 53),\n",
       " ('be', 48),\n",
       " ('now!', 48),\n",
       " ('u', 47),\n",
       " ('just', 46),\n",
       " ('send', 45),\n",
       " ('Nokia', 45),\n",
       " ('won', 45),\n",
       " ('get', 45),\n",
       " ('only', 44),\n",
       " ('this', 44),\n",
       " ('per', 44),\n",
       " ('prize', 43)]"
      ]
     },
     "execution_count": 10,
     "metadata": {},
     "output_type": "execute_result"
    }
   ],
   "source": [
    "# most common words in spam sms\n",
    "common_word_spam = rdd_tuple.filter(lambda x: x[0] == \"spam\")\\\n",
    "                            .flatMap(lambda x: [(w,1) for w in x[1].split(' ')]) \\\n",
    "                            .reduceByKey(lambda x,y: x+y)\\\n",
    "                            .takeOrdered(50, (lambda x: -x[1]))\n",
    "common_word_spam"
   ]
  },
  {
   "cell_type": "code",
   "execution_count": 11,
   "metadata": {},
   "outputs": [
    {
     "data": {
      "text/plain": [
       "[('to', 1530),\n",
       " ('you', 1458),\n",
       " ('I', 1435),\n",
       " ('the', 1019),\n",
       " ('a', 969),\n",
       " ('and', 738),\n",
       " ('i', 736),\n",
       " ('in', 734),\n",
       " ('u', 645),\n",
       " ('is', 638)]"
      ]
     },
     "execution_count": 11,
     "metadata": {},
     "output_type": "execute_result"
    }
   ],
   "source": [
    "# most common words in non-spam ham sms\n",
    "common_word_spam = rdd_tuple.filter(lambda x: x[0] == \"ham\")\\\n",
    "                            .flatMap(lambda x: [(w,1) for w in x[1].split(' ')]) \\\n",
    "                            .reduceByKey(lambda x,y: x+y)\\\n",
    "                            .takeOrdered(10, (lambda x: -x[1]))\n",
    "common_word_spam"
   ]
  },
  {
   "cell_type": "code",
   "execution_count": 12,
   "metadata": {},
   "outputs": [
    {
     "data": {
      "text/plain": [
       "[(('you', 'have'), 69),\n",
       " (('have', 'won'), 52),\n",
       " (('your', 'mobile'), 46),\n",
       " (('please', 'call'), 42),\n",
       " (('won', 'a'), 40),\n",
       " (('to', 'claim'), 39),\n",
       " (('this', 'is'), 38),\n",
       " (('to', 'contact'), 37),\n",
       " (('you', 'are'), 35),\n",
       " (('cash', 'or'), 27)]"
      ]
     },
     "execution_count": 12,
     "metadata": {},
     "output_type": "execute_result"
    }
   ],
   "source": [
    "# most common correlated words in spam sms\n",
    "def line_to_bigram(line):\n",
    "    words = line.lower().split(\" \") #lower case text\n",
    "    return [(words[i-1], words[i]) for i in range(1, len(words))]\n",
    "\n",
    "\n",
    "common_word_spam = rdd_tuple.filter(lambda x: x[0] == \"spam\")\\\n",
    "                            .flatMap(lambda x: line_to_bigram(x[1]))\\\n",
    "                            .map(lambda x: (x, 1)) \\\n",
    "                            .reduceByKey(lambda x,y: x+y) \\\n",
    "                            .takeOrdered(10, (lambda x: -x[1])) \n",
    "\n",
    "common_word_spam"
   ]
  },
  {
   "cell_type": "code",
   "execution_count": 13,
   "metadata": {},
   "outputs": [
    {
     "data": {
      "text/plain": [
       "[(('', '&lt;#&gt;'), 221),\n",
       " (('are', 'you'), 149),\n",
       " (('&lt;#&gt;', ''), 132),\n",
       " (('i', 'am'), 127),\n",
       " (('have', 'a'), 108),\n",
       " (('i', 'will'), 97),\n",
       " (('do', 'you'), 89),\n",
       " (('you', 'are'), 88),\n",
       " (('in', 'the'), 86),\n",
       " (('i', 'have'), 82)]"
      ]
     },
     "execution_count": 13,
     "metadata": {},
     "output_type": "execute_result"
    }
   ],
   "source": [
    "# most common correlated words in ham sms\n",
    "def line_to_bigram(line):\n",
    "    words = line.lower().split(\" \")\n",
    "    return [(words[i-1], words[i]) for i in range(1, len(words))]\n",
    "\n",
    "\n",
    "common_word_spam = rdd_tuple.filter(lambda x: x[0] == \"ham\")\\\n",
    "                            .flatMap(lambda x: line_to_bigram(x[1]))\\\n",
    "                            .map(lambda x: (x, 1)) \\\n",
    "                            .reduceByKey(lambda x,y: x+y) \\\n",
    "                            .takeOrdered(10, (lambda x: -x[1])) \n",
    "\n",
    "common_word_spam"
   ]
  },
  {
   "cell_type": "code",
   "execution_count": 14,
   "metadata": {},
   "outputs": [
    {
     "data": {
      "text/plain": [
       "[('&lt;#&gt;', 276)]"
      ]
     },
     "execution_count": 14,
     "metadata": {},
     "output_type": "execute_result"
    }
   ],
   "source": [
    "# understanding special character \"\"&lt;#&gt\"\n",
    "# how many sms with special char?\n",
    "common_word_spam = rdd_tuple.filter(lambda x: x[0] == \"ham\")\\\n",
    "                            .flatMap(lambda x: [(w,1) for w in x[1].split(' ')]) \\\n",
    "                            .filter(lambda x: x[0] == \"&lt;#&gt;\")\\\n",
    "                            .reduceByKey(lambda x,y: x+y) \n",
    "common_word_spam.collect()"
   ]
  },
  {
   "cell_type": "code",
   "execution_count": 28,
   "metadata": {},
   "outputs": [
    {
     "data": {
      "text/plain": [
       "[['ham',\n",
       "  'Go until jurong point, crazy.. Available only in bugis n great world la e buffet... Cine there got amore wat...']]"
      ]
     },
     "execution_count": 28,
     "metadata": {},
     "output_type": "execute_result"
    }
   ],
   "source": [
    "rdd_tuple.take(1)"
   ]
  },
  {
   "cell_type": "code",
   "execution_count": 29,
   "metadata": {},
   "outputs": [
    {
     "data": {
      "text/plain": [
       "[('ham',\n",
       "  'Go until jurong point, crazy.. Available only in bugis n great world la e buffet... Cine there got amore wat...',\n",
       "  'Go until jurong point, crazy.. Available only in bugis n great world la e buffet... Cine there got amore wat...')]"
      ]
     },
     "execution_count": 29,
     "metadata": {},
     "output_type": "execute_result"
    }
   ],
   "source": [
    "rdd_tuple_2 = rdd_tuple.map(lambda x: (x[0],x[1],x[1]))\n",
    "rdd_tuple_2.take(1)"
   ]
  },
  {
   "cell_type": "code",
   "execution_count": 35,
   "metadata": {},
   "outputs": [
    {
     "data": {
      "text/plain": [
       "[('ham',\n",
       "  'Go until jurong point, crazy.. Available only in bugis n great world la e buffet... Cine there got amore wat...',\n",
       "  'go until jurong point  crazy  available only in bugis n great world la e buffet  cine there got amore wat ')]"
      ]
     },
     "execution_count": 35,
     "metadata": {},
     "output_type": "execute_result"
    }
   ],
   "source": [
    "import re\n",
    "\n",
    "pattern = re.compile(\"[^a-z0-9 ]+\")\n",
    "clean_rdd = rdd_tuple.map(lambda x: (x[0],x[1],pattern.sub(' ', x[1].lower())))\n",
    "clean_rdd.take(1)"
   ]
  },
  {
   "cell_type": "code",
   "execution_count": 17,
   "metadata": {},
   "outputs": [
    {
     "name": "stderr",
     "output_type": "stream",
     "text": [
      "[nltk_data] Downloading package stopwords to /home/hpsa10/nltk_data...\n",
      "[nltk_data]   Package stopwords is already up-to-date!\n"
     ]
    },
    {
     "data": {
      "text/plain": [
       "True"
      ]
     },
     "execution_count": 17,
     "metadata": {},
     "output_type": "execute_result"
    }
   ],
   "source": [
    "#removing STOPWORDS\n",
    "import nltk\n",
    "nltk.download('stopwords')\n",
    "from nltk.corpus import stopwords"
   ]
  },
  {
   "cell_type": "code",
   "execution_count": 79,
   "metadata": {},
   "outputs": [
    {
     "name": "stdout",
     "output_type": "stream",
     "text": [
      "{'u', 'ur', 'n', 'r'}\n"
     ]
    },
    {
     "data": {
      "text/plain": [
       "{'a',\n",
       " 'about',\n",
       " 'above',\n",
       " 'after',\n",
       " 'again',\n",
       " 'against',\n",
       " 'ain',\n",
       " 'all',\n",
       " 'am',\n",
       " 'an',\n",
       " 'and',\n",
       " 'any',\n",
       " 'are',\n",
       " 'aren',\n",
       " \"aren't\",\n",
       " 'as',\n",
       " 'at',\n",
       " 'be',\n",
       " 'because',\n",
       " 'been',\n",
       " 'before',\n",
       " 'being',\n",
       " 'below',\n",
       " 'between',\n",
       " 'both',\n",
       " 'but',\n",
       " 'by',\n",
       " 'can',\n",
       " 'couldn',\n",
       " \"couldn't\",\n",
       " 'd',\n",
       " 'did',\n",
       " 'didn',\n",
       " \"didn't\",\n",
       " 'do',\n",
       " 'does',\n",
       " 'doesn',\n",
       " \"doesn't\",\n",
       " 'doing',\n",
       " 'don',\n",
       " \"don't\",\n",
       " 'down',\n",
       " 'during',\n",
       " 'each',\n",
       " 'few',\n",
       " 'for',\n",
       " 'from',\n",
       " 'further',\n",
       " 'had',\n",
       " 'hadn',\n",
       " \"hadn't\",\n",
       " 'has',\n",
       " 'hasn',\n",
       " \"hasn't\",\n",
       " 'have',\n",
       " 'haven',\n",
       " \"haven't\",\n",
       " 'having',\n",
       " 'he',\n",
       " 'her',\n",
       " 'here',\n",
       " 'hers',\n",
       " 'herself',\n",
       " 'him',\n",
       " 'himself',\n",
       " 'his',\n",
       " 'how',\n",
       " 'i',\n",
       " 'if',\n",
       " 'in',\n",
       " 'into',\n",
       " 'is',\n",
       " 'isn',\n",
       " \"isn't\",\n",
       " 'it',\n",
       " \"it's\",\n",
       " 'its',\n",
       " 'itself',\n",
       " 'just',\n",
       " 'll',\n",
       " 'm',\n",
       " 'ma',\n",
       " 'me',\n",
       " 'mightn',\n",
       " \"mightn't\",\n",
       " 'more',\n",
       " 'most',\n",
       " 'mustn',\n",
       " \"mustn't\",\n",
       " 'my',\n",
       " 'myself',\n",
       " 'n',\n",
       " 'needn',\n",
       " \"needn't\",\n",
       " 'no',\n",
       " 'nor',\n",
       " 'not',\n",
       " 'now',\n",
       " 'o',\n",
       " 'of',\n",
       " 'off',\n",
       " 'on',\n",
       " 'once',\n",
       " 'only',\n",
       " 'or',\n",
       " 'other',\n",
       " 'our',\n",
       " 'ours',\n",
       " 'ourselves',\n",
       " 'out',\n",
       " 'over',\n",
       " 'own',\n",
       " 'r',\n",
       " 're',\n",
       " 's',\n",
       " 'same',\n",
       " 'shan',\n",
       " \"shan't\",\n",
       " 'she',\n",
       " \"she's\",\n",
       " 'should',\n",
       " \"should've\",\n",
       " 'shouldn',\n",
       " \"shouldn't\",\n",
       " 'so',\n",
       " 'some',\n",
       " 'such',\n",
       " 't',\n",
       " 'than',\n",
       " 'that',\n",
       " \"that'll\",\n",
       " 'the',\n",
       " 'their',\n",
       " 'theirs',\n",
       " 'them',\n",
       " 'themselves',\n",
       " 'then',\n",
       " 'there',\n",
       " 'these',\n",
       " 'they',\n",
       " 'this',\n",
       " 'those',\n",
       " 'through',\n",
       " 'to',\n",
       " 'too',\n",
       " 'u',\n",
       " 'under',\n",
       " 'until',\n",
       " 'up',\n",
       " 'ur',\n",
       " 've',\n",
       " 'very',\n",
       " 'was',\n",
       " 'wasn',\n",
       " \"wasn't\",\n",
       " 'we',\n",
       " 'were',\n",
       " 'weren',\n",
       " \"weren't\",\n",
       " 'what',\n",
       " 'when',\n",
       " 'where',\n",
       " 'which',\n",
       " 'while',\n",
       " 'who',\n",
       " 'whom',\n",
       " 'why',\n",
       " 'will',\n",
       " 'with',\n",
       " 'won',\n",
       " \"won't\",\n",
       " 'wouldn',\n",
       " \"wouldn't\",\n",
       " 'y',\n",
       " 'you',\n",
       " \"you'd\",\n",
       " \"you'll\",\n",
       " \"you're\",\n",
       " \"you've\",\n",
       " 'your',\n",
       " 'yours',\n",
       " 'yourself',\n",
       " 'yourselves'}"
      ]
     },
     "execution_count": 79,
     "metadata": {},
     "output_type": "execute_result"
    }
   ],
   "source": [
    "STOPWORDS = set(stopwords.words('english'))\n",
    "more_stops = {'ur','n','u','r'}\n",
    "print(more_stops)\n",
    "STOPWORDS = STOPWORDS.union(more_stops)\n",
    "STOPWORDS"
   ]
  },
  {
   "cell_type": "code",
   "execution_count": 80,
   "metadata": {},
   "outputs": [
    {
     "data": {
      "text/plain": [
       "[('ham',\n",
       "  'Go until jurong point, crazy.. Available only in bugis n great world la e buffet... Cine there got amore wat...',\n",
       "  ['go',\n",
       "   'jurong',\n",
       "   'point,',\n",
       "   'crazy',\n",
       "   'available',\n",
       "   'bugis',\n",
       "   'great',\n",
       "   'world',\n",
       "   'la',\n",
       "   'e',\n",
       "   'buffet',\n",
       "   'cine',\n",
       "   'got',\n",
       "   'amore',\n",
       "   'wat']),\n",
       " ('ham',\n",
       "  'Ok lar... Joking wif u oni...',\n",
       "  ['ok', 'lar', 'joking', 'wif', 'oni'])]"
      ]
     },
     "execution_count": 80,
     "metadata": {},
     "output_type": "execute_result"
    }
   ],
   "source": [
    "new_rdd = clean_rdd.map(lambda x: (x[0],x[1],[w for w in x[2].split() if w not in STOPWORDS]))\n",
    "new_rdd.take(2)"
   ]
  },
  {
   "cell_type": "code",
   "execution_count": 51,
   "metadata": {},
   "outputs": [
    {
     "name": "stdout",
     "output_type": "stream",
     "text": [
      "6\n"
     ]
    }
   ],
   "source": [
    "def punctF(line):\n",
    "    letters = [chr(x) for x in range(65,91)]\n",
    "    numbers = [chr(x) for x in range(48,58)]\n",
    "    count=0\n",
    "    for letter in line:\n",
    "        if letter.upper() not in letters and letter.upper() not in numbers and letter.upper() != ' ':\n",
    "            count+=1\n",
    "    return count\n",
    "line='I+++[sono]cccc     .'\n",
    "print(punctF(line))"
   ]
  },
  {
   "cell_type": "code",
   "execution_count": 81,
   "metadata": {},
   "outputs": [
    {
     "data": {
      "text/plain": [
       "('spam',\n",
       " 'Had your mobile 11 months or more? U R entitled to Update to the latest colour mobiles with camera for Free! Call The Mobile Update Co FREE on 08002986030',\n",
       " 2,\n",
       " ['mobile',\n",
       "  '11',\n",
       "  'months',\n",
       "  'entitled',\n",
       "  'update',\n",
       "  'latest',\n",
       "  'colour',\n",
       "  'mobiles',\n",
       "  'camera',\n",
       "  'free',\n",
       "  'call',\n",
       "  'mobile',\n",
       "  'update',\n",
       "  'co',\n",
       "  'free',\n",
       "  '08002986030'])"
      ]
     },
     "execution_count": 81,
     "metadata": {},
     "output_type": "execute_result"
    }
   ],
   "source": [
    "#Count of punctuation\n",
    "\n",
    "new_rdd_2=new_rdd.map(lambda y: (y[0],y[1],punctF(y[1]),y[2]))\n",
    "\n",
    " \n",
    "new_rdd_2.take(10)[9]"
   ]
  },
  {
   "cell_type": "code",
   "execution_count": 96,
   "metadata": {},
   "outputs": [
    {
     "data": {
      "text/plain": [
       "11"
      ]
     },
     "execution_count": 96,
     "metadata": {},
     "output_type": "execute_result"
    }
   ],
   "source": [
    "def CountCaps(line):\n",
    "    Caps = [chr(x) for x in range(65,91)]\n",
    "    count=0\n",
    "    words = line.split()\n",
    "    for word in words:\n",
    "        if len(word)<=1:\n",
    "            for letter in word:\n",
    "                if letter in Caps:\n",
    "                    count+=1\n",
    "        else:\n",
    "            if word[1] in Caps:\n",
    "                for letter in word:\n",
    "                    if letter in Caps:\n",
    "                        count+=1\n",
    "    return count\n",
    "line='Io SONO A SPARTA'\n",
    "CountCaps(line)"
   ]
  },
  {
   "cell_type": "code",
   "execution_count": 98,
   "metadata": {},
   "outputs": [
    {
     "data": {
      "text/plain": [
       "('spam',\n",
       " 'WINNER!! As a valued network customer you have been selected to receivea Â£900 prize reward! To claim call 09061701461. Claim code KL341. Valid 12 hours only.',\n",
       " 8,\n",
       " 8,\n",
       " ['winner',\n",
       "  'valued',\n",
       "  'network',\n",
       "  'customer',\n",
       "  'selected',\n",
       "  'receivea',\n",
       "  'â£900',\n",
       "  'prize',\n",
       "  'reward',\n",
       "  'claim',\n",
       "  'call',\n",
       "  '09061701461',\n",
       "  'claim',\n",
       "  'code',\n",
       "  'kl341',\n",
       "  'valid',\n",
       "  '12',\n",
       "  'hours'])"
      ]
     },
     "execution_count": 98,
     "metadata": {},
     "output_type": "execute_result"
    }
   ],
   "source": [
    "#Aggiungiamo il count della maiuscole\n",
    "new_rdd_3=new_rdd_2.map(lambda y: (y[0],y[1],y[2],CountCaps(y[1]),y[3]))\n",
    "\n",
    " \n",
    "new_rdd_3.take(10)[8]"
   ]
  },
  {
   "cell_type": "code",
   "execution_count": 84,
   "metadata": {},
   "outputs": [
    {
     "data": {
      "text/plain": [
       "9"
      ]
     },
     "execution_count": 84,
     "metadata": {},
     "output_type": "execute_result"
    }
   ],
   "source": [
    "line='ciao sono'\n",
    "len(line)"
   ]
  },
  {
   "cell_type": "code",
   "execution_count": 87,
   "metadata": {},
   "outputs": [
    {
     "data": {
      "text/plain": [
       "('spam',\n",
       " \"Free entry in 2 a wkly comp to win FA Cup final tkts 21st May 2005. Text FA to 87121 to receive entry question(std txt rate)T&C's apply 08452810075over18's\",\n",
       " 155,\n",
       " 6,\n",
       " 10,\n",
       " ['free',\n",
       "  'entry',\n",
       "  '2',\n",
       "  'wkly',\n",
       "  'comp',\n",
       "  'win',\n",
       "  'fa',\n",
       "  'cup',\n",
       "  'final',\n",
       "  'tkts',\n",
       "  '21st',\n",
       "  'may',\n",
       "  '2005',\n",
       "  'text',\n",
       "  'fa',\n",
       "  '87121',\n",
       "  'receive',\n",
       "  'entry',\n",
       "  'question(std',\n",
       "  'txt',\n",
       "  \"rate)t&c's\",\n",
       "  'apply',\n",
       "  \"08452810075over18's\"])"
      ]
     },
     "execution_count": 87,
     "metadata": {},
     "output_type": "execute_result"
    }
   ],
   "source": [
    "# Adding the len of message in characters\n",
    "\n",
    "new_rdd_4=new_rdd_3.map(lambda y: (y[0],y[1],len(y[1]),y[2],y[3],y[4]))\n",
    "\n",
    " \n",
    "new_rdd_4.take(10)[3]"
   ]
  },
  {
   "cell_type": "code",
   "execution_count": 99,
   "metadata": {},
   "outputs": [],
   "source": [
    "Header = ['ham/spam','text','len_ch','punct_count','caps_count_ch','bag_of_words']"
   ]
  },
  {
   "cell_type": "code",
   "execution_count": 163,
   "metadata": {},
   "outputs": [
    {
     "data": {
      "text/plain": [
       "0"
      ]
     },
     "execution_count": 163,
     "metadata": {},
     "output_type": "execute_result"
    }
   ],
   "source": [
    "def CountCapsWords(line):\n",
    "    Caps = [chr(x) for x in range(65,91)]\n",
    "    count=0\n",
    "    words = line.split()\n",
    "    for word in words:\n",
    "        if len(word)<=1:\n",
    "            continue\n",
    "        caps_count=0\n",
    "        for letter in word:\n",
    "            if letter in Caps:\n",
    "                caps_count+=1\n",
    "        if caps_count>=2:\n",
    "            count+=1\n",
    "    return count\n",
    "line='Io Sono a Sparta!!!!!!!!!!!!!!!!!! A'\n",
    "CountCapsWords(line)"
   ]
  },
  {
   "cell_type": "code",
   "execution_count": 164,
   "metadata": {},
   "outputs": [
    {
     "data": {
      "text/plain": [
       "('ham',\n",
       " 'U dun say so early hor... U c already then say...',\n",
       " 49,\n",
       " 6,\n",
       " 2,\n",
       " 0,\n",
       " ['dun', 'say', 'early', 'hor', 'c', 'already', 'say'])"
      ]
     },
     "execution_count": 164,
     "metadata": {},
     "output_type": "execute_result"
    }
   ],
   "source": [
    "#counting words in caps lock\n",
    "\n",
    "#Header = ['ham/spam','text','len_ch','punct_count','caps_count_ch','bag_of_words']\n",
    "\n",
    "new_rdd_5=new_rdd_4.map(lambda y: (y[0],y[1],y[2],y[3],y[4],CountCapsWords(y[1]),y[5]))\n",
    "\n",
    " \n",
    "new_rdd_5.take(10)[3]"
   ]
  },
  {
   "cell_type": "code",
   "execution_count": null,
   "metadata": {},
   "outputs": [],
   "source": [
    "#Header = ['ham/spam','text','len_ch','punct_count','caps_count_ch','caps_count_words','bag_of_words']"
   ]
  },
  {
   "cell_type": "code",
   "execution_count": 119,
   "metadata": {},
   "outputs": [
    {
     "data": {
      "text/plain": [
       "1"
      ]
     },
     "execution_count": 119,
     "metadata": {},
     "output_type": "execute_result"
    }
   ],
   "source": [
    "def isLink(line):\n",
    "    words = line.lower().split(\" \") #lower case text\n",
    "    count=0\n",
    "    for letter in words:\n",
    "        for i in range (len(letter)):\n",
    "            if len(letter)> 2:\n",
    "                if letter[i-2]==\"w\" and letter[i-1] ==\"w\" and letter[i] ==\"w\":\n",
    "                    count=1\n",
    "            if len(letter)> 3:\n",
    "                if letter[i-3]==\"h\" and letter[i-2] ==\"t\" and letter[i-1] ==\"t\" and letter[i] ==\"p\":\n",
    "                    count=1\n",
    "    return count\n",
    "\n",
    "\n",
    "line='Io sono SPARTA www.ciao.it a'\n",
    "isLink(line)"
   ]
  },
  {
   "cell_type": "code",
   "execution_count": null,
   "metadata": {},
   "outputs": [],
   "source": []
  },
  {
   "cell_type": "code",
   "execution_count": 165,
   "metadata": {},
   "outputs": [
    {
     "data": {
      "text/plain": [
       "('spam',\n",
       " 'Had your mobile 11 months or more? U R entitled to Update to the latest colour mobiles with camera for Free! Call The Mobile Update Co FREE on 08002986030',\n",
       " 154,\n",
       " 2,\n",
       " 6,\n",
       " 1,\n",
       " 0,\n",
       " ['mobile',\n",
       "  '11',\n",
       "  'months',\n",
       "  'entitled',\n",
       "  'update',\n",
       "  'latest',\n",
       "  'colour',\n",
       "  'mobiles',\n",
       "  'camera',\n",
       "  'free',\n",
       "  'call',\n",
       "  'mobile',\n",
       "  'update',\n",
       "  'co',\n",
       "  'free',\n",
       "  '08002986030'])"
      ]
     },
     "execution_count": 165,
     "metadata": {},
     "output_type": "execute_result"
    }
   ],
   "source": [
    "# Boolean for link\n",
    "\n",
    "#Header = ['ham/spam','text','len_ch','punct_count','caps_count_ch','caps_count_words','bag_of_words']\n",
    "\n",
    "new_rdd_6=new_rdd_5.map(lambda y: (y[0],y[1],y[2],y[3],y[4],y[5],isLink(y[1]),y[6]))\n",
    "\n",
    " \n",
    "new_rdd_6.take(10)[9]"
   ]
  },
  {
   "cell_type": "code",
   "execution_count": null,
   "metadata": {},
   "outputs": [],
   "source": [
    "#Header = ['ham/spam','text','len_ch','punct_count','caps_count_ch','caps_count_words','contains_link','bag_of_words']"
   ]
  },
  {
   "cell_type": "code",
   "execution_count": 142,
   "metadata": {},
   "outputs": [
    {
     "data": {
      "text/plain": [
       "[['spam',\n",
       "  \"Free entry in 2 a wkly comp to win FA Cup final tkts 21st May 2005. Text FA to 87121 to receive entry question(std txt rate)T&C's apply 08452810075over18's\"],\n",
       " ['spam',\n",
       "  \"FreeMsg Hey there darling it's been 3 week's now and no word back! I'd like some fun you up for it still? Tb ok! XxX std chgs to send, Â£1.50 to rcv\"],\n",
       " ['spam',\n",
       "  'WINNER!! As a valued network customer you have been selected to receivea Â£900 prize reward! To claim call 09061701461. Claim code KL341. Valid 12 hours only.'],\n",
       " ['spam',\n",
       "  'Had your mobile 11 months or more? U R entitled to Update to the latest colour mobiles with camera for Free! Call The Mobile Update Co FREE on 08002986030'],\n",
       " ['spam',\n",
       "  'SIX chances to win CASH! From 100 to 20,000 pounds txt> CSH11 and send to 87575. Cost 150p/day, 6days, 16+ TsandCs apply Reply HL 4 info'],\n",
       " ['spam',\n",
       "  'URGENT! You have won a 1 week FREE membership in our Â£100,000 Prize Jackpot! Txt the word: CLAIM to No: 81010 T&C www.dbuk.net LCCLTD POBOX 4403LDNW1A7RW18'],\n",
       " ['spam',\n",
       "  'XXXMobileMovieClub: To use your credit, click the WAP link in the next txt message or click here>> http://wap. xxxmobilemovieclub.com?n=QJKGIGHJJGCBL'],\n",
       " ['spam',\n",
       "  'England v Macedonia - dont miss the goals/team news. Txt ur national team to 87077 eg ENGLAND to 87077 Try:WALES, SCOTLAND 4txt/Ãº1.20 POBOXox36504W45WQ 16+'],\n",
       " ['spam',\n",
       "  'Thanks for your subscription to Ringtone UK your mobile will be charged Â£5/month Please confirm by replying YES or NO. If you reply NO you will not be charged'],\n",
       " ['spam',\n",
       "  '07732584351 - Rodger Burns - MSG = We tried to call you re your reply to our sms for a free nokia mobile + free camcorder. Please call now 08000930705 for delivery tomorrow'],\n",
       " ['spam',\n",
       "  'SMS. ac Sptv: The New Jersey Devils and the Detroit Red Wings play Ice Hockey. Correct or Incorrect? End? Reply END SPTV'],\n",
       " ['spam',\n",
       "  'Congrats! 1 year special cinema pass for 2 is yours. call 09061209465 now! C Suprman V, Matrix3, StarWars3, etc all 4 FREE! bx420-ip4-5we. 150pm. Dont miss out! '],\n",
       " ['spam',\n",
       "  'As a valued customer, I am pleased to advise you that following recent review of your Mob No. you are awarded with a Â£1500 Bonus Prize, call 09066364589'],\n",
       " ['spam',\n",
       "  'Urgent UR awarded a complimentary trip to EuroDisinc Trav, Aco&Entry41 Or Â£1000. To claim txt DIS to 87121 18+6*Â£1.50(moreFrmMob. ShrAcomOrSglSuplt)10, LS1 3AJ'],\n",
       " ['spam',\n",
       "  '\"Did you hear about the new \\\\Divorce Barbie\\\\\"\"? It comes with all of Ken\\'s stuff!\"\"\"'],\n",
       " ['spam',\n",
       "  'Please call our customer service representative on 0800 169 6031 between 10am-9pm as you have WON a guaranteed Â£1000 cash or Â£5000 prize!'],\n",
       " ['spam',\n",
       "  '\"Your free ringtone is waiting to be collected. Simply text the password \\\\MIX\\\\\"\" to 85069 to verify. Get Usher and Britney. FML\"'],\n",
       " ['spam',\n",
       "  'GENT! We are trying to contact you. Last weekends draw shows that you won a Â£1000 prize GUARANTEED. Call 09064012160. Claim Code K52. Valid 12hrs only. 150ppm'],\n",
       " ['spam',\n",
       "  'You are a winner U have been specially selected 2 receive Â£1000 or a 4* holiday (flights inc) speak to a live operator 2 claim 0871277810910p/min (18+) '],\n",
       " ['spam',\n",
       "  'PRIVATE! Your 2004 Account Statement for 07742676969 shows 786 unredeemed Bonus Points. To claim call 08719180248 Identifier Code: 45239 Expires'],\n",
       " ['spam',\n",
       "  'URGENT! Your Mobile No. was awarded Â£2000 Bonus Caller Prize on 5/9/03 This is our final try to contact U! Call from Landline 09064019788 BOX42WR29C, 150PPM'],\n",
       " ['spam',\n",
       "  'Todays Voda numbers ending 7548 are selected to receive a $350 award. If you have a match please call 08712300220 quoting claim code 4041 standard rates app'],\n",
       " ['spam',\n",
       "  'Sunshine Quiz Wkly Q! Win a top Sony DVD player if u know which country the Algarve is in? Txt ansr to 82277. Â£1.50 SP:Tyrone'],\n",
       " ['spam',\n",
       "  \"Want 2 get laid tonight? Want real Dogging locations sent direct 2 ur mob? Join the UK's largest Dogging Network bt Txting GRAVEL to 69888! Nt. ec2a. 31p.msg@150p\"],\n",
       " ['spam',\n",
       "  \"You'll not rcv any more msgs from the chat svc. For FREE Hardcore services text GO to: 69988 If u get nothing u must Age Verify with yr network & try again\"],\n",
       " ['spam',\n",
       "  \"FreeMsg Why haven't you replied to my text? I'm Randy, sexy, female and live local. Luv to hear from u. Netcollex Ltd 08700621170150p per msg reply Stop to end\"],\n",
       " ['spam',\n",
       "  'Customer service annoncement. You have a New Years delivery waiting for you. Please call 07046744435 now to arrange delivery'],\n",
       " ['spam',\n",
       "  'You are a winner U have been specially selected 2 receive Â£1000 cash or a 4* holiday (flights inc) speak to a live operator 2 claim 0871277810810'],\n",
       " ['spam',\n",
       "  '-PLS STOP bootydelious (32/F) is inviting you to be her friend. Reply YES-434 or NO-434 See her: www.SMS.ac/u/bootydelious STOP? Send STOP FRND to 62468'],\n",
       " ['spam',\n",
       "  'BangBabes Ur order is on the way. U SHOULD receive a Service Msg 2 download UR content. If U do not, GoTo wap. bangb. tv on UR mobile internet/service menu']]"
      ]
     },
     "execution_count": 142,
     "metadata": {},
     "output_type": "execute_result"
    }
   ],
   "source": [
    "rdd_tuple.filter(lambda x: x[0]=='spam').take(30)"
   ]
  },
  {
   "cell_type": "code",
   "execution_count": 138,
   "metadata": {},
   "outputs": [
    {
     "name": "stdout",
     "output_type": "stream",
     "text": [
      "7\n"
     ]
    }
   ],
   "source": [
    "def CountNum(line):\n",
    "    numbers = [chr(x) for x in range(48,58)]\n",
    "    count=0\n",
    "    for char in line:\n",
    "        if char in numbers:\n",
    "            count+=1\n",
    "    return count\n",
    "line='0955587/ aaacks  a'\n",
    "print(CountNum(line))"
   ]
  },
  {
   "cell_type": "code",
   "execution_count": 166,
   "metadata": {},
   "outputs": [
    {
     "data": {
      "text/plain": [
       "('spam',\n",
       " 'Had your mobile 11 months or more? U R entitled to Update to the latest colour mobiles with camera for Free! Call The Mobile Update Co FREE on 08002986030',\n",
       " 154,\n",
       " 2,\n",
       " 6,\n",
       " 1,\n",
       " 0,\n",
       " 13,\n",
       " ['mobile',\n",
       "  '11',\n",
       "  'months',\n",
       "  'entitled',\n",
       "  'update',\n",
       "  'latest',\n",
       "  'colour',\n",
       "  'mobiles',\n",
       "  'camera',\n",
       "  'free',\n",
       "  'call',\n",
       "  'mobile',\n",
       "  'update',\n",
       "  'co',\n",
       "  'free',\n",
       "  '08002986030'])"
      ]
     },
     "execution_count": 166,
     "metadata": {},
     "output_type": "execute_result"
    }
   ],
   "source": [
    "#Counting number of numbers in text\n",
    "\n",
    "#Header = ['ham/spam','text','len_ch','punct_count','caps_count_ch','caps_count_words','contains_link','bag_of_words']\n",
    "\n",
    "new_rdd_7=new_rdd_6.map(lambda y: (y[0],y[1],y[2],y[3],y[4],y[5],y[6],CountNum(y[1]),y[7]))\n",
    "\n",
    " \n",
    "new_rdd_7.take(10)[9]"
   ]
  },
  {
   "cell_type": "code",
   "execution_count": null,
   "metadata": {},
   "outputs": [],
   "source": [
    "#Header = ['ham/spam','text','len_ch','punct_count','caps_count_ch','caps_count_words','contains_link','num_count','bag_of_words']"
   ]
  },
  {
   "cell_type": "code",
   "execution_count": 145,
   "metadata": {},
   "outputs": [
    {
     "name": "stdout",
     "output_type": "stream",
     "text": [
      "1\n"
     ]
    }
   ],
   "source": [
    "def CountQuestionMarks(line):\n",
    "    count=0\n",
    "    for char in line:\n",
    "        if char == '?':\n",
    "            count+=1\n",
    "    return count\n",
    "line='0955587/ aaacks  a?'\n",
    "print(CountQuestionMarks(line))"
   ]
  },
  {
   "cell_type": "code",
   "execution_count": 149,
   "metadata": {},
   "outputs": [
    {
     "name": "stdout",
     "output_type": "stream",
     "text": [
      "6\n"
     ]
    }
   ],
   "source": [
    "def CountExclMarks(line):\n",
    "    count=0\n",
    "    for char in line:\n",
    "        if char == '!':\n",
    "            count+=1\n",
    "    return count\n",
    "line='WINN!!!!!   !???'\n",
    "print(CountExclMarks(line))"
   ]
  },
  {
   "cell_type": "code",
   "execution_count": 168,
   "metadata": {},
   "outputs": [
    {
     "data": {
      "text/plain": [
       "('ham',\n",
       " \"As per your request 'Melle Melle (Oru Minnaminunginte Nurungu Vettam)' has been set as your callertune for all Callers. Press *9 to copy your friends Callertune\",\n",
       " 160,\n",
       " 6,\n",
       " 0,\n",
       " 0,\n",
       " 2,\n",
       " 0,\n",
       " 0,\n",
       " 1,\n",
       " ['per',\n",
       "  'request',\n",
       "  \"'melle\",\n",
       "  'melle',\n",
       "  '(oru',\n",
       "  'minnaminunginte',\n",
       "  'nurungu',\n",
       "  \"vettam)'\",\n",
       "  'set',\n",
       "  'callertune',\n",
       "  'callers',\n",
       "  'press',\n",
       "  '*9',\n",
       "  'copy',\n",
       "  'friends',\n",
       "  'callertune'])"
      ]
     },
     "execution_count": 168,
     "metadata": {},
     "output_type": "execute_result"
    }
   ],
   "source": [
    "#counting ! and ?\n",
    "\n",
    "#Header = ['ham/spam','text','len_ch','punct_count','caps_count_ch','caps_count_words','contains_link','num_count','bag_of_words']\n",
    "\n",
    "new_rdd_8=new_rdd_7.map(lambda y: (y[0],y[1],y[2],y[3],CountQuestionMarks(y[1]),CountExclMarks(y[1]),y[4],y[5],y[6],y[7],y[8]))\n",
    "\n",
    " \n",
    "new_rdd_8.take(10)[7]"
   ]
  },
  {
   "cell_type": "code",
   "execution_count": null,
   "metadata": {},
   "outputs": [],
   "source": []
  },
  {
   "cell_type": "markdown",
   "metadata": {},
   "source": [
    "## Step 3: Data Preparation\n"
   ]
  },
  {
   "cell_type": "code",
   "execution_count": null,
   "metadata": {},
   "outputs": [],
   "source": []
  }
 ],
 "metadata": {
  "kernelspec": {
   "display_name": "Python 3",
   "language": "python",
   "name": "python3"
  },
  "language_info": {
   "codemirror_mode": {
    "name": "ipython",
    "version": 3
   },
   "file_extension": ".py",
   "mimetype": "text/x-python",
   "name": "python",
   "nbconvert_exporter": "python",
   "pygments_lexer": "ipython3",
   "version": "3.7.7"
  }
 },
 "nbformat": 4,
 "nbformat_minor": 4
}
