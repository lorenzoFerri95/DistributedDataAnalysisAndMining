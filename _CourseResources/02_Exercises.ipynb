{
 "cells": [
  {
   "cell_type": "code",
   "execution_count": 1,
   "metadata": {},
   "outputs": [],
   "source": [
    "from pyspark import SparkContext\n",
    "# initialize a new Spark Context to use for the execution of the script\n",
    "sc = SparkContext(appName=\"MY-APP-NAME\", master=\"local[*]\")"
   ]
  },
  {
   "cell_type": "code",
   "execution_count": null,
   "metadata": {},
   "outputs": [],
   "source": []
  },
  {
   "cell_type": "code",
   "execution_count": 8,
   "metadata": {},
   "outputs": [],
   "source": [
    "# EXERCISE N.1\n",
    "# Compute the numer of words appearing in both commedies and tragedies and the number of words which are not \n",
    "# present in both the texts\n"
   ]
  },
  {
   "cell_type": "code",
   "execution_count": 11,
   "metadata": {},
   "outputs": [],
   "source": [
    "# EXERCISE N.2\n",
    "# Read the file commedies and count the number of rows containing the word \"skill\"\n"
   ]
  },
  {
   "cell_type": "code",
   "execution_count": 49,
   "metadata": {},
   "outputs": [],
   "source": [
    "# EXERCISE N.3\n",
    "# Read the file commedies and count the number of words having the same second letter.\n"
   ]
  },
  {
   "cell_type": "code",
   "execution_count": 29,
   "metadata": {},
   "outputs": [],
   "source": [
    "# EXERCISE N.4\n",
    "# Create a file with the following list of class,member pairs:\n",
    "# 1,2;1,2;1,3;1,4;1,5;2,1;2,4;2,4;2,7;2,9;3,1;3,2;3,3;3,6;3,1\n",
    "# Read the file and write the code to obtain the list of elements for each class\n"
   ]
  },
  {
   "cell_type": "code",
   "execution_count": 117,
   "metadata": {},
   "outputs": [
    {
     "name": "stdout",
     "output_type": "stream",
     "text": [
      "[(0, 28), (1, 58), (2, 67), (3, 44), (4, 10), (5, 29), (6, 42), (7, 39), (8, 31), (9, 81), (10, 54), (11, 46), (12, 88), (13, 30), (14, 38), (15, 51), (16, 62), (17, 80), (18, 89), (19, 33)]\n"
     ]
    }
   ],
   "source": [
    "# EXERCISE N.5\n",
    "# Generate 1000 random points (x,y) and 20 seed points(a,b). Assign the points to the closer seed and than \n",
    "# count how many points are assigned to each seed.\n"
   ]
  },
  {
   "cell_type": "code",
   "execution_count": null,
   "metadata": {},
   "outputs": [],
   "source": []
  }
 ],
 "metadata": {
  "kernelspec": {
   "display_name": "Python 3",
   "language": "python",
   "name": "python3"
  },
  "language_info": {
   "codemirror_mode": {
    "name": "ipython",
    "version": 3
   },
   "file_extension": ".py",
   "mimetype": "text/x-python",
   "name": "python",
   "nbconvert_exporter": "python",
   "pygments_lexer": "ipython3",
   "version": "3.7.7"
  }
 },
 "nbformat": 4,
 "nbformat_minor": 4
}
