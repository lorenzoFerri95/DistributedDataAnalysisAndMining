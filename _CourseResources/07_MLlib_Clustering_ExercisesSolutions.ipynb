{
 "cells": [
  {
   "cell_type": "markdown",
   "metadata": {},
   "source": [
    "# Exercise Clustering\n",
    "\n",
    "(1) Read the file \"clustering_exercise.txt\" (tvs format), visualize the original data and groups;\n",
    "(2) Perform the clustering on the data;\n",
    "(3) Compare visually the resulting clusters and the original data"
   ]
  },
  {
   "cell_type": "markdown",
   "metadata": {},
   "source": [
    "## Loading all libraries"
   ]
  },
  {
   "cell_type": "code",
   "execution_count": 1,
   "metadata": {},
   "outputs": [],
   "source": [
    "# import spark\n",
    "from pyspark import SparkContext\n",
    "# initialize a new Spark Context to use for the execution of the script\n",
    "sc = SparkContext(appName=\"MY-APP-NAME\", master=\"local[*]\")\n",
    "# prevent useless logging messages\n",
    "sc.setLogLevel(\"ERROR\")"
   ]
  },
  {
   "cell_type": "code",
   "execution_count": 2,
   "metadata": {},
   "outputs": [],
   "source": [
    "%matplotlib inline\n",
    "\n",
    "import numpy as np\n",
    "from pyspark.mllib.clustering import KMeans\n",
    "import matplotlib.pyplot as plt"
   ]
  },
  {
   "cell_type": "markdown",
   "metadata": {},
   "source": [
    "## Read the input file"
   ]
  },
  {
   "cell_type": "code",
   "execution_count": 4,
   "metadata": {},
   "outputs": [],
   "source": [
    "raw_data_rdd = sc.textFile(\"clustering_exercise.txt\")"
   ]
  },
  {
   "cell_type": "markdown",
   "metadata": {},
   "source": [
    "Check the content of `raw_data_rdd`"
   ]
  },
  {
   "cell_type": "code",
   "execution_count": 5,
   "metadata": {},
   "outputs": [
    {
     "data": {
      "text/plain": [
       "['0\\t-3.124335669555818\\t-0.8238869204280516',\n",
       " '0\\t-1.631655282541037\\t-2.813150868834941',\n",
       " '0\\t-1.1312513766433991\\t-1.2842727920630375',\n",
       " '0\\t-3.4837770197998412\\t-0.5950548777092937',\n",
       " '0\\t-1.026738204511106\\t-2.2128310684806842',\n",
       " '0\\t-1.966876746731852\\t-1.1103973218532115',\n",
       " '0\\t-1.547588455852239\\t-1.1604632124538172',\n",
       " '0\\t-1.0317494649457666\\t-1.2686345312148963',\n",
       " '0\\t-1.236075185439029\\t-2.527746243219358',\n",
       " '0\\t-1.978076992374207\\t-1.3106375096991711']"
      ]
     },
     "execution_count": 5,
     "metadata": {},
     "output_type": "execute_result"
    }
   ],
   "source": [
    "raw_data_rdd.take(10)"
   ]
  },
  {
   "cell_type": "markdown",
   "metadata": {},
   "source": [
    "Transform the rdd of lines into an rdd of (float) triples"
   ]
  },
  {
   "cell_type": "code",
   "execution_count": 7,
   "metadata": {},
   "outputs": [
    {
     "data": {
      "text/plain": [
       "[[0.0, -3.124335669555818, -0.8238869204280516],\n",
       " [0.0, -1.631655282541037, -2.813150868834941],\n",
       " [0.0, -1.1312513766433991, -1.2842727920630375],\n",
       " [0.0, -3.4837770197998412, -0.5950548777092937],\n",
       " [0.0, -1.026738204511106, -2.2128310684806842],\n",
       " [0.0, -1.966876746731852, -1.1103973218532115],\n",
       " [0.0, -1.547588455852239, -1.1604632124538172],\n",
       " [0.0, -1.0317494649457666, -1.2686345312148963],\n",
       " [0.0, -1.236075185439029, -2.527746243219358],\n",
       " [0.0, -1.978076992374207, -1.3106375096991711]]"
      ]
     },
     "execution_count": 7,
     "metadata": {},
     "output_type": "execute_result"
    }
   ],
   "source": [
    "cleaned_data_rdd = raw_data_rdd.map(lambda row: [float(x) for x in row.split(\"\\t\")])\n",
    "cleaned_data_rdd.take(10)"
   ]
  },
  {
   "cell_type": "markdown",
   "metadata": {},
   "source": [
    "Fetch the number of known clusters"
   ]
  },
  {
   "cell_type": "code",
   "execution_count": 8,
   "metadata": {},
   "outputs": [
    {
     "name": "stdout",
     "output_type": "stream",
     "text": [
      "There are 5 clusters\n"
     ]
    }
   ],
   "source": [
    "number_clusters = 1 + cleaned_data_rdd.map(lambda triple: int(triple[0])).reduce(lambda l, r: max(l, r))\n",
    "print(\"There are {} clusters\".format(number_clusters))"
   ]
  },
  {
   "cell_type": "markdown",
   "metadata": {},
   "source": [
    "## Training & Predict"
   ]
  },
  {
   "cell_type": "code",
   "execution_count": 7,
   "metadata": {},
   "outputs": [],
   "source": [
    "training_rdd = cleaned_data_rdd.map(lambda row: row[1:])"
   ]
  },
  {
   "cell_type": "code",
   "execution_count": 8,
   "metadata": {},
   "outputs": [],
   "source": [
    "clusters = KMeans.train(training_rdd, number_clusters, maxIterations=20, initializationMode=\"random\")"
   ]
  },
  {
   "cell_type": "code",
   "execution_count": 9,
   "metadata": {},
   "outputs": [
    {
     "name": "stdout",
     "output_type": "stream",
     "text": [
      "SSE is 1540.72\n"
     ]
    }
   ],
   "source": [
    "print(\"SSE is {:.2f}\".format(clusters.computeCost(training_rdd)))"
   ]
  }
 ],
 "metadata": {
  "kernelspec": {
   "display_name": "Python 3",
   "language": "python",
   "name": "python3"
  },
  "language_info": {
   "codemirror_mode": {
    "name": "ipython",
    "version": 3
   },
   "file_extension": ".py",
   "mimetype": "text/x-python",
   "name": "python",
   "nbconvert_exporter": "python",
   "pygments_lexer": "ipython3",
   "version": "3.8.3"
  }
 },
 "nbformat": 4,
 "nbformat_minor": 2
}
