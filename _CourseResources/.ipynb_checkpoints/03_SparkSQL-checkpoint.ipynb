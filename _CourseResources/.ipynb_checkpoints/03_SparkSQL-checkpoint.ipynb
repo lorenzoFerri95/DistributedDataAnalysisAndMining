{
 "cells": [
  {
   "cell_type": "code",
   "execution_count": 1,
   "metadata": {},
   "outputs": [],
   "source": [
    "from pyspark import SparkContext\n",
    "# initialize a new Spark Context to use for the execution of the script\n",
    "sc = SparkContext(appName=\"MY-APP-NAME\", master=\"local[*]\")"
   ]
  },
  {
   "cell_type": "code",
   "execution_count": 2,
   "metadata": {},
   "outputs": [],
   "source": [
    "from pyspark.sql import SQLContext\n",
    "sqlCtx = SQLContext(sc)"
   ]
  },
  {
   "cell_type": "code",
   "execution_count": 17,
   "metadata": {},
   "outputs": [],
   "source": [
    "from pyspark.sql import Row\n",
    "\n",
    "# Load a text file and convert each line to a Row.\n",
    "lines = sc.textFile(\"dataSQL.txt\")\n",
    "parts = lines.map(lambda l: l.split(\",\"))\n",
    "people = parts.map(lambda p: Row(name=p[0], age=int(p[1])))\n",
    "\n",
    "# Infer the schema, and register the DataFrame as a table.\n",
    "schemaPeople = sqlCtx.createDataFrame(people)\n",
    "schemaPeople.createOrReplaceTempView(\"people\")\n",
    "schemaPeople.createOrReplaceTempView(\"others\")"
   ]
  },
  {
   "cell_type": "code",
   "execution_count": 21,
   "metadata": {},
   "outputs": [
    {
     "name": "stdout",
     "output_type": "stream",
     "text": [
      "+----------+\n",
      "|      name|\n",
      "+----------+\n",
      "|    Giulia|\n",
      "|   Camilla|\n",
      "|   Massimo|\n",
      "|Giancarclo|\n",
      "+----------+\n",
      "\n",
      "+---+----------+---+----------+\n",
      "|age|      name|age|      name|\n",
      "+---+----------+---+----------+\n",
      "| 34|  Giovanna| 34|  Giovanna|\n",
      "| 50|     Mauro| 50|     Mauro|\n",
      "| 31|      Andy| 31|      Andy|\n",
      "| 27|   Lorenzo| 27|   Lorenzo|\n",
      "| 17|Giancarclo| 17|Giancarclo|\n",
      "| 41|   Roberto| 41|   Roberto|\n",
      "| 18|   Massimo| 18|   Massimo|\n",
      "| 15|    Giulia| 15|    Giulia|\n",
      "| 15|    Giulia| 15|   Camilla|\n",
      "| 15|   Camilla| 15|    Giulia|\n",
      "| 15|   Camilla| 15|   Camilla|\n",
      "| 30|   Michael| 30|   Michael|\n",
      "+---+----------+---+----------+\n",
      "\n",
      "+-------------------------+--------+\n",
      "|(age % CAST(5 AS BIGINT))|count(1)|\n",
      "+-------------------------+--------+\n",
      "|                        0|       4|\n",
      "|                        1|       2|\n",
      "|                        3|       1|\n",
      "|                        2|       2|\n",
      "|                        4|       1|\n",
      "+-------------------------+--------+\n",
      "\n"
     ]
    }
   ],
   "source": [
    "# SQL can be run over SchemaRDDs that have been registered # as a table.\n",
    "teenagers = sqlCtx.sql(\"\"\"SELECT name FROM people WHERE age >= 13 AND age <= 19\"\"\")\n",
    "teenagers.show()\n",
    "\n",
    "teenagers2 = sqlCtx.sql(\"\"\"SELECT * FROM others, people WHERE others.age = people.age \"\"\")\n",
    "teenagers2.show()\n",
    "\n",
    "teenagers3 = sqlCtx.sql(\"\"\"SELECT age%5, count(*) FROM people group by age%5\"\"\")\n",
    "teenagers3.show()"
   ]
  },
  {
   "cell_type": "code",
   "execution_count": 10,
   "metadata": {},
   "outputs": [
    {
     "name": "stdout",
     "output_type": "stream",
     "text": [
      "+----------+----+\n",
      "|       _c0| _c1|\n",
      "+----------+----+\n",
      "|   Michael|30.0|\n",
      "|      Andy|31.0|\n",
      "|   Roberto|41.0|\n",
      "|   Lorenzo|27.0|\n",
      "|    Giulia|15.0|\n",
      "|   Camilla|15.0|\n",
      "|     Mauro|50.0|\n",
      "|   Massimo|18.0|\n",
      "|  Giovanna|34.0|\n",
      "|Giancarclo|17.0|\n",
      "+----------+----+\n",
      "\n",
      "+----------+----+\n",
      "|      name| age|\n",
      "+----------+----+\n",
      "|   Michael|30.0|\n",
      "|      Andy|31.0|\n",
      "|   Roberto|41.0|\n",
      "|   Lorenzo|27.0|\n",
      "|    Giulia|15.0|\n",
      "|   Camilla|15.0|\n",
      "|     Mauro|50.0|\n",
      "|   Massimo|18.0|\n",
      "|  Giovanna|34.0|\n",
      "|Giancarclo|17.0|\n",
      "+----------+----+\n",
      "\n"
     ]
    }
   ],
   "source": [
    "# Load directly in a Dataframe\n",
    "df = sqlCtx.read.load(\"dataSQL.txt\",\n",
    "                     format=\"csv\", sep=\",\", inferSchema=\"true\", header=\"false\")\n",
    "df.show()\n",
    "\n",
    "df = df.withColumnRenamed(\"_c0\", \"name\")\n",
    "df = df.withColumnRenamed(\"_c1\", \"age\")\n",
    "df.show()"
   ]
  },
  {
   "cell_type": "code",
   "execution_count": 11,
   "metadata": {},
   "outputs": [
    {
     "name": "stdout",
     "output_type": "stream",
     "text": [
      "+---+----------+\n",
      "|age|      name|\n",
      "+---+----------+\n",
      "| 30|   Michael|\n",
      "| 31|      Andy|\n",
      "| 41|   Roberto|\n",
      "| 27|   Lorenzo|\n",
      "| 15|    Giulia|\n",
      "| 15|   Camilla|\n",
      "| 50|     Mauro|\n",
      "| 18|   Massimo|\n",
      "| 34|  Giovanna|\n",
      "| 17|Giancarclo|\n",
      "+---+----------+\n",
      "\n"
     ]
    }
   ],
   "source": [
    "# Register the DataFrame as a global temporary view\n",
    "schemaPeople.createOrReplaceGlobalTempView(\"peoplegl\");\n",
    "sqlCtx.sql(\"SELECT * FROM global_temp.peoplegl\").show();\n",
    "\n"
   ]
  },
  {
   "cell_type": "code",
   "execution_count": 14,
   "metadata": {},
   "outputs": [
    {
     "name": "stdout",
     "output_type": "stream",
     "text": [
      "+---+----------+\n",
      "|age|      name|\n",
      "+---+----------+\n",
      "| 30|   Michael|\n",
      "| 31|      Andy|\n",
      "| 41|   Roberto|\n",
      "| 27|   Lorenzo|\n",
      "| 15|    Giulia|\n",
      "| 15|   Camilla|\n",
      "| 50|     Mauro|\n",
      "| 18|   Massimo|\n",
      "| 34|  Giovanna|\n",
      "| 17|Giancarclo|\n",
      "+---+----------+\n",
      "\n"
     ]
    }
   ],
   "source": [
    "# Global temporary view is cross-session\n",
    "sqlCtx.newSession().sql(\"SELECT * FROM global_temp.peoplegl\").show();\n",
    "# Temporary view doesn't (Next line gives you an error if executed!)\n",
    "#sqlCtx.newSession().sql(\"SELECT * FROM people\").show();"
   ]
  },
  {
   "cell_type": "code",
   "execution_count": 22,
   "metadata": {},
   "outputs": [
    {
     "name": "stdout",
     "output_type": "stream",
     "text": [
      "['Name: Giulia', 'Name: Camilla', 'Name: Massimo', 'Name: Giancarclo']\n"
     ]
    }
   ],
   "source": [
    "# The results of SQL queries are Dataframe objects.\n",
    "# rdd returns the content as an :class:`pyspark.RDD` of :class:`Row`.\n",
    "teenNames = teenagers.rdd.map(lambda p: \"Name: \" + p.name)\n",
    "print (teenNames.collect())"
   ]
  },
  {
   "cell_type": "code",
   "execution_count": 10,
   "metadata": {},
   "outputs": [
    {
     "name": "stdout",
     "output_type": "stream",
     "text": [
      "           0         1         2\n",
      "0   0.470191  0.547261  0.286403\n",
      "1   0.110223  0.260530  0.975768\n",
      "2   0.316238  0.697006  0.703357\n",
      "3   0.728138  0.017595  0.061412\n",
      "4   0.011980  0.870059  0.689020\n",
      "..       ...       ...       ...\n",
      "95  0.507561  0.546946  0.104638\n",
      "96  0.833201  0.812468  0.782769\n",
      "97  0.643570  0.820078  0.872547\n",
      "98  0.962956  0.619839  0.238349\n",
      "99  0.158338  0.463717  0.693046\n",
      "\n",
      "[100 rows x 3 columns]\n"
     ]
    }
   ],
   "source": [
    "import numpy as np\n",
    "import pandas as pd\n",
    "\n",
    "# Generate a Pandas DataFrame\n",
    "pdf = pd.DataFrame(np.random.rand(100, 3))\n",
    "\n",
    "# Create a Spark DataFrame from a Pandas DataFrame using Arrow\n",
    "df = sqlCtx.createDataFrame(pdf)\n",
    "\n",
    "# Convert the Spark DataFrame back to a Pandas DataFrame using Arrow\n",
    "result_pdf = df.select(\"*\").toPandas()\n",
    "\n",
    "print(result_pdf)"
   ]
  },
  {
   "cell_type": "code",
   "execution_count": null,
   "metadata": {},
   "outputs": [],
   "source": []
  }
 ],
 "metadata": {
  "kernelspec": {
   "display_name": "Python 3",
   "language": "python",
   "name": "python3"
  },
  "language_info": {
   "codemirror_mode": {
    "name": "ipython",
    "version": 3
   },
   "file_extension": ".py",
   "mimetype": "text/x-python",
   "name": "python",
   "nbconvert_exporter": "python",
   "pygments_lexer": "ipython3",
   "version": "3.8.3"
  }
 },
 "nbformat": 4,
 "nbformat_minor": 4
}
