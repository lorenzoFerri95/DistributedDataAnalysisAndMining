{
 "cells": [
  {
   "cell_type": "markdown",
   "metadata": {},
   "source": [
    "## Step 1: Data Exploration &  Data Cleaning"
   ]
  },
  {
   "cell_type": "code",
   "execution_count": 1,
   "metadata": {},
   "outputs": [],
   "source": [
    "from pyspark import SparkConf, SparkContext\n",
    "conf = SparkConf()\n",
    "conf.setAppName(\"project\")\n",
    "conf.setMaster(\"local[*]\")\n",
    "sc = SparkContext(conf=conf)"
   ]
  },
  {
   "cell_type": "code",
   "execution_count": 2,
   "metadata": {},
   "outputs": [],
   "source": [
    "import matplotlib.pyplot as plt \n",
    "import numpy as np"
   ]
  },
  {
   "cell_type": "code",
   "execution_count": 3,
   "metadata": {},
   "outputs": [
    {
     "data": {
      "text/plain": [
       "[['v1', 'v2', '', '', ''],\n",
       " ['ham',\n",
       "  '\"Go until jurong point',\n",
       "  ' crazy.. Available only in bugis n great world la e buffet... Cine there got amore wat...\"',\n",
       "  '',\n",
       "  '',\n",
       "  '']]"
      ]
     },
     "execution_count": 3,
     "metadata": {},
     "output_type": "execute_result"
    }
   ],
   "source": [
    "rdd_data = sc.textFile(\"spam_utf.csv\")\n",
    "rdd_tuple = rdd_data.map(lambda x: x.split(','))\n",
    "rdd_tuple.take(2)"
   ]
  },
  {
   "cell_type": "code",
   "execution_count": 4,
   "metadata": {},
   "outputs": [],
   "source": [
    "#replacing comma separator with semicolon\n",
    "import csv\n",
    "text=[]\n",
    "with open(\"spam_utf.csv\", mode=\"r\") as infile:\n",
    "    reader = csv.reader(infile, delimiter=',')\n",
    "    with open(\"spam_utf_semicolon.txt\", mode=\"w\") as outfile:\n",
    "        for row in reader:\n",
    "            writer = csv.writer(outfile, delimiter='<')\n",
    "            text.append(row)\n",
    "        writer.writerows(text)"
   ]
  },
  {
   "cell_type": "code",
   "execution_count": 5,
   "metadata": {},
   "outputs": [
    {
     "data": {
      "text/plain": [
       "[['v1', 'v2', '', '', ''],\n",
       " ['ham',\n",
       "  'Go until jurong point, crazy.. Available only in bugis n great world la e buffet... Cine there got amore wat...',\n",
       "  '',\n",
       "  '',\n",
       "  '']]"
      ]
     },
     "execution_count": 5,
     "metadata": {},
     "output_type": "execute_result"
    }
   ],
   "source": [
    "#creating rdd_tuple by splitting by semicolon\n",
    "rdd_data = sc.textFile(\"spam_utf_semicolon.txt\")\n",
    "rdd_tuple = rdd_data.map(lambda x: x.split('<'))\n",
    "rdd_tuple.take(2)"
   ]
  },
  {
   "cell_type": "code",
   "execution_count": 6,
   "metadata": {},
   "outputs": [
    {
     "data": {
      "text/plain": [
       "[['v1', 'v2'],\n",
       " ['ham',\n",
       "  'Go until jurong point, crazy.. Available only in bugis n great world la e buffet... Cine there got amore wat...'],\n",
       " ['ham', 'Ok lar... Joking wif u oni...'],\n",
       " ['spam',\n",
       "  \"Free entry in 2 a wkly comp to win FA Cup final tkts 21st May 2005. Text FA to 87121 to receive entry question(std txt rate)T&C's apply 08452810075over18's\"],\n",
       " ['ham', 'U dun say so early hor... U c already then say...'],\n",
       " ['ham', \"Nah I don't think he goes to usf, he lives around here though\"],\n",
       " ['spam',\n",
       "  \"FreeMsg Hey there darling it's been 3 week's now and no word back! I'd like some fun you up for it still? Tb ok! XxX std chgs to send, Â£1.50 to rcv\"],\n",
       " ['ham',\n",
       "  'Even my brother is not like to speak with me. They treat me like aids patent.'],\n",
       " ['ham',\n",
       "  \"As per your request 'Melle Melle (Oru Minnaminunginte Nurungu Vettam)' has been set as your callertune for all Callers. Press *9 to copy your friends Callertune\"],\n",
       " ['spam',\n",
       "  'WINNER!! As a valued network customer you have been selected to receivea Â£900 prize reward! To claim call 09061701461. Claim code KL341. Valid 12 hours only.']]"
      ]
     },
     "execution_count": 6,
     "metadata": {},
     "output_type": "execute_result"
    }
   ],
   "source": [
    "#removing 2-3-4 columns\n",
    "rdd_tuple = rdd_tuple.map(lambda row: row[0:2])\n",
    "rdd_tuple.take(10)"
   ]
  },
  {
   "cell_type": "code",
   "execution_count": 7,
   "metadata": {},
   "outputs": [
    {
     "data": {
      "text/plain": [
       "5575"
      ]
     },
     "execution_count": 7,
     "metadata": {},
     "output_type": "execute_result"
    }
   ],
   "source": [
    "#how many sms are there?\n",
    "rdd_tuple.count()"
   ]
  },
  {
   "cell_type": "code",
   "execution_count": 8,
   "metadata": {},
   "outputs": [
    {
     "data": {
      "text/plain": [
       "[('v1', 1), ('ham\"\"\"', 2), ('spam', 747), ('ham', 4825)]"
      ]
     },
     "execution_count": 8,
     "metadata": {},
     "output_type": "execute_result"
    }
   ],
   "source": [
    "#grouping by class\n",
    "list_target = rdd_tuple.map(lambda x: (x[0], 1)) \\\n",
    "                        .reduceByKey(lambda x,y: x+y) \\\n",
    "                        .takeOrdered(10, (lambda x: x[1])) \n",
    "list_target"
   ]
  },
  {
   "cell_type": "code",
   "execution_count": 10,
   "metadata": {
    "scrolled": true
   },
   "outputs": [
    {
     "data": {
      "text/plain": [
       "[['ham',\n",
       "  'Go until jurong point, crazy.. Available only in bugis n great world la e buffet... Cine there got amore wat...'],\n",
       " ['ham', 'Ok lar... Joking wif u oni...'],\n",
       " ['spam',\n",
       "  \"Free entry in 2 a wkly comp to win FA Cup final tkts 21st May 2005. Text FA to 87121 to receive entry question(std txt rate)T&C's apply 08452810075over18's\"],\n",
       " ['ham', 'U dun say so early hor... U c already then say...'],\n",
       " ['ham', \"Nah I don't think he goes to usf, he lives around here though\"]]"
      ]
     },
     "execution_count": 10,
     "metadata": {},
     "output_type": "execute_result"
    }
   ],
   "source": [
    "#removing header from rdd\n",
    "header = rdd_tuple.take(1)\n",
    "rdd_tuple = rdd_tuple.filter(lambda line : line not in header)\n",
    "rdd_tuple.take(5)"
   ]
  },
  {
   "cell_type": "code",
   "execution_count": 14,
   "metadata": {},
   "outputs": [
    {
     "data": {
      "text/plain": [
       "[('ham', 4827), ('spam', 747)]"
      ]
     },
     "execution_count": 14,
     "metadata": {},
     "output_type": "execute_result"
    }
   ],
   "source": [
    "#replacing ham\"\"\" with ham\n",
    "def replace(row):\n",
    "    if row[0]=='ham\"\"\"':\n",
    "        row[0]='ham'\n",
    "    return row\n",
    "\n",
    "\n",
    "lista = rdd_tuple.map(lambda x: replace(x),1)\\\n",
    "                    .map(lambda x: (x[0], 1)) \\\n",
    "                    .reduceByKey(lambda x,y: x+y) \n",
    "lista.collect()"
   ]
  },
  {
   "cell_type": "code",
   "execution_count": 15,
   "metadata": {},
   "outputs": [
    {
     "data": {
      "image/png": "[encoded data removed]",
      "text/plain": [
       "<Figure size 432x288 with 1 Axes>"
      ]
     },
     "metadata": {},
     "output_type": "display_data"
    }
   ],
   "source": [
    "target, count_target = zip(*lista.collect())\n",
    "#plt.figure(figsize=(15,5))\n",
    "plt.pie(count_target, labels=target, autopct='%1.1f%%')\n",
    "plt.title('Ham / Spam distribution')\n",
    "plt.show()"
   ]
  },
  {
   "cell_type": "code",
   "execution_count": 16,
   "metadata": {},
   "outputs": [
    {
     "data": {
      "text/plain": [
       "[('to', 601),\n",
       " ('a', 358),\n",
       " ('or', 185),\n",
       " ('call', 183),\n",
       " ('your', 183),\n",
       " ('the', 177),\n",
       " ('2', 169),\n",
       " ('for', 168),\n",
       " ('you', 164),\n",
       " ('is', 140),\n",
       " ('Call', 134),\n",
       " ('on', 133),\n",
       " ('have', 125),\n",
       " ('and', 117),\n",
       " ('from', 111),\n",
       " ('ur', 107),\n",
       " ('with', 101),\n",
       " ('&', 98),\n",
       " ('of', 93),\n",
       " ('4', 92),\n",
       " ('FREE', 88),\n",
       " ('mobile', 81),\n",
       " ('are', 77),\n",
       " ('our', 75),\n",
       " ('claim', 73),\n",
       " ('To', 73),\n",
       " ('You', 72),\n",
       " ('U', 70),\n",
       " ('Your', 69),\n",
       " ('txt', 68),\n",
       " ('text', 68),\n",
       " ('in', 64),\n",
       " ('now', 64),\n",
       " ('Txt', 63),\n",
       " ('reply', 58),\n",
       " ('free', 56),\n",
       " ('contact', 56),\n",
       " ('-', 53),\n",
       " ('be', 48),\n",
       " ('now!', 48),\n",
       " ('u', 47),\n",
       " ('just', 46),\n",
       " ('send', 45),\n",
       " ('Nokia', 45),\n",
       " ('won', 45),\n",
       " ('get', 45),\n",
       " ('only', 44),\n",
       " ('this', 44),\n",
       " ('per', 44),\n",
       " ('prize', 43)]"
      ]
     },
     "execution_count": 16,
     "metadata": {},
     "output_type": "execute_result"
    }
   ],
   "source": [
    "# most common words in spam sms\n",
    "common_word_spam = rdd_tuple.filter(lambda x: x[0] == \"spam\")\\\n",
    "                            .flatMap(lambda x: [(w,1) for w in x[1].split(' ')]) \\\n",
    "                            .reduceByKey(lambda x,y: x+y)\\\n",
    "                            .takeOrdered(50, (lambda x: -x[1]))\n",
    "common_word_spam"
   ]
  },
  {
   "cell_type": "code",
   "execution_count": 17,
   "metadata": {},
   "outputs": [],
   "source": [
    "common_word_spam2 = rdd_tuple.filter(lambda x: x[0] == \"spam\")\\\n",
    "                            .flatMap(lambda x: [(w,1) for w in x[1].split(' ')]) \\\n",
    "                            .reduceByKey(lambda x,y: x+y)"
   ]
  },
  {
   "cell_type": "code",
   "execution_count": 18,
   "metadata": {},
   "outputs": [
    {
     "data": {
      "image/png": "[encoded data removed]",
      "text/plain": [
       "<Figure size 1080x360 with 1 Axes>"
      ]
     },
     "metadata": {
      "needs_background": "light"
     },
     "output_type": "display_data"
    }
   ],
   "source": [
    "word, count_word = zip(*common_word_spam2.takeOrdered(25, (lambda x: -x[1])))\n",
    "plt.figure(figsize=(15,5))\n",
    "plt.bar(\n",
    "    x=word, height=count_word\n",
    ")\n",
    "plt.show()"
   ]
  },
  {
   "cell_type": "code",
   "execution_count": 19,
   "metadata": {},
   "outputs": [
    {
     "data": {
      "text/plain": [
       "[('to', 1530),\n",
       " ('you', 1458),\n",
       " ('I', 1435),\n",
       " ('the', 1019),\n",
       " ('a', 969),\n",
       " ('and', 738),\n",
       " ('i', 736),\n",
       " ('in', 734),\n",
       " ('u', 645),\n",
       " ('is', 638)]"
      ]
     },
     "execution_count": 19,
     "metadata": {},
     "output_type": "execute_result"
    }
   ],
   "source": [
    "# most common words in non-spam ham sms\n",
    "common_word_spam = rdd_tuple.filter(lambda x: x[0] == \"ham\")\\\n",
    "                            .flatMap(lambda x: [(w,1) for w in x[1].split(' ')]) \\\n",
    "                            .reduceByKey(lambda x,y: x+y)\\\n",
    "                            .takeOrdered(10, (lambda x: -x[1]))\n",
    "common_word_spam"
   ]
  },
  {
   "cell_type": "code",
   "execution_count": 20,
   "metadata": {},
   "outputs": [
    {
     "data": {
      "image/png": "[encoded data removed]",
      "text/plain": [
       "<Figure size 1080x360 with 1 Axes>"
      ]
     },
     "metadata": {
      "needs_background": "light"
     },
     "output_type": "display_data"
    }
   ],
   "source": [
    "common_word_ham2 = rdd_tuple.filter(lambda x: x[0] == \"ham\")\\\n",
    "                            .flatMap(lambda x: [(w,1) for w in x[1].split(' ')]) \\\n",
    "                            .reduceByKey(lambda x,y: x+y)\n",
    "word, count_word = zip(*common_word_ham2.takeOrdered(25, (lambda x: -x[1])))\n",
    "plt.figure(figsize=(15,5))\n",
    "plt.bar(\n",
    "    x=word, height=count_word\n",
    ")\n",
    "plt.show()"
   ]
  },
  {
   "cell_type": "code",
   "execution_count": 18,
   "metadata": {},
   "outputs": [
    {
     "data": {
      "text/plain": [
       "[(('you', 'have'), 69),\n",
       " (('have', 'won'), 52),\n",
       " (('your', 'mobile'), 46),\n",
       " (('please', 'call'), 42),\n",
       " (('won', 'a'), 40),\n",
       " (('to', 'claim'), 39),\n",
       " (('this', 'is'), 38),\n",
       " (('to', 'contact'), 37),\n",
       " (('you', 'are'), 35),\n",
       " (('cash', 'or'), 27)]"
      ]
     },
     "execution_count": 18,
     "metadata": {},
     "output_type": "execute_result"
    }
   ],
   "source": [
    "# most common correlated words in spam sms\n",
    "def line_to_bigram(line):\n",
    "    words = line.lower().split(\" \") #lower case text\n",
    "    return [(words[i-1], words[i]) for i in range(1, len(words))]\n",
    "\n",
    "\n",
    "common_word_spam = rdd_tuple.filter(lambda x: x[0] == \"spam\")\\\n",
    "                            .flatMap(lambda x: line_to_bigram(x[1]))\\\n",
    "                            .map(lambda x: (x, 1)) \\\n",
    "                            .reduceByKey(lambda x,y: x+y) \\\n",
    "                            .takeOrdered(10, (lambda x: -x[1])) \n",
    "\n",
    "common_word_spam"
   ]
  },
  {
   "cell_type": "code",
   "execution_count": 19,
   "metadata": {},
   "outputs": [
    {
     "data": {
      "text/plain": [
       "[(('', '&lt;#&gt;'), 221),\n",
       " (('are', 'you'), 149),\n",
       " (('&lt;#&gt;', ''), 132),\n",
       " (('i', 'am'), 127),\n",
       " (('have', 'a'), 108),\n",
       " (('i', 'will'), 97),\n",
       " (('do', 'you'), 89),\n",
       " (('you', 'are'), 88),\n",
       " (('in', 'the'), 86),\n",
       " (('i', 'have'), 82)]"
      ]
     },
     "execution_count": 19,
     "metadata": {},
     "output_type": "execute_result"
    }
   ],
   "source": [
    "# most common correlated words in ham sms\n",
    "def line_to_bigram(line):\n",
    "    words = line.lower().split(\" \")\n",
    "    return [(words[i-1], words[i]) for i in range(1, len(words))]\n",
    "\n",
    "\n",
    "common_word_spam = rdd_tuple.filter(lambda x: x[0] == \"ham\")\\\n",
    "                            .flatMap(lambda x: line_to_bigram(x[1]))\\\n",
    "                            .map(lambda x: (x, 1)) \\\n",
    "                            .reduceByKey(lambda x,y: x+y) \\\n",
    "                            .takeOrdered(10, (lambda x: -x[1])) \n",
    "\n",
    "common_word_spam"
   ]
  },
  {
   "cell_type": "code",
   "execution_count": 20,
   "metadata": {},
   "outputs": [
    {
     "data": {
      "text/plain": [
       "[('&lt;#&gt;', 276)]"
      ]
     },
     "execution_count": 20,
     "metadata": {},
     "output_type": "execute_result"
    }
   ],
   "source": [
    "# understanding special character \"\"&lt;#&gt\"\n",
    "# how many sms with special char?\n",
    "common_word_spam = rdd_tuple.filter(lambda x: x[0] == \"ham\")\\\n",
    "                            .flatMap(lambda x: [(w,1) for w in x[1].split(' ')]) \\\n",
    "                            .filter(lambda x: x[0] == \"&lt;#&gt;\")\\\n",
    "                            .reduceByKey(lambda x,y: x+y) \n",
    "common_word_spam.collect()"
   ]
  },
  {
   "cell_type": "code",
   "execution_count": 21,
   "metadata": {},
   "outputs": [
    {
     "data": {
      "text/plain": [
       "[['ham',\n",
       "  'Go until jurong point, crazy.. Available only in bugis n great world la e buffet... Cine there got amore wat...']]"
      ]
     },
     "execution_count": 21,
     "metadata": {},
     "output_type": "execute_result"
    }
   ],
   "source": [
    "rdd_tuple.take(1)"
   ]
  },
  {
   "cell_type": "markdown",
   "metadata": {},
   "source": [
    "## Data Enginering & Data Understanding"
   ]
  },
  {
   "cell_type": "markdown",
   "metadata": {},
   "source": [
    "#### Imports"
   ]
  },
  {
   "cell_type": "code",
   "execution_count": 22,
   "metadata": {},
   "outputs": [
    {
     "name": "stderr",
     "output_type": "stream",
     "text": [
      "[nltk_data] Downloading package stopwords to /home/hpsa10/nltk_data...\n",
      "[nltk_data]   Package stopwords is already up-to-date!\n"
     ]
    }
   ],
   "source": [
    "import re\n",
    "import nltk\n",
    "nltk.download('stopwords')\n",
    "from nltk.corpus import stopwords"
   ]
  },
  {
   "cell_type": "markdown",
   "metadata": {},
   "source": [
    "#### Functions"
   ]
  },
  {
   "cell_type": "code",
   "execution_count": 23,
   "metadata": {},
   "outputs": [
    {
     "name": "stdout",
     "output_type": "stream",
     "text": [
      "6\n"
     ]
    }
   ],
   "source": [
    "def CountPunct(line):\n",
    "    letters = [chr(x) for x in range(65,91)]\n",
    "    numbers = [chr(x) for x in range(48,58)]\n",
    "    count=0\n",
    "    for letter in line:\n",
    "        if letter.upper() not in letters and letter.upper() not in numbers and letter.upper() != ' ':\n",
    "            count+=1\n",
    "    return count\n",
    "\n",
    "line='I+++[sono]cccc     .'\n",
    "print(CountPunct(line))"
   ]
  },
  {
   "cell_type": "code",
   "execution_count": 24,
   "metadata": {},
   "outputs": [
    {
     "name": "stdout",
     "output_type": "stream",
     "text": [
      "1\n"
     ]
    }
   ],
   "source": [
    "def CountQuestionMarks(line):\n",
    "    count=0\n",
    "    for char in line:\n",
    "        if char == '?':\n",
    "            count+=1\n",
    "    return count\n",
    "\n",
    "line='0955587/ aaacks  a?'\n",
    "print(CountQuestionMarks(line))"
   ]
  },
  {
   "cell_type": "code",
   "execution_count": 25,
   "metadata": {},
   "outputs": [
    {
     "name": "stdout",
     "output_type": "stream",
     "text": [
      "6\n"
     ]
    }
   ],
   "source": [
    "def CountExclMarks(line):\n",
    "    count=0\n",
    "    for char in line:\n",
    "        if char == '!':\n",
    "            count+=1\n",
    "    return count\n",
    "\n",
    "line='WINN!!!!!   !???'\n",
    "print(CountExclMarks(line))"
   ]
  },
  {
   "cell_type": "code",
   "execution_count": 26,
   "metadata": {},
   "outputs": [
    {
     "data": {
      "text/plain": [
       "11"
      ]
     },
     "execution_count": 26,
     "metadata": {},
     "output_type": "execute_result"
    }
   ],
   "source": [
    "def CountCaps(line):\n",
    "    Caps = [chr(x) for x in range(65,91)]\n",
    "    count=0\n",
    "    words = line.split()\n",
    "    for word in words:\n",
    "        if len(word)<=1:\n",
    "            for letter in word:\n",
    "                if letter in Caps:\n",
    "                    count+=1\n",
    "        else:\n",
    "            if word[1] in Caps:\n",
    "                for letter in word:\n",
    "                    if letter in Caps:\n",
    "                        count+=1\n",
    "    return count\n",
    "\n",
    "line='Io SONO A SPARTA'\n",
    "CountCaps(line)"
   ]
  },
  {
   "cell_type": "code",
   "execution_count": 27,
   "metadata": {},
   "outputs": [
    {
     "data": {
      "text/plain": [
       "0"
      ]
     },
     "execution_count": 27,
     "metadata": {},
     "output_type": "execute_result"
    }
   ],
   "source": [
    "def CountCapsWords(line):\n",
    "    Caps = [chr(x) for x in range(65,91)]\n",
    "    count=0\n",
    "    words = line.split()\n",
    "    for word in words:\n",
    "        if len(word)<=1:\n",
    "            continue\n",
    "        caps_count=0\n",
    "        for letter in word:\n",
    "            if letter in Caps:\n",
    "                caps_count+=1\n",
    "        if caps_count>=2:\n",
    "            count+=1\n",
    "    return count\n",
    "\n",
    "line='Io Sono a Sparta!!!!!!!!!!!!!!!!!! A'\n",
    "CountCapsWords(line)"
   ]
  },
  {
   "cell_type": "code",
   "execution_count": 28,
   "metadata": {},
   "outputs": [
    {
     "data": {
      "text/plain": [
       "1"
      ]
     },
     "execution_count": 28,
     "metadata": {},
     "output_type": "execute_result"
    }
   ],
   "source": [
    "def isLink(line):\n",
    "    words = line.lower().split(\" \") #lower case text\n",
    "    count=0\n",
    "    for letter in words:\n",
    "        for i in range (len(letter)):\n",
    "            if len(letter)> 2:\n",
    "                if letter[i-2]==\"w\" and letter[i-1] ==\"w\" and letter[i] ==\"w\":\n",
    "                    count=1\n",
    "            if len(letter)> 3:\n",
    "                if letter[i-3]==\"h\" and letter[i-2] ==\"t\" and letter[i-1] ==\"t\" and letter[i] ==\"p\":\n",
    "                    count=1\n",
    "    return count\n",
    "\n",
    "line='Io sono SPARTA www.ciao.it a'\n",
    "isLink(line)"
   ]
  },
  {
   "cell_type": "code",
   "execution_count": 29,
   "metadata": {},
   "outputs": [
    {
     "name": "stdout",
     "output_type": "stream",
     "text": [
      "7\n"
     ]
    }
   ],
   "source": [
    "def CountNum(line):\n",
    "    numbers = [chr(x) for x in range(48,58)]\n",
    "    count=0\n",
    "    for char in line:\n",
    "        if char in numbers:\n",
    "            count+=1\n",
    "    return count\n",
    "\n",
    "line='0955587/ aaacks  a'\n",
    "print(CountNum(line))"
   ]
  },
  {
   "cell_type": "code",
   "execution_count": 30,
   "metadata": {},
   "outputs": [
    {
     "name": "stdout",
     "output_type": "stream",
     "text": [
      "['go', 'jurong', 'point', 'crazy', 'available', 'bugis', 'great', 'world', 'la', 'e', 'buffet', 'cine', 'got', 'amore', 'wat']\n"
     ]
    }
   ],
   "source": [
    "STOPWORDS = set(stopwords.words('english'))\n",
    "more_stops = {'ur','n','u','r'}\n",
    "STOPWORDS = STOPWORDS.union(more_stops)\n",
    "\n",
    "def BagOfWords(line, stopwords):\n",
    "    pattern = re.compile(\"[^a-z0-9 ]+\")\n",
    "    x = pattern.sub(' ', line.lower())\n",
    "    return [w for w in x.split() if w not in stopwords]\n",
    "\n",
    "line = 'Go until jurong point, crazy.. Available only in bugis n great world la e buffet... Cine there got amore wat...'\n",
    "print(BagOfWords(line, STOPWORDS))"
   ]
  },
  {
   "cell_type": "markdown",
   "metadata": {},
   "source": [
    "#### Applying functions to RDD"
   ]
  },
  {
   "cell_type": "code",
   "execution_count": 31,
   "metadata": {},
   "outputs": [],
   "source": [
    "Header = ['ham/spam','text','len_ch','punct_count','question_count','excl_count','caps_count_ch','caps_count_words','contains_link','num_count','bag_of_words']"
   ]
  },
  {
   "cell_type": "code",
   "execution_count": 32,
   "metadata": {},
   "outputs": [],
   "source": [
    "rdd_all = rdd_tuple.map(lambda y: (y[0],len(y[1]),\\\n",
    "                                 CountPunct(y[1]),\\\n",
    "                                 CountQuestionMarks(y[1]),\\\n",
    "                                 CountExclMarks(y[1]),\\\n",
    "                                 CountCaps(y[1]),\\\n",
    "                                 CountCapsWords(y[1]),\\\n",
    "                                 isLink(y[1]),\\\n",
    "                                 CountNum(y[1]),\\\n",
    "                                 BagOfWords(y[1], STOPWORDS)))"
   ]
  },
  {
   "cell_type": "code",
   "execution_count": 33,
   "metadata": {},
   "outputs": [
    {
     "data": {
      "text/plain": [
       "[('ham',\n",
       "  111,\n",
       "  9,\n",
       "  0,\n",
       "  0,\n",
       "  0,\n",
       "  0,\n",
       "  0,\n",
       "  0,\n",
       "  ['go',\n",
       "   'jurong',\n",
       "   'point',\n",
       "   'crazy',\n",
       "   'available',\n",
       "   'bugis',\n",
       "   'great',\n",
       "   'world',\n",
       "   'la',\n",
       "   'e',\n",
       "   'buffet',\n",
       "   'cine',\n",
       "   'got',\n",
       "   'amore',\n",
       "   'wat'])]"
      ]
     },
     "execution_count": 33,
     "metadata": {},
     "output_type": "execute_result"
    }
   ],
   "source": [
    "rdd_all.take(1)"
   ]
  },
  {
   "cell_type": "markdown",
   "metadata": {},
   "source": [
    "#### Length of messages"
   ]
  },
  {
   "cell_type": "code",
   "execution_count": 34,
   "metadata": {},
   "outputs": [],
   "source": [
    "rdd_len_ham = rdd_all.filter(lambda x: x[0] == 'ham' and x[1]<200).map(lambda x: x[1])\n",
    "rdd_len_spam = rdd_all.filter(lambda x: x[0] == 'spam' and x[1]<200).map(lambda x: x[1])\n",
    "data_ham=rdd_len_ham.collect()\n",
    "data_spam=rdd_len_spam.collect()"
   ]
  },
  {
   "cell_type": "code",
   "execution_count": 37,
   "metadata": {},
   "outputs": [],
   "source": [
    "data_ham2 = rdd_all.filter(lambda x: x[0] == 'ham').map(lambda x: x[1]).collect()\n",
    "data_spam2 = rdd_all.filter(lambda x: x[0] == 'spam').map(lambda x: x[1]).collect()"
   ]
  },
  {
   "cell_type": "code",
   "execution_count": 38,
   "metadata": {},
   "outputs": [
    {
     "data": {
      "text/plain": [
       "Text(0.5, 1.0, 'Lenght of ham messages box plot')"
      ]
     },
     "execution_count": 38,
     "metadata": {},
     "output_type": "execute_result"
    },
    {
     "data": {
      "image/png": "[encoded data removed]",
      "text/plain": [
       "<Figure size 432x288 with 1 Axes>"
      ]
     },
     "metadata": {
      "needs_background": "light"
     },
     "output_type": "display_data"
    }
   ],
   "source": [
    "plt.boxplot(data_ham2)\n",
    "plt.title('Lenght of ham messages box plot')"
   ]
  },
  {
   "cell_type": "code",
   "execution_count": 39,
   "metadata": {},
   "outputs": [
    {
     "data": {
      "text/plain": [
       "Text(0.5, 1.0, 'Lenght of spam messages box plot')"
      ]
     },
     "execution_count": 39,
     "metadata": {},
     "output_type": "execute_result"
    },
    {
     "data": {
      "image/png": "[encoded data removed]",
      "text/plain": [
       "<Figure size 432x288 with 1 Axes>"
      ]
     },
     "metadata": {
      "needs_background": "light"
     },
     "output_type": "display_data"
    }
   ],
   "source": [
    "plt.boxplot(data_spam2)\n",
    "plt.title('Lenght of spam messages box plot')"
   ]
  },
  {
   "cell_type": "code",
   "execution_count": 40,
   "metadata": {},
   "outputs": [
    {
     "data": {
      "text/plain": [
       "<matplotlib.legend.Legend at 0x7f4a99e7b750>"
      ]
     },
     "execution_count": 40,
     "metadata": {},
     "output_type": "execute_result"
    },
    {
     "data": {
      "image/png": "[encoded data removed]",
      "text/plain": [
       "<Figure size 720x360 with 1 Axes>"
      ]
     },
     "metadata": {
      "needs_background": "light"
     },
     "output_type": "display_data"
    }
   ],
   "source": [
    "x = [x for x in range(0,210,10)]\n",
    "plt.figure(figsize=(10,5))\n",
    "plt.hist(data_ham, weights=np.ones(len(data_ham)) / len(data_ham), alpha=0.7, bins=10, label='Ham')\n",
    "plt.hist(data_spam, weights=np.ones(len(data_spam)) / len(data_spam), alpha=0.7, bins=10, label='Spam')\n",
    "plt.xticks(x)\n",
    "plt.title('Length of message distribution')\n",
    "plt.legend()"
   ]
  },
  {
   "cell_type": "markdown",
   "metadata": {},
   "source": [
    "#### Punctuation Distribution"
   ]
  },
  {
   "cell_type": "code",
   "execution_count": 41,
   "metadata": {},
   "outputs": [],
   "source": [
    "rdd_punct_ham = rdd_all.filter(lambda x: x[0] == 'ham' and x[2]<20).map(lambda x: x[2])\n",
    "rdd_punct_spam = rdd_all.filter(lambda x: x[0] == 'spam' and x[2]<20).map(lambda x: x[2])\n",
    "data_ham=rdd_punct_ham.collect()\n",
    "data_spam=rdd_punct_spam.collect()"
   ]
  },
  {
   "cell_type": "code",
   "execution_count": 42,
   "metadata": {},
   "outputs": [
    {
     "data": {
      "text/plain": [
       "<matplotlib.legend.Legend at 0x7f4a99d85d90>"
      ]
     },
     "execution_count": 42,
     "metadata": {},
     "output_type": "execute_result"
    },
    {
     "data": {
      "image/png": "[encoded data removed]",
      "text/plain": [
       "<Figure size 720x360 with 1 Axes>"
      ]
     },
     "metadata": {
      "needs_background": "light"
     },
     "output_type": "display_data"
    }
   ],
   "source": [
    "x = [x for x in range(0,20,1)]\n",
    "plt.figure(figsize=(10,5))\n",
    "plt.hist(data_ham, weights=np.ones(len(data_ham)) / len(data_ham), alpha=0.7, bins=10, label='Ham')\n",
    "plt.hist(data_spam, weights=np.ones(len(data_spam)) / len(data_spam), alpha=0.7, bins=10, label='Spam')\n",
    "plt.xticks(x)\n",
    "plt.title('Count of punctuation distribution')\n",
    "plt.legend()"
   ]
  },
  {
   "cell_type": "markdown",
   "metadata": {},
   "source": [
    "#### Question Mark  Distribution"
   ]
  },
  {
   "cell_type": "code",
   "execution_count": 43,
   "metadata": {},
   "outputs": [],
   "source": [
    "rdd_q_ham = rdd_all.filter(lambda x: x[0] == 'ham' and x[3]<6).map(lambda x: x[3])\n",
    "rdd_q_spam = rdd_all.filter(lambda x: x[0] == 'spam' and x[3]<6).map(lambda x: x[3])\n",
    "data_ham=rdd_q_ham.collect()\n",
    "data_spam=rdd_q_spam.collect()"
   ]
  },
  {
   "cell_type": "code",
   "execution_count": 44,
   "metadata": {},
   "outputs": [
    {
     "data": {
      "text/plain": [
       "<matplotlib.legend.Legend at 0x7f4a99c9a350>"
      ]
     },
     "execution_count": 44,
     "metadata": {},
     "output_type": "execute_result"
    },
    {
     "data": {
      "image/png": "[encoded data removed]",
      "text/plain": [
       "<Figure size 720x360 with 1 Axes>"
      ]
     },
     "metadata": {
      "needs_background": "light"
     },
     "output_type": "display_data"
    }
   ],
   "source": [
    "plt.figure(figsize=(10,5))\n",
    "plt.hist(data_ham, weights=np.ones(len(data_ham)) / len(data_ham), alpha=0.7, bins=10, label='Ham')\n",
    "plt.hist(data_spam, weights=np.ones(len(data_spam)) / len(data_spam), alpha=0.7, bins=10, label='Spam')\n",
    "#plt.xticks(x)\n",
    "plt.title('Count of question mark distribution')\n",
    "plt.legend()"
   ]
  },
  {
   "cell_type": "markdown",
   "metadata": {},
   "source": [
    "#### Exclamation marks distribution"
   ]
  },
  {
   "cell_type": "code",
   "execution_count": 45,
   "metadata": {},
   "outputs": [],
   "source": [
    "rdd_exc_ham = rdd_all.filter(lambda x: x[0] == 'ham' and x[4]<6).map(lambda x: x[4])\n",
    "rdd_exc_spam = rdd_all.filter(lambda x: x[0] == 'spam' and x[4]<6).map(lambda x: x[4])\n",
    "data_ham=rdd_exc_ham.collect()\n",
    "data_spam=rdd_exc_spam.collect()"
   ]
  },
  {
   "cell_type": "code",
   "execution_count": 46,
   "metadata": {},
   "outputs": [
    {
     "data": {
      "text/plain": [
       "<matplotlib.legend.Legend at 0x7f4a99c4f050>"
      ]
     },
     "execution_count": 46,
     "metadata": {},
     "output_type": "execute_result"
    },
    {
     "data": {
      "image/png": "[encoded data removed]",
      "text/plain": [
       "<Figure size 432x288 with 1 Axes>"
      ]
     },
     "metadata": {
      "needs_background": "light"
     },
     "output_type": "display_data"
    }
   ],
   "source": [
    "#plt.figure(figsize=(10,5))\n",
    "plt.hist(data_ham, weights=np.ones(len(data_ham)) / len(data_ham), alpha=0.8, bins=10, label='Ham')\n",
    "plt.hist(data_spam, weights=np.ones(len(data_spam)) / len(data_spam), alpha=0.6, bins=10, label='Spam')\n",
    "#plt.xticks(x)\n",
    "plt.title('Count of exclamation mark distribution')\n",
    "plt.legend()"
   ]
  },
  {
   "cell_type": "markdown",
   "metadata": {},
   "source": [
    "#### Caps count distribution"
   ]
  },
  {
   "cell_type": "code",
   "execution_count": 47,
   "metadata": {},
   "outputs": [],
   "source": [
    "rdd_caps_ham = rdd_all.filter(lambda x: x[0] == 'ham' and x[5]<30).map(lambda x: x[5])\n",
    "rdd_caps_spam = rdd_all.filter(lambda x: x[0] == 'spam' and x[5]<30).map(lambda x: x[5])\n",
    "data_ham=rdd_caps_ham.collect()\n",
    "data_spam=rdd_caps_spam.collect()"
   ]
  },
  {
   "cell_type": "code",
   "execution_count": 48,
   "metadata": {},
   "outputs": [
    {
     "data": {
      "text/plain": [
       "<matplotlib.legend.Legend at 0x7f4a99bce810>"
      ]
     },
     "execution_count": 48,
     "metadata": {},
     "output_type": "execute_result"
    },
    {
     "data": {
      "image/png": "[encoded data removed]",
      "text/plain": [
       "<Figure size 432x288 with 1 Axes>"
      ]
     },
     "metadata": {
      "needs_background": "light"
     },
     "output_type": "display_data"
    }
   ],
   "source": [
    "#plt.figure(figsize=(10,5))\n",
    "plt.hist(data_ham, weights=np.ones(len(data_ham)) / len(data_ham), alpha=0.8, bins=10, label='Ham')\n",
    "plt.hist(data_spam, weights=np.ones(len(data_spam)) / len(data_spam), alpha=0.6, bins=10, label='Spam')\n",
    "#plt.xticks(x)\n",
    "plt.title('Count of caps distribution')\n",
    "plt.legend()"
   ]
  },
  {
   "cell_type": "markdown",
   "metadata": {},
   "source": [
    "#### Caps word count distribution"
   ]
  },
  {
   "cell_type": "code",
   "execution_count": 49,
   "metadata": {},
   "outputs": [],
   "source": [
    "rdd_wcaps_ham = rdd_all.filter(lambda x: x[0] == 'ham' and x[5]<15).map(lambda x: x[6])\n",
    "rdd_wcaps_spam = rdd_all.filter(lambda x: x[0] == 'spam' and x[5]<15).map(lambda x: x[6])\n",
    "data_ham=rdd_wcaps_ham.collect()\n",
    "data_spam=rdd_wcaps_spam.collect()"
   ]
  },
  {
   "cell_type": "code",
   "execution_count": 50,
   "metadata": {},
   "outputs": [
    {
     "data": {
      "text/plain": [
       "<matplotlib.legend.Legend at 0x7f4a99a94b10>"
      ]
     },
     "execution_count": 50,
     "metadata": {},
     "output_type": "execute_result"
    },
    {
     "data": {
      "image/png": "[encoded data removed]",
      "text/plain": [
       "<Figure size 432x288 with 1 Axes>"
      ]
     },
     "metadata": {
      "needs_background": "light"
     },
     "output_type": "display_data"
    }
   ],
   "source": [
    "#plt.figure(figsize=(10,5))\n",
    "plt.hist(data_ham, weights=np.ones(len(data_ham)) / len(data_ham), alpha=0.8, bins=10, label='Ham')\n",
    "plt.hist(data_spam, weights=np.ones(len(data_spam)) / len(data_spam), alpha=0.6, bins=10, label='Spam')\n",
    "#plt.xticks(x)\n",
    "plt.title('Count of caps word distribution')\n",
    "plt.legend()"
   ]
  },
  {
   "cell_type": "markdown",
   "metadata": {},
   "source": [
    "#### Link dummmy varaible"
   ]
  },
  {
   "cell_type": "code",
   "execution_count": 51,
   "metadata": {},
   "outputs": [
    {
     "data": {
      "text/plain": [
       "<matplotlib.legend.Legend at 0x7f4a999a9d50>"
      ]
     },
     "execution_count": 51,
     "metadata": {},
     "output_type": "execute_result"
    },
    {
     "data": {
      "image/png": "[encoded data removed]",
      "text/plain": [
       "<Figure size 360x360 with 1 Axes>"
      ]
     },
     "metadata": {
      "needs_background": "light"
     },
     "output_type": "display_data"
    }
   ],
   "source": [
    "rdd_link_ham = rdd_all.filter(lambda x: x[0] == 'ham').map(lambda x: x[7])\n",
    "rdd_link_spam = rdd_all.filter(lambda x: x[0] == 'spam').map(lambda x: x[7])\n",
    "data_ham=rdd_link_ham.collect()\n",
    "data_spam=rdd_link_spam.collect()\n",
    "\n",
    "x =[0,1]\n",
    "plt.figure(figsize=(5,5))\n",
    "plt.hist(data_ham, weights=np.ones(len(data_ham)) / len(data_ham), alpha=0.8, bins=10, label='Ham')\n",
    "plt.hist(data_spam, weights=np.ones(len(data_spam)) / len(data_spam), alpha=0.6, bins=10, label='Spam')\n",
    "plt.xticks(x)\n",
    "plt.title('Link dummy variable distribution')\n",
    "plt.legend()"
   ]
  },
  {
   "cell_type": "markdown",
   "metadata": {},
   "source": [
    "#### Count of numbers distribution"
   ]
  },
  {
   "cell_type": "code",
   "execution_count": 52,
   "metadata": {},
   "outputs": [
    {
     "data": {
      "text/plain": [
       "<matplotlib.legend.Legend at 0x7f4a9998ddd0>"
      ]
     },
     "execution_count": 52,
     "metadata": {},
     "output_type": "execute_result"
    },
    {
     "data": {
      "image/png": "[encoded data removed]",
      "text/plain": [
       "<Figure size 360x360 with 1 Axes>"
      ]
     },
     "metadata": {
      "needs_background": "light"
     },
     "output_type": "display_data"
    }
   ],
   "source": [
    "rdd_num_ham = rdd_all.filter(lambda x: x[0] == 'ham').map(lambda x: x[8])\n",
    "rdd_num_spam = rdd_all.filter(lambda x: x[0] == 'spam').map(lambda x: x[8])\n",
    "data_ham=rdd_num_ham.collect()\n",
    "data_spam=rdd_num_spam.collect()\n",
    "\n",
    "plt.figure(figsize=(5,5))\n",
    "plt.hist(data_ham, weights=np.ones(len(data_ham)) / len(data_ham), alpha=0.8, bins=10, label='Ham')\n",
    "plt.hist(data_spam, weights=np.ones(len(data_spam)) / len(data_spam), alpha=0.6, bins=10, label='Spam')\n",
    "#plt.xticks(x)\n",
    "plt.title('Link dummy variable distribution')\n",
    "plt.legend()"
   ]
  },
  {
   "cell_type": "markdown",
   "metadata": {},
   "source": [
    "## Data Pre-processing"
   ]
  },
  {
   "cell_type": "markdown",
   "metadata": {},
   "source": [
    "### With HashingTF"
   ]
  },
  {
   "cell_type": "code",
   "execution_count": 53,
   "metadata": {},
   "outputs": [],
   "source": [
    "from pyspark.mllib.classification import LogisticRegressionWithLBFGS\n",
    "from pyspark.mllib.feature import HashingTF, StandardScaler\n",
    "from pyspark.mllib.feature import LabeledPoint\n",
    "from pyspark.mllib.linalg import Vectors"
   ]
  },
  {
   "cell_type": "code",
   "execution_count": 54,
   "metadata": {},
   "outputs": [],
   "source": [
    "tf_transformer = HashingTF(numFeatures=32768)"
   ]
  },
  {
   "cell_type": "code",
   "execution_count": 55,
   "metadata": {},
   "outputs": [
    {
     "data": {
      "text/plain": [
       "<function pyspark.mllib.linalg.Vectors.sparse(size, *args)>"
      ]
     },
     "execution_count": 55,
     "metadata": {},
     "output_type": "execute_result"
    }
   ],
   "source": [
    "Vectors.sparse"
   ]
  },
  {
   "cell_type": "code",
   "execution_count": 56,
   "metadata": {
    "scrolled": false
   },
   "outputs": [],
   "source": [
    "rdd_new = rdd_all.map(lambda x: (0.0 if x[0] == 'ham' else 1.0,[float(x[1]),float(x[2]),float(x[3]),float(x[4]),float(x[5]),\\\n",
    "                                 float(x[6]),float(x[7]),float(x[8])]+Vectors.dense(tf_transformer.transform(x[9])).tolist()))"
   ]
  },
  {
   "cell_type": "code",
   "execution_count": 57,
   "metadata": {},
   "outputs": [
    {
     "name": "stdout",
     "output_type": "stream",
     "text": [
      "32776 [0, 1, 164, 1505, 4556, 5004, 9762, 12353, 12406, 15689, 17849, 18117, 21089, 24995, 28554, 29822, 31008] [111.0, 9.0, 1.0, 1.0, 1.0, 1.0, 1.0, 1.0, 1.0, 1.0, 1.0, 1.0, 1.0, 1.0, 1.0, 1.0, 1.0]\n"
     ]
    },
    {
     "data": {
      "text/plain": [
       "SparseVector(32776, {0: 111.0, 1: 9.0, 164: 1.0, 1505: 1.0, 4556: 1.0, 5004: 1.0, 9762: 1.0, 12353: 1.0, 12406: 1.0, 15689: 1.0, 17849: 1.0, 18117: 1.0, 21089: 1.0, 24995: 1.0, 28554: 1.0, 29822: 1.0, 31008: 1.0})"
      ]
     },
     "execution_count": 57,
     "metadata": {},
     "output_type": "execute_result"
    }
   ],
   "source": [
    "a=rdd_new.take(1)[0][1] #type list\n",
    "\n",
    "def SparseInput(lis):\n",
    "    indexlist = []\n",
    "    valuelist = []\n",
    "    for i in range(len(lis)):\n",
    "        if lis[i] != 0:\n",
    "            indexlist.append(i)\n",
    "            valuelist.append(lis[i])\n",
    "    return len(lis), indexlist, valuelist\n",
    "    \n",
    "b, c, e = SparseInput(a)\n",
    "print(b,c,e)\n",
    "Vectors.sparse(b, c, e)"
   ]
  },
  {
   "cell_type": "code",
   "execution_count": 58,
   "metadata": {},
   "outputs": [
    {
     "data": {
      "text/plain": [
       "[(0.0,\n",
       "  SparseVector(32776, {0: 111.0, 1: 9.0, 164: 1.0, 1505: 1.0, 4556: 1.0, 5004: 1.0, 9762: 1.0, 12353: 1.0, 12406: 1.0, 15689: 1.0, 17849: 1.0, 18117: 1.0, 21089: 1.0, 24995: 1.0, 28554: 1.0, 29822: 1.0, 31008: 1.0}))]"
      ]
     },
     "execution_count": 58,
     "metadata": {},
     "output_type": "execute_result"
    }
   ],
   "source": [
    "rdd_sparse = rdd_new.map(lambda x: (x[0], Vectors.sparse(SparseInput(x[1])[0],SparseInput(x[1])[1],SparseInput(x[1])[2])))\n",
    "rdd_sparse.take(1)"
   ]
  },
  {
   "cell_type": "code",
   "execution_count": 56,
   "metadata": {},
   "outputs": [
    {
     "data": {
      "text/plain": [
       "[LabeledPoint(0.0, (32776,[0,1,164,1505,4556,5004,9762,12353,12406,15689,17849,18117,21089,24995,28554,29822,31008],[111.0,9.0,1.0,1.0,1.0,1.0,1.0,1.0,1.0,1.0,1.0,1.0,1.0,1.0,1.0,1.0,1.0]))]"
      ]
     },
     "execution_count": 56,
     "metadata": {},
     "output_type": "execute_result"
    }
   ],
   "source": [
    "label_sparse = rdd_sparse.map(lambda x : LabeledPoint(x[0], x[1]))\n",
    "label_sparse.take(1)"
   ]
  },
  {
   "cell_type": "markdown",
   "metadata": {},
   "source": [
    "#### Dense Labeled Point"
   ]
  },
  {
   "cell_type": "code",
   "execution_count": 57,
   "metadata": {},
   "outputs": [],
   "source": [
    "# rdd_dense = rdd_all.map(lambda x: (0.0 if x[0] == 'ham' else 1.0,Vectors.dense([float(x[1]),float(x[2]),float(x[3]),float(x[4]),float(x[5]),\\\n",
    "#                                  float(x[6]),float(x[7]),float(x[8])]+Vectors.dense(tf_transformer.transform(x[9])).tolist())))\n",
    "# label_dense = rdd_dense.map(lambda x : LabeledPoint(x[0], x[1]))\n",
    "# label_dense.take(1)"
   ]
  },
  {
   "cell_type": "markdown",
   "metadata": {},
   "source": [
    "### Without HashingTF"
   ]
  },
  {
   "cell_type": "code",
   "execution_count": 58,
   "metadata": {},
   "outputs": [
    {
     "data": {
      "text/plain": [
       "[(0.0, 111.0, 9.0, 0.0, 0.0, 0.0, 0.0, 0.0, 0.0)]"
      ]
     },
     "execution_count": 58,
     "metadata": {},
     "output_type": "execute_result"
    }
   ],
   "source": [
    "rdd_funct = rdd_all.map(lambda x: (0.0 if x[0] == 'ham' else 1.0,float(x[1]),float(x[2]),float(x[3]),float(x[4]),float(x[5]),\\\n",
    "                                 float(x[6]),float(x[7]),float(x[8])))\n",
    "rdd_funct.take(1)"
   ]
  },
  {
   "cell_type": "code",
   "execution_count": 59,
   "metadata": {},
   "outputs": [
    {
     "data": {
      "text/plain": [
       "[LabeledPoint(0.0, [111.0,9.0,0.0,0.0,0.0,0.0,0.0,0.0])]"
      ]
     },
     "execution_count": 59,
     "metadata": {},
     "output_type": "execute_result"
    }
   ],
   "source": [
    "label_point = rdd_funct.map(lambda x : LabeledPoint(x[0], x[1:]))\n",
    "label_point.take(1)"
   ]
  },
  {
   "cell_type": "markdown",
   "metadata": {},
   "source": [
    "### Split into train and Test sets"
   ]
  },
  {
   "cell_type": "code",
   "execution_count": 60,
   "metadata": {},
   "outputs": [],
   "source": [
    "train_label_sparse, test_label_sparse = label_sparse.randomSplit([0.8,0.2], seed=1)\n",
    "train_label_point, test_label_point = label_point.randomSplit([0.8,0.2], seed=1)"
   ]
  },
  {
   "cell_type": "code",
   "execution_count": 61,
   "metadata": {},
   "outputs": [],
   "source": [
    "# labels_NoTF= train_label_point.map(lambda x : x.label)\n",
    "# features_NoTF= train_label_point.map(lambda x : x.features)\n",
    "# features_NoTF.take(3)"
   ]
  },
  {
   "cell_type": "markdown",
   "metadata": {},
   "source": [
    "## Modeling"
   ]
  },
  {
   "cell_type": "markdown",
   "metadata": {},
   "source": [
    "#### Imports"
   ]
  },
  {
   "cell_type": "code",
   "execution_count": 62,
   "metadata": {},
   "outputs": [],
   "source": [
    "from pyspark.ml import Pipeline\n",
    "from pyspark.ml.classification import RandomForestClassifier\n",
    "from pyspark.mllib.tree import RandomForest, RandomForestModel\n",
    "from pyspark.mllib.util import MLUtils \n",
    "from pyspark.ml.tuning import CrossValidator, ParamGridBuilder\n",
    "from pyspark.ml.evaluation import MulticlassClassificationEvaluator\n",
    "import seaborn as sn\n",
    "import pandas as pd\n",
    "import sklearn.metrics"
   ]
  },
  {
   "cell_type": "markdown",
   "metadata": {},
   "source": [
    "#### Functions"
   ]
  },
  {
   "cell_type": "code",
   "execution_count": 63,
   "metadata": {},
   "outputs": [],
   "source": [
    "# auxiliar function\n",
    "def confusion_matrix(labels, predictions):\n",
    "    counts_rdd = predictions.zip(labels).map(lambda k: (k,1)).reduceByKey(lambda l,r: l+r)\n",
    "    counts = dict(((i,j),0) for i in [0,1] for j in [0,1])  # set to 0 all the entries\n",
    "    counts.update( dict(counts_rdd.collect()) )  # update the non-0 entries\n",
    "    confusion_matrix = [\n",
    "        [\n",
    "            counts[(pred,act)]\n",
    "            for act in [0,1]\n",
    "        ] for pred in [0,1]\n",
    "    ]\n",
    "    df_cm = pd.DataFrame(confusion_matrix, index = [\"Pred 0\", \"Pred 1\"], columns = [\"Act 0\", \"Act 1\"])\n",
    "    sn.heatmap(df_cm, annot=True, fmt='', annot_kws={\"size\": 14})"
   ]
  },
  {
   "cell_type": "code",
   "execution_count": 64,
   "metadata": {},
   "outputs": [],
   "source": [
    "def ModelEvaluation(model, trainingData, testData, showTrees=False, showMatrix=False):\n",
    "    \n",
    "    train_labels= trainingData.map(lambda x : x.label)\n",
    "    train_features= trainingData.map(lambda x : x.features)\n",
    "    test_labels= testData.map(lambda x : x.label)\n",
    "    test_features= testData.map(lambda x : x.features)\n",
    "    \n",
    "    predictions_train = model.predict(trainingData.map(lambda x: x.features))\n",
    "    labelsAndPredictions_train = trainingData.map(lambda lp: lp.label).zip(predictions_train)\n",
    "    testErr_train = labelsAndPredictions_train.filter(lambda lp: lp[0] != lp[1]).count() / float(trainingData.count())\n",
    "\n",
    "    predictions = model.predict(testData.map(lambda x: x.features))\n",
    "    labelsAndPredictions = testData.map(lambda lp: lp.label).zip(predictions)\n",
    "    testErr = labelsAndPredictions.filter(lambda lp: lp[0] != lp[1]).count() / float(testData.count())\n",
    "    \n",
    "    print('Train Error = ' + str(testErr_train))\n",
    "    print('Test Error = ' + str(testErr))    \n",
    "    print()\n",
    "    print('Train set:')\n",
    "    print(\"Accuracy:\", round(sklearn.metrics.accuracy_score(train_labels.collect(),predictions_train.collect()),4))\n",
    "    print(\"Precision:\", round(sklearn.metrics.precision_score(train_labels.collect(),predictions_train.collect()),4))\n",
    "    print(\"Recall:\", round(sklearn.metrics.recall_score(train_labels.collect(),predictions_train.collect()),4))\n",
    "    print()\n",
    "    print('Test set:')\n",
    "    print(\"Accuracy:\", round(sklearn.metrics.accuracy_score(test_labels.collect(),predictions.collect()),4))\n",
    "    print(\"Precision:\", round(sklearn.metrics.precision_score(test_labels.collect(),predictions.collect()),4))\n",
    "    print(\"Recall:\", round(sklearn.metrics.recall_score(test_labels.collect(),predictions.collect()),4))\n",
    "    \n",
    "    if showMatrix:\n",
    "        confusion_matrix(test_labels, predictions)\n",
    "    \n",
    "    if showTrees:\n",
    "        print()\n",
    "        print('Learned classification forest model:')\n",
    "        print(model.toDebugString())"
   ]
  },
  {
   "cell_type": "markdown",
   "metadata": {},
   "source": [
    "#### Without HashingTF"
   ]
  },
  {
   "cell_type": "code",
   "execution_count": 45,
   "metadata": {},
   "outputs": [],
   "source": [
    "trainingData = train_label_point\n",
    "testData = test_label_point"
   ]
  },
  {
   "cell_type": "markdown",
   "metadata": {},
   "source": [
    "#### ------------ Random Forest"
   ]
  },
  {
   "cell_type": "code",
   "execution_count": 46,
   "metadata": {},
   "outputs": [],
   "source": [
    "rf = RandomForest.trainClassifier(trainingData, numClasses=2, categoricalFeaturesInfo={},\n",
    "numTrees=10, featureSubsetStrategy=\"auto\",\n",
    "impurity='gini', maxDepth=6, maxBins=100, seed=0)"
   ]
  },
  {
   "cell_type": "code",
   "execution_count": 47,
   "metadata": {},
   "outputs": [
    {
     "name": "stdout",
     "output_type": "stream",
     "text": [
      "Train Error = 0.01409080742563185\n",
      "Test Error = 0.019038984587488667\n",
      "\n",
      "Train set:\n",
      "Accuracy: 0.9859\n",
      "Precision: 0.9736\n",
      "Recall: 0.9201\n",
      "\n",
      "Test set:\n",
      "Accuracy: 0.981\n",
      "Precision: 0.9774\n",
      "Recall: 0.8784\n"
     ]
    },
    {
     "data": {
      "image/png": "[encoded data removed]",
      "text/plain": [
       "<Figure size 432x288 with 2 Axes>"
      ]
     },
     "metadata": {
      "needs_background": "light"
     },
     "output_type": "display_data"
    }
   ],
   "source": [
    "ModelEvaluation(rf, trainingData, testData, showMatrix=True)"
   ]
  },
  {
   "cell_type": "code",
   "execution_count": 48,
   "metadata": {},
   "outputs": [
    {
     "name": "stdout",
     "output_type": "stream",
     "text": [
      "['ham/spam', 'text', 'len_ch', 'punct_count', 'question_count', 'excl_count', 'caps_count_ch', 'caps_count_words', 'contains_link', 'num_count', 'bag_of_words']\n"
     ]
    }
   ],
   "source": [
    "print(Header)"
   ]
  },
  {
   "cell_type": "markdown",
   "metadata": {},
   "source": [
    "#### ------------ Decision Tree"
   ]
  },
  {
   "cell_type": "code",
   "execution_count": 49,
   "metadata": {},
   "outputs": [],
   "source": [
    "from pyspark.mllib.tree import DecisionTree, DecisionTreeModel\n",
    "from pyspark.mllib.util import MLUtils"
   ]
  },
  {
   "cell_type": "code",
   "execution_count": 50,
   "metadata": {},
   "outputs": [],
   "source": [
    "# Train a DecisionTree model.\n",
    "\n",
    "dt = DecisionTree.trainClassifier(trainingData, numClasses=2, categoricalFeaturesInfo={},\n",
    "impurity='gini', maxDepth=5, maxBins=32)"
   ]
  },
  {
   "cell_type": "code",
   "execution_count": 215,
   "metadata": {},
   "outputs": [
    {
     "name": "stdout",
     "output_type": "stream",
     "text": [
      "Train Error = 0.01409080742563185\n",
      "Test Error = 0.019945602901178604\n",
      "\n",
      "Train set:\n",
      "Accuracy: 0.9859\n",
      "Precision: 0.9786\n",
      "Recall: 0.9151\n",
      "\n",
      "Test set:\n",
      "Accuracy: 0.9801\n",
      "Precision: 0.9846\n",
      "Recall: 0.8649\n",
      "\n",
      "Learned classification forest model:\n",
      "DecisionTreeModel classifier of depth 5 with 37 nodes\n",
      "  If (feature 7 <= 4.5)\n",
      "   If (feature 6 <= 0.5)\n",
      "    If (feature 5 <= 1.5)\n",
      "     Predict: 0.0\n",
      "    Else (feature 5 > 1.5)\n",
      "     If (feature 7 <= 1.5)\n",
      "      Predict: 0.0\n",
      "     Else (feature 7 > 1.5)\n",
      "      If (feature 4 <= 17.5)\n",
      "       Predict: 1.0\n",
      "      Else (feature 4 > 17.5)\n",
      "       Predict: 0.0\n",
      "   Else (feature 6 > 0.5)\n",
      "    If (feature 4 <= 0.5)\n",
      "     If (feature 1 <= 9.5)\n",
      "      If (feature 3 <= 1.5)\n",
      "       Predict: 1.0\n",
      "      Else (feature 3 > 1.5)\n",
      "       Predict: 0.0\n",
      "     Else (feature 1 > 9.5)\n",
      "      Predict: 0.0\n",
      "    Else (feature 4 > 0.5)\n",
      "     Predict: 1.0\n",
      "  Else (feature 7 > 4.5)\n",
      "   If (feature 7 <= 9.5)\n",
      "    If (feature 4 <= 0.5)\n",
      "     If (feature 0 <= 20.5)\n",
      "      Predict: 1.0\n",
      "     Else (feature 0 > 20.5)\n",
      "      If (feature 6 <= 0.5)\n",
      "       Predict: 0.0\n",
      "      Else (feature 6 > 0.5)\n",
      "       Predict: 1.0\n",
      "    Else (feature 4 > 0.5)\n",
      "     If (feature 1 <= 10.5)\n",
      "      If (feature 2 <= 2.5)\n",
      "       Predict: 1.0\n",
      "      Else (feature 2 > 2.5)\n",
      "       Predict: 0.0\n",
      "     Else (feature 1 > 10.5)\n",
      "      If (feature 0 <= 156.5)\n",
      "       Predict: 1.0\n",
      "      Else (feature 0 > 156.5)\n",
      "       Predict: 0.0\n",
      "   Else (feature 7 > 9.5)\n",
      "    If (feature 1 <= 24.5)\n",
      "     If (feature 5 <= 0.5)\n",
      "      If (feature 1 <= 14.5)\n",
      "       Predict: 1.0\n",
      "      Else (feature 1 > 14.5)\n",
      "       Predict: 0.0\n",
      "     Else (feature 5 > 0.5)\n",
      "      Predict: 1.0\n",
      "    Else (feature 1 > 24.5)\n",
      "     Predict: 0.0\n",
      "\n"
     ]
    },
    {
     "data": {
      "image/png": "[encoded data removed]",
      "text/plain": [
       "<Figure size 432x288 with 2 Axes>"
      ]
     },
     "metadata": {
      "needs_background": "light"
     },
     "output_type": "display_data"
    }
   ],
   "source": [
    "ModelEvaluation(dt, trainingData, testData, showMatrix=True, showTrees=True)"
   ]
  },
  {
   "cell_type": "markdown",
   "metadata": {},
   "source": [
    "#### ------------ Logistic Regression"
   ]
  },
  {
   "cell_type": "code",
   "execution_count": 53,
   "metadata": {},
   "outputs": [],
   "source": [
    "from pyspark.mllib.classification import LogisticRegressionWithLBFGS, LogisticRegressionModel"
   ]
  },
  {
   "cell_type": "code",
   "execution_count": 54,
   "metadata": {},
   "outputs": [],
   "source": [
    "lr = LogisticRegressionWithLBFGS.train(trainingData)"
   ]
  },
  {
   "cell_type": "code",
   "execution_count": 55,
   "metadata": {},
   "outputs": [
    {
     "name": "stdout",
     "output_type": "stream",
     "text": [
      "Train Error = 0.03086557817043167\n",
      "Test Error = 0.038077969174977334\n",
      "\n",
      "Train set:\n",
      "Accuracy: 0.9691\n",
      "Precision: 0.9112\n",
      "Recall: 0.8536\n",
      "\n",
      "Test set:\n",
      "Accuracy: 0.9619\n",
      "Precision: 0.8786\n",
      "Recall: 0.8311\n"
     ]
    },
    {
     "data": {
      "image/png": "[encoded data removed]",
      "text/plain": [
       "<Figure size 432x288 with 2 Axes>"
      ]
     },
     "metadata": {
      "needs_background": "light"
     },
     "output_type": "display_data"
    }
   ],
   "source": [
    "ModelEvaluation(lr, trainingData, testData, showMatrix=True)"
   ]
  },
  {
   "cell_type": "markdown",
   "metadata": {},
   "source": [
    "#### ------------ Gradient Boost Classifier"
   ]
  },
  {
   "cell_type": "code",
   "execution_count": 73,
   "metadata": {},
   "outputs": [],
   "source": [
    "from pyspark.mllib.tree import GradientBoostedTrees"
   ]
  },
  {
   "cell_type": "code",
   "execution_count": 57,
   "metadata": {},
   "outputs": [],
   "source": [
    "gbc = GradientBoostedTrees.trainClassifier(trainingData, categoricalFeaturesInfo={}, numIterations=10)"
   ]
  },
  {
   "cell_type": "code",
   "execution_count": 58,
   "metadata": {},
   "outputs": [
    {
     "name": "stdout",
     "output_type": "stream",
     "text": [
      "Train Error = 0.01945873406396779\n",
      "Test Error = 0.027198549410698096\n",
      "\n",
      "Train set:\n",
      "Accuracy: 0.9805\n",
      "Precision: 0.9795\n",
      "Recall: 0.8735\n",
      "\n",
      "Test set:\n",
      "Accuracy: 0.9728\n",
      "Precision: 0.9683\n",
      "Recall: 0.8243\n"
     ]
    },
    {
     "data": {
      "image/png": "[encoded data removed]",
      "text/plain": [
       "<Figure size 432x288 with 2 Axes>"
      ]
     },
     "metadata": {
      "needs_background": "light"
     },
     "output_type": "display_data"
    }
   ],
   "source": [
    "ModelEvaluation(gbc, trainingData, testData, showMatrix=True)"
   ]
  },
  {
   "cell_type": "markdown",
   "metadata": {},
   "source": [
    "### Adding a new feature - Frequent words in ham and spam"
   ]
  },
  {
   "cell_type": "code",
   "execution_count": 65,
   "metadata": {},
   "outputs": [],
   "source": [
    "train_rdd_all, test_rdd_all = rdd_all.randomSplit([0.8,0.2], seed=1)"
   ]
  },
  {
   "cell_type": "code",
   "execution_count": 66,
   "metadata": {},
   "outputs": [
    {
     "data": {
      "text/plain": [
       "[('gt', 274),\n",
       " ('lt', 272),\n",
       " ('get', 251),\n",
       " ('ok', 231),\n",
       " ('go', 206),\n",
       " ('call', 193),\n",
       " ('good', 193),\n",
       " ('know', 192),\n",
       " ('got', 186),\n",
       " ('like', 182),\n",
       " ('come', 179),\n",
       " ('day', 177),\n",
       " ('time', 160),\n",
       " ('love', 157),\n",
       " ('want', 139),\n",
       " ('one', 133),\n",
       " ('da', 131),\n",
       " ('lor', 130),\n",
       " ('home', 129),\n",
       " ('going', 127),\n",
       " ('need', 126),\n",
       " ('still', 124),\n",
       " ('sorry', 118),\n",
       " ('today', 115),\n",
       " ('k', 114)]"
      ]
     },
     "execution_count": 66,
     "metadata": {},
     "output_type": "execute_result"
    }
   ],
   "source": [
    "numbers = [str(x) for x in range(100)]\n",
    "\n",
    "word_ham = train_rdd_all.filter(lambda x: x[0] == \"ham\")\\\n",
    "                            .flatMap(lambda x: [(w,1) for w in x[9] if w not in numbers]) \\\n",
    "                            .reduceByKey(lambda x,y: x+y)\\\n",
    "                            .takeOrdered(25, (lambda x: -x[1]))\n",
    "word_ham"
   ]
  },
  {
   "cell_type": "code",
   "execution_count": 67,
   "metadata": {},
   "outputs": [
    {
     "data": {
      "text/plain": [
       "[('call', 290),\n",
       " ('free', 192),\n",
       " ('txt', 126),\n",
       " ('mobile', 108),\n",
       " ('stop', 95),\n",
       " ('claim', 93),\n",
       " ('text', 86),\n",
       " ('reply', 83),\n",
       " ('www', 81),\n",
       " ('prize', 74),\n",
       " ('get', 73),\n",
       " ('uk', 62),\n",
       " ('new', 61),\n",
       " ('send', 57),\n",
       " ('nokia', 56),\n",
       " ('cash', 55),\n",
       " ('week', 54),\n",
       " ('tone', 53),\n",
       " ('urgent', 52),\n",
       " ('150p', 49),\n",
       " ('co', 48),\n",
       " ('win', 46),\n",
       " ('c', 46),\n",
       " ('please', 45),\n",
       " ('contact', 45)]"
      ]
     },
     "execution_count": 67,
     "metadata": {},
     "output_type": "execute_result"
    }
   ],
   "source": [
    "word_spam = train_rdd_all.filter(lambda x: x[0] == \"spam\")\\\n",
    "                            .flatMap(lambda x: [(w,1) for w in x[9] if w not in numbers]) \\\n",
    "                            .reduceByKey(lambda x,y: x+y)\\\n",
    "                            .takeOrdered(25, (lambda x: -x[1]))\n",
    "word_spam"
   ]
  },
  {
   "cell_type": "code",
   "execution_count": 68,
   "metadata": {},
   "outputs": [],
   "source": [
    "spam_set = set([w[0] for w in word_spam])\n",
    "ham_set = set([w[0] for w in word_ham])\n",
    "\n",
    "def CountWords(bow, word_set):\n",
    "    count=0\n",
    "    for word in bow:\n",
    "        if word in word_set:\n",
    "            count+=1\n",
    "    return float(count)"
   ]
  },
  {
   "cell_type": "code",
   "execution_count": 86,
   "metadata": {},
   "outputs": [
    {
     "data": {
      "text/plain": [
       "[('ham',\n",
       "  111,\n",
       "  9,\n",
       "  0,\n",
       "  0,\n",
       "  0,\n",
       "  0,\n",
       "  0,\n",
       "  0,\n",
       "  ['go',\n",
       "   'jurong',\n",
       "   'point',\n",
       "   'crazy',\n",
       "   'available',\n",
       "   'bugis',\n",
       "   'great',\n",
       "   'world',\n",
       "   'la',\n",
       "   'e',\n",
       "   'buffet',\n",
       "   'cine',\n",
       "   'got',\n",
       "   'amore',\n",
       "   'wat'])]"
      ]
     },
     "execution_count": 86,
     "metadata": {},
     "output_type": "execute_result"
    }
   ],
   "source": [
    "rdd_all.take(1)"
   ]
  },
  {
   "cell_type": "code",
   "execution_count": 69,
   "metadata": {},
   "outputs": [
    {
     "data": {
      "text/plain": [
       "[(0.0, 111.0, 9.0, 0.0, 0.0, 0.0, 0.0, 0.0, 0.0, 2.0, 0.0),\n",
       " (0.0, 29.0, 6.0, 0.0, 0.0, 0.0, 0.0, 0.0, 0.0, 1.0, 0.0),\n",
       " (1.0, 155.0, 6.0, 0.0, 0.0, 4.0, 3.0, 0.0, 25.0, 0.0, 5.0),\n",
       " (0.0, 49.0, 6.0, 0.0, 0.0, 2.0, 0.0, 0.0, 0.0, 0.0, 1.0),\n",
       " (0.0, 61.0, 2.0, 0.0, 0.0, 1.0, 0.0, 0.0, 0.0, 0.0, 0.0),\n",
       " (1.0, 148.0, 10.0, 1.0, 2.0, 0.0, 2.0, 0.0, 4.0, 3.0, 2.0),\n",
       " (0.0, 77.0, 2.0, 0.0, 0.0, 0.0, 0.0, 0.0, 0.0, 2.0, 0.0),\n",
       " (0.0, 160.0, 6.0, 0.0, 0.0, 2.0, 0.0, 0.0, 1.0, 0.0, 0.0),\n",
       " (1.0, 158.0, 8.0, 0.0, 3.0, 8.0, 2.0, 0.0, 19.0, 1.0, 4.0),\n",
       " (1.0, 154.0, 2.0, 1.0, 1.0, 6.0, 1.0, 0.0, 13.0, 1.0, 6.0)]"
      ]
     },
     "execution_count": 69,
     "metadata": {},
     "output_type": "execute_result"
    }
   ],
   "source": [
    "rdd_all_two = rdd_all.map(lambda x: (0.0 if x[0] == 'ham' else 1.0,float(x[1]),float(x[2]),float(x[3]),float(x[4]),float(x[5]),\\\n",
    "                                 float(x[6]),float(x[7]),float(x[8]),\\\n",
    "                                     CountWords(x[9],ham_set),CountWords(x[9],spam_set)))\n",
    "\n",
    "rdd_all_two.take(10)"
   ]
  },
  {
   "cell_type": "code",
   "execution_count": 70,
   "metadata": {},
   "outputs": [
    {
     "data": {
      "text/plain": [
       "[LabeledPoint(0.0, [111.0,9.0,0.0,0.0,0.0,0.0,0.0,0.0,2.0,0.0])]"
      ]
     },
     "execution_count": 70,
     "metadata": {},
     "output_type": "execute_result"
    }
   ],
   "source": [
    "label_point_two = rdd_all_two.map(lambda x : LabeledPoint(x[0], x[1:]))\n",
    "label_point_two.take(1)"
   ]
  },
  {
   "cell_type": "code",
   "execution_count": 71,
   "metadata": {},
   "outputs": [],
   "source": [
    "train_label_point_two, test_label_point_two = label_point_two.randomSplit([0.8,0.2], seed=1)\n",
    "\n",
    "trainingData_two = train_label_point_two\n",
    "testData_two = test_label_point_two"
   ]
  },
  {
   "cell_type": "markdown",
   "metadata": {},
   "source": [
    "#### -----Random Forest (second attempt)"
   ]
  },
  {
   "cell_type": "code",
   "execution_count": 90,
   "metadata": {},
   "outputs": [],
   "source": [
    "rf_two = RandomForest.trainClassifier(trainingData_two, numClasses=2, categoricalFeaturesInfo={},\n",
    "numTrees=54, featureSubsetStrategy=\"auto\",\n",
    "impurity='gini', maxDepth=6, maxBins=100, seed=0)"
   ]
  },
  {
   "cell_type": "code",
   "execution_count": 91,
   "metadata": {},
   "outputs": [
    {
     "name": "stdout",
     "output_type": "stream",
     "text": [
      "Train Error = 0.009170208007157236\n",
      "Test Error = 0.013599274705349048\n",
      "\n",
      "Train set:\n",
      "Accuracy: 0.9908\n",
      "Precision: 1.0\n",
      "Recall: 0.9318\n",
      "\n",
      "Test set:\n",
      "Accuracy: 0.9864\n",
      "Precision: 0.9784\n",
      "Recall: 0.9189\n"
     ]
    },
    {
     "data": {
      "image/png": "[encoded data removed]",
      "text/plain": [
       "<Figure size 432x288 with 2 Axes>"
      ]
     },
     "metadata": {
      "needs_background": "light"
     },
     "output_type": "display_data"
    }
   ],
   "source": [
    "ModelEvaluation(rf_two, trainingData_two, testData_two, showMatrix=True)"
   ]
  },
  {
   "cell_type": "markdown",
   "metadata": {},
   "source": [
    "#### -----Decision Tree (second attempt)"
   ]
  },
  {
   "cell_type": "code",
   "execution_count": 92,
   "metadata": {},
   "outputs": [],
   "source": [
    "dt_two = DecisionTree.trainClassifier(trainingData_two, numClasses=2, categoricalFeaturesInfo={},\n",
    "impurity='gini', maxDepth=5, maxBins=32)"
   ]
  },
  {
   "cell_type": "code",
   "execution_count": 93,
   "metadata": {},
   "outputs": [
    {
     "name": "stdout",
     "output_type": "stream",
     "text": [
      "Train Error = 0.012301498546186536\n",
      "Test Error = 0.02085222121486854\n",
      "\n",
      "Train set:\n",
      "Accuracy: 0.9877\n",
      "Precision: 0.9773\n",
      "Recall: 0.9301\n",
      "\n",
      "Test set:\n",
      "Accuracy: 0.9791\n",
      "Precision: 0.9562\n",
      "Recall: 0.8851\n"
     ]
    },
    {
     "data": {
      "image/png": "[encoded data removed]",
      "text/plain": [
       "<Figure size 432x288 with 2 Axes>"
      ]
     },
     "metadata": {
      "needs_background": "light"
     },
     "output_type": "display_data"
    }
   ],
   "source": [
    "ModelEvaluation(dt_two, trainingData_two, testData_two, showMatrix=True, showTrees=False)"
   ]
  },
  {
   "cell_type": "code",
   "execution_count": null,
   "metadata": {},
   "outputs": [],
   "source": [
    "Header_two = ['len_ch', 'punct_count', 'question_count', 'excl_count', 'caps_count_ch', 'caps_count_words', 'contains_link', 'num_count', 'count_ham','count_spam']"
   ]
  },
  {
   "cell_type": "markdown",
   "metadata": {},
   "source": [
    "#### -----Logistic Regression (second attempt)"
   ]
  },
  {
   "cell_type": "code",
   "execution_count": 94,
   "metadata": {},
   "outputs": [],
   "source": [
    "lr_two = LogisticRegressionWithLBFGS.train(trainingData_two)"
   ]
  },
  {
   "cell_type": "code",
   "execution_count": 95,
   "metadata": {},
   "outputs": [
    {
     "name": "stdout",
     "output_type": "stream",
     "text": [
      "Train Error = 0.026839633191679715\n",
      "Test Error = 0.03535811423390753\n",
      "\n",
      "Train set:\n",
      "Accuracy: 0.9732\n",
      "Precision: 0.9069\n",
      "Recall: 0.8918\n",
      "\n",
      "Test set:\n",
      "Accuracy: 0.9646\n",
      "Precision: 0.8609\n",
      "Recall: 0.8784\n"
     ]
    },
    {
     "data": {
      "image/png": "[encoded data removed]",
      "text/plain": [
       "<Figure size 432x288 with 2 Axes>"
      ]
     },
     "metadata": {
      "needs_background": "light"
     },
     "output_type": "display_data"
    }
   ],
   "source": [
    "ModelEvaluation(lr_two, trainingData_two, testData_two, showMatrix=True, showTrees=False)"
   ]
  },
  {
   "cell_type": "markdown",
   "metadata": {},
   "source": [
    "#### -----Gradient Boost Classifier (second attempt)"
   ]
  },
  {
   "cell_type": "code",
   "execution_count": 96,
   "metadata": {},
   "outputs": [],
   "source": [
    "gbc_two = GradientBoostedTrees.trainClassifier(trainingData_two, categoricalFeaturesInfo={}, numIterations=54)"
   ]
  },
  {
   "cell_type": "code",
   "execution_count": 97,
   "metadata": {},
   "outputs": [
    {
     "name": "stdout",
     "output_type": "stream",
     "text": [
      "Train Error = 0.010512189666741221\n",
      "Test Error = 0.012692656391659111\n",
      "\n",
      "Train set:\n",
      "Accuracy: 0.9895\n",
      "Precision: 0.9894\n",
      "Recall: 0.9318\n",
      "\n",
      "Test set:\n",
      "Accuracy: 0.9873\n",
      "Precision: 0.9786\n",
      "Recall: 0.9257\n"
     ]
    },
    {
     "data": {
      "image/png": "[encoded data removed]",
      "text/plain": [
       "<Figure size 432x288 with 2 Axes>"
      ]
     },
     "metadata": {
      "needs_background": "light"
     },
     "output_type": "display_data"
    }
   ],
   "source": [
    "ModelEvaluation(gbc_two, trainingData_two, testData_two, showMatrix=True, showTrees=False)"
   ]
  },
  {
   "cell_type": "markdown",
   "metadata": {},
   "source": [
    "## Optimization"
   ]
  },
  {
   "cell_type": "markdown",
   "metadata": {},
   "source": [
    "#### ----- Gradeint Boost Classifier"
   ]
  },
  {
   "cell_type": "code",
   "execution_count": 98,
   "metadata": {},
   "outputs": [
    {
     "name": "stdout",
     "output_type": "stream",
     "text": [
      "2\n",
      "4\n",
      "6\n",
      "8\n",
      "10\n",
      "12\n",
      "14\n",
      "16\n",
      "18\n",
      "20\n",
      "22\n",
      "24\n",
      "26\n",
      "28\n",
      "30\n",
      "32\n",
      "34\n",
      "36\n",
      "38\n",
      "40\n",
      "42\n",
      "44\n",
      "46\n",
      "48\n",
      "50\n",
      "52\n",
      "54\n",
      "56\n",
      "58\n",
      "60\n",
      "62\n",
      "64\n",
      "66\n",
      "68\n",
      "70\n",
      "72\n",
      "74\n",
      "76\n",
      "78\n",
      "80\n",
      "82\n",
      "84\n",
      "86\n",
      "88\n",
      "90\n",
      "92\n",
      "94\n",
      "96\n",
      "98\n",
      "100\n",
      "[2, 4, 6, 8, 10, 12, 14, 16, 18, 20, 22, 24, 26, 28, 30, 32, 34, 36, 38, 40, 42, 44, 46, 48, 50, 52, 54, 56, 58, 60, 62, 64, 66, 68, 70, 72, 74, 76, 78, 80, 82, 84, 86, 88, 90, 92, 94, 96, 98, 100]\n",
      "[0.01722209796466115, 0.01722209796466115, 0.016998434354730484, 0.016998434354730484, 0.016551107134869156, 0.016327443524938492, 0.01610377991500783, 0.01610377991500783, 0.015209125475285171, 0.014538134645493177, 0.013419816595839858, 0.0125251621561172, 0.0125251621561172, 0.0125251621561172, 0.0125251621561172, 0.0125251621561172, 0.0125251621561172, 0.012301498546186536, 0.011406844106463879, 0.011630507716394543, 0.011406844106463879, 0.011183180496533215, 0.011183180496533215, 0.011183180496533215, 0.011183180496533215, 0.011183180496533215, 0.010512189666741221, 0.010512189666741221, 0.010288526056810557, 0.010288526056810557, 0.010512189666741221, 0.010064862446879893, 0.010064862446879893, 0.009841198836949228, 0.009841198836949228, 0.009841198836949228, 0.009841198836949228, 0.009841198836949228, 0.009841198836949228, 0.009841198836949228, 0.009841198836949228, 0.009841198836949228, 0.009617535227018564, 0.009617535227018564, 0.009617535227018564, 0.009617535227018564, 0.009617535227018564, 0.0093938716170879, 0.009170208007157236, 0.009170208007157236]\n",
      "[0.01813236627379873, 0.01813236627379873, 0.01813236627379873, 0.01813236627379873, 0.01813236627379873, 0.01813236627379873, 0.015412511332728921, 0.015412511332728921, 0.015412511332728921, 0.013599274705349048, 0.013599274705349048, 0.011786038077969175, 0.012692656391659111, 0.012692656391659111, 0.012692656391659111, 0.012692656391659111, 0.012692656391659111, 0.012692656391659111, 0.012692656391659111, 0.012692656391659111, 0.012692656391659111, 0.012692656391659111, 0.012692656391659111, 0.012692656391659111, 0.013599274705349048, 0.012692656391659111, 0.012692656391659111, 0.012692656391659111, 0.012692656391659111, 0.012692656391659111, 0.012692656391659111, 0.011786038077969175, 0.011786038077969175, 0.011786038077969175, 0.011786038077969175, 0.011786038077969175, 0.011786038077969175, 0.011786038077969175, 0.011786038077969175, 0.011786038077969175, 0.011786038077969175, 0.011786038077969175, 0.011786038077969175, 0.011786038077969175, 0.011786038077969175, 0.011786038077969175, 0.011786038077969175, 0.011786038077969175, 0.011786038077969175, 0.011786038077969175]\n"
     ]
    }
   ],
   "source": [
    "num=[]\n",
    "tr_err=[]\n",
    "ts_err=[]\n",
    "\n",
    "\n",
    "for n in range(2, 102, 2):\n",
    "    \n",
    "    print(n)\n",
    "    gbc_n = GradientBoostedTrees.trainClassifier(trainingData_two, categoricalFeaturesInfo={}, numIterations=n)\n",
    "    \n",
    "    predictions_train = gbc_n.predict(trainingData_two.map(lambda x: x.features))\n",
    "    labelsAndPredictions_train = trainingData_two.map(lambda lp: lp.label).zip(predictions_train)\n",
    "    testErr_train = labelsAndPredictions_train.filter(lambda lp: lp[0] != lp[1]).count() / float(trainingData_two.count())\n",
    "\n",
    "    predictions = gbc_n.predict(testData_two.map(lambda x: x.features))\n",
    "    labelsAndPredictions = testData_two.map(lambda lp: lp.label).zip(predictions)\n",
    "    testErr = labelsAndPredictions.filter(lambda lp: lp[0] != lp[1]).count() / float(testData_two.count())\n",
    "    \n",
    "    num.append(n)\n",
    "    tr_err.append(testErr_train)\n",
    "    ts_err.append(testErr)\n",
    "\n",
    "    \n",
    "print(num)\n",
    "print(tr_err)\n",
    "print(ts_err)"
   ]
  },
  {
   "cell_type": "code",
   "execution_count": 119,
   "metadata": {},
   "outputs": [
    {
     "data": {
      "text/plain": [
       "<matplotlib.legend.Legend at 0x7f3e41ec15d0>"
      ]
     },
     "execution_count": 119,
     "metadata": {},
     "output_type": "execute_result"
    },
    {
     "data": {
      "image/png": "[encoded data removed]",
      "text/plain": [
       "<Figure size 432x288 with 1 Axes>"
      ]
     },
     "metadata": {
      "needs_background": "light"
     },
     "output_type": "display_data"
    }
   ],
   "source": [
    "x = [x for x in range(0,100,10)]\n",
    "\n",
    "plt.plot(num,tr_err, c='red', label='Training set')\n",
    "plt.plot(num,ts_err, c='blue', label='Test Set')\n",
    "plt.scatter(num,tr_err, c='red')\n",
    "plt.scatter(num,ts_err, c='blue')\n",
    "plt.xticks(x)\n",
    "plt.title('Gradient Boost Error - Train and Test')\n",
    "plt.legend()"
   ]
  },
  {
   "cell_type": "code",
   "execution_count": 74,
   "metadata": {},
   "outputs": [],
   "source": [
    "gbc_three = GradientBoostedTrees.trainClassifier(trainingData_two, categoricalFeaturesInfo={}, numIterations=64)"
   ]
  },
  {
   "cell_type": "code",
   "execution_count": 75,
   "metadata": {},
   "outputs": [
    {
     "name": "stdout",
     "output_type": "stream",
     "text": [
      "Train Error = 0.010064862446879893\n",
      "Test Error = 0.011786038077969175\n",
      "\n",
      "Train set:\n",
      "Accuracy: 0.9899\n",
      "Precision: 0.9947\n",
      "Recall: 0.9301\n",
      "\n",
      "Test set:\n",
      "Accuracy: 0.9882\n",
      "Precision: 0.9856\n",
      "Recall: 0.9257\n"
     ]
    },
    {
     "data": {
      "image/png": "[encoded data removed]",
      "text/plain": [
       "<Figure size 432x288 with 2 Axes>"
      ]
     },
     "metadata": {
      "needs_background": "light"
     },
     "output_type": "display_data"
    }
   ],
   "source": [
    "ModelEvaluation(gbc_three, trainingData_two, testData_two, showMatrix=True, showTrees=False)"
   ]
  },
  {
   "cell_type": "markdown",
   "metadata": {},
   "source": [
    "#### ---- Random Forest"
   ]
  },
  {
   "cell_type": "code",
   "execution_count": 129,
   "metadata": {},
   "outputs": [
    {
     "ename": "NameError",
     "evalue": "name 'Done' is not defined",
     "output_type": "error",
     "traceback": [
      "\u001b[0;31m---------------------------------------------------------------------------\u001b[0m",
      "\u001b[0;31mNameError\u001b[0m                                 Traceback (most recent call last)",
      "\u001b[0;32m<ipython-input-129-cd4768074673>\u001b[0m in \u001b[0;36m<module>\u001b[0;34m\u001b[0m\n\u001b[1;32m     21\u001b[0m     \u001b[0mtr_err\u001b[0m\u001b[0;34m.\u001b[0m\u001b[0mappend\u001b[0m\u001b[0;34m(\u001b[0m\u001b[0mtestErr_train\u001b[0m\u001b[0;34m)\u001b[0m\u001b[0;34m\u001b[0m\u001b[0;34m\u001b[0m\u001b[0m\n\u001b[1;32m     22\u001b[0m     \u001b[0mts_err\u001b[0m\u001b[0;34m.\u001b[0m\u001b[0mappend\u001b[0m\u001b[0;34m(\u001b[0m\u001b[0mtestErr\u001b[0m\u001b[0;34m)\u001b[0m\u001b[0;34m\u001b[0m\u001b[0;34m\u001b[0m\u001b[0m\n\u001b[0;32m---> 23\u001b[0;31m \u001b[0mprint\u001b[0m\u001b[0;34m(\u001b[0m\u001b[0mDone\u001b[0m\u001b[0;34m)\u001b[0m\u001b[0;34m\u001b[0m\u001b[0;34m\u001b[0m\u001b[0m\n\u001b[0m",
      "\u001b[0;31mNameError\u001b[0m: name 'Done' is not defined"
     ]
    }
   ],
   "source": [
    "num=[]\n",
    "tr_err=[]\n",
    "ts_err=[]\n",
    "\n",
    "\n",
    "for n in range(2, 102, 2):\n",
    "    \n",
    "    rf_n = RandomForest.trainClassifier(trainingData_two, numClasses=2, categoricalFeaturesInfo={},\n",
    "    numTrees=n, featureSubsetStrategy=\"auto\",\n",
    "    impurity='gini', maxDepth=6, maxBins=100, seed=0)\n",
    "    \n",
    "    predictions_train = rf_n.predict(trainingData_two.map(lambda x: x.features))\n",
    "    labelsAndPredictions_train = trainingData_two.map(lambda lp: lp.label).zip(predictions_train)\n",
    "    testErr_train = labelsAndPredictions_train.filter(lambda lp: lp[0] != lp[1]).count() / float(trainingData_two.count())\n",
    "\n",
    "    predictions = rf_n.predict(testData_two.map(lambda x: x.features))\n",
    "    labelsAndPredictions = testData_two.map(lambda lp: lp.label).zip(predictions)\n",
    "    testErr = labelsAndPredictions.filter(lambda lp: lp[0] != lp[1]).count() / float(testData_two.count())\n",
    "    \n",
    "    num.append(n)\n",
    "    tr_err.append(testErr_train)\n",
    "    ts_err.append(testErr)"
   ]
  },
  {
   "cell_type": "code",
   "execution_count": 135,
   "metadata": {},
   "outputs": [
    {
     "data": {
      "image/png": "[encoded data removed]",
      "text/plain": [
       "<Figure size 432x288 with 1 Axes>"
      ]
     },
     "metadata": {
      "needs_background": "light"
     },
     "output_type": "display_data"
    }
   ],
   "source": [
    "x = [x for x in range(0,100,10)]\n",
    "\n",
    "plt.plot(num,tr_err, c='red', label='Training set')\n",
    "plt.plot(num,ts_err, c='blue', label='Test Set')\n",
    "plt.scatter(num,tr_err, c='red')\n",
    "plt.scatter(num,ts_err, c='blue')\n",
    "plt.xticks(x)\n",
    "plt.title('Random Forest Error - Train and Test Num of Trees')\n",
    "plt.legend()\n",
    "plt.grid()"
   ]
  },
  {
   "cell_type": "code",
   "execution_count": 123,
   "metadata": {},
   "outputs": [
    {
     "name": "stdout",
     "output_type": "stream",
     "text": [
      "1\n",
      "2\n",
      "3\n",
      "4\n",
      "5\n",
      "6\n",
      "7\n",
      "8\n",
      "9\n",
      "10\n",
      "[1, 2, 3, 4, 5, 6, 7, 8, 9, 10]\n",
      "[0.021024379333482442, 0.016998434354730484, 0.014761798255423843, 0.013419816595839858, 0.010512189666741221, 0.0093938716170879, 0.00782822634757325, 0.0073808991277119216, 0.006933571907850593, 0.006038917468127935]\n",
      "[0.024478694469628286, 0.019038984587488667, 0.02085222121486854, 0.015412511332728921, 0.013599274705349048, 0.012692656391659111, 0.013599274705349048, 0.013599274705349048, 0.014505893019038985, 0.013599274705349048]\n"
     ]
    }
   ],
   "source": [
    "num_2=[]\n",
    "tr_err_2=[]\n",
    "ts_err_2=[]\n",
    "\n",
    "\n",
    "for n in range(1, 11, 1):\n",
    "    \n",
    "    rf_n = RandomForest.trainClassifier(trainingData_two, numClasses=2, categoricalFeaturesInfo={},\n",
    "    numTrees=92, featureSubsetStrategy=\"auto\",\n",
    "    impurity='gini', maxDepth=n, maxBins=100, seed=0)\n",
    "    \n",
    "    predictions_train = rf_n.predict(trainingData_two.map(lambda x: x.features))\n",
    "    labelsAndPredictions_train = trainingData_two.map(lambda lp: lp.label).zip(predictions_train)\n",
    "    testErr_train = labelsAndPredictions_train.filter(lambda lp: lp[0] != lp[1]).count() / float(trainingData_two.count())\n",
    "\n",
    "    predictions = rf_n.predict(testData_two.map(lambda x: x.features))\n",
    "    labelsAndPredictions = testData_two.map(lambda lp: lp.label).zip(predictions)\n",
    "    testErr = labelsAndPredictions.filter(lambda lp: lp[0] != lp[1]).count() / float(testData_two.count())\n",
    "    \n",
    "    num_2.append(n)\n",
    "    tr_err_2.append(testErr_train)\n",
    "    ts_err_2.append(testErr)"
   ]
  },
  {
   "cell_type": "code",
   "execution_count": 128,
   "metadata": {},
   "outputs": [
    {
     "data": {
      "text/plain": [
       "<matplotlib.legend.Legend at 0x7f3e41dbcfd0>"
      ]
     },
     "execution_count": 128,
     "metadata": {},
     "output_type": "execute_result"
    },
    {
     "data": {
      "image/png": "[encoded data removed]",
      "text/plain": [
       "<Figure size 432x288 with 1 Axes>"
      ]
     },
     "metadata": {
      "needs_background": "light"
     },
     "output_type": "display_data"
    }
   ],
   "source": [
    "x = [x for x in range(0,11,1)]\n",
    "\n",
    "plt.plot(num,tr_err, c='red', label='Training set')\n",
    "plt.plot(num,ts_err, c='blue', label='Test Set')\n",
    "plt.scatter(num,tr_err, c='red')\n",
    "plt.scatter(num,ts_err, c='blue')\n",
    "plt.xticks(x)\n",
    "plt.title('Random Forest Error - Train and Test by max depth')\n",
    "plt.legend()"
   ]
  },
  {
   "cell_type": "code",
   "execution_count": 78,
   "metadata": {},
   "outputs": [],
   "source": [
    "rf_three = RandomForest.trainClassifier(trainingData_two, numClasses=2, categoricalFeaturesInfo={},\n",
    "numTrees=92, featureSubsetStrategy=\"auto\",\n",
    "impurity='gini', maxDepth=6, maxBins=100, seed=0)"
   ]
  },
  {
   "cell_type": "code",
   "execution_count": 79,
   "metadata": {},
   "outputs": [
    {
     "name": "stdout",
     "output_type": "stream",
     "text": [
      "Train Error = 0.0093938716170879\n",
      "Test Error = 0.012692656391659111\n",
      "\n",
      "Train set:\n",
      "Accuracy: 0.9906\n",
      "Precision: 0.9982\n",
      "Recall: 0.9318\n",
      "\n",
      "Test set:\n",
      "Accuracy: 0.9873\n",
      "Precision: 0.9786\n",
      "Recall: 0.9257\n"
     ]
    },
    {
     "data": {
      "image/png": "[encoded data removed]",
      "text/plain": [
       "<Figure size 432x288 with 2 Axes>"
      ]
     },
     "metadata": {
      "needs_background": "light"
     },
     "output_type": "display_data"
    }
   ],
   "source": [
    "ModelEvaluation(rf_three, trainingData_two, testData_two, showMatrix=True, showTrees=False)"
   ]
  }
 ],
 "metadata": {
  "kernelspec": {
   "display_name": "Python 3",
   "language": "python",
   "name": "python3"
  },
  "language_info": {
   "codemirror_mode": {
    "name": "ipython",
    "version": 3
   },
   "file_extension": ".py",
   "mimetype": "text/x-python",
   "name": "python",
   "nbconvert_exporter": "python",
   "pygments_lexer": "ipython3",
   "version": "3.7.7"
  }
 },
 "nbformat": 4,
 "nbformat_minor": 4
}
