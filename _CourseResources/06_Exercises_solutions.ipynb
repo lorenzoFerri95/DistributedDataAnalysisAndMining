{
 "cells": [
  {
   "cell_type": "code",
   "execution_count": 1,
   "metadata": {},
   "outputs": [],
   "source": [
    "from pyspark import SparkContext\n",
    "# initialize a new Spark Context to use for the execution of the script\n",
    "sc = SparkContext(appName=\"MY-APP-NAME\", master=\"local[*]\")"
   ]
  },
  {
   "cell_type": "code",
   "execution_count": null,
   "metadata": {},
   "outputs": [],
   "source": []
  },
  {
   "cell_type": "code",
   "execution_count": 8,
   "metadata": {},
   "outputs": [],
   "source": [
    "# EXERCISE N.1\n",
    "# Compute the numer of words appearing in both commedies and tragedies and the number of words which are not \n",
    "# present in both the texts\n",
    "\n",
    "text1 = sc.textFile(\"hdfs://kddrtserver11.isti.cnr.it:9000/user/hpsa00/comedies.txt\")\n",
    "text2 = sc.textFile(\"hdfs://kddrtserver11.isti.cnr.it:9000/user/hpsa00/tragedies.txt\")\n",
    "words1 = text1.flatMap(lambda x: x.split())\n",
    "words2 = text2.flatMap(lambda x: x.split())\n",
    "both = words1.intersection(words2)\n",
    "\n",
    "print(both.count())\n",
    "print(words1.count()+words2.count()-both.count())"
   ]
  },
  {
   "cell_type": "code",
   "execution_count": 5,
   "metadata": {},
   "outputs": [
    {
     "name": "stdout",
     "output_type": "stream",
     "text": [
      "[[\"'had'!\", 'how', 'sad', 'a', 'passage', \"'tis!--whose\", 'skill', 'was'], ['skill', 'infinite', 'or', 'monstrous', 'desperate.'], ['is', 'dearest', 'to', 'me.', 'i', 'have', 'no', 'skill', 'in', 'sense'], ['skill', 'in', 'grass.'], ['here', 'stand', 'i', 'lady,', 'dart', 'thy', 'skill', 'at', 'me;'], ['truly,', 'my', 'ancient', 'skill', 'beguiles', 'me;', 'but,', 'in', 'the'], ['page', 'i', 'have', 'heard', 'the', 'frenchman', 'hath', 'good', 'skill', 'in'], ['this', 'philoten', 'contends', 'in', 'skill'], ['my', 'utmost', 'skill', 'in', 'his', 'recovery,', 'provided'], ['youth,', 'strength,', 'skill', 'and', 'wrath', 'can', 'furnish', 'man', 'withal.'], ['as', 'little', 'skill', 'to', 'fear', 'as', 'i', 'have', 'purpose']]\n",
      "11\n"
     ]
    }
   ],
   "source": [
    "# EXERCISE N.2\n",
    "# Read the file commedies and count the number of rows containing the word \"skill\"\n",
    "\n",
    "text = sc.textFile(\"hdfs://kddrtserver11.isti.cnr.it:9000/user/hpsa00/comm2.txt\")\n",
    "pair_rdd = text.map(lambda x: x.lower().split()).filter(lambda x: \"skill\" in x)\n",
    "print (pair_rdd.count())"
   ]
  },
  {
   "cell_type": "code",
   "execution_count": 49,
   "metadata": {},
   "outputs": [],
   "source": [
    "# EXERCISE N.3\n",
    "# Read the file commedies and count the number of words having the same second letter.\n",
    "\n",
    "text = sc.textFile(\"hdfs://kddrtserver11.isti.cnr.it:9000/user/hpsa00/comm2.txt\")\n",
    "pair_rdd = text.flatMap(lambda x: x.split()).filter(lambda x: len(x)>2).map(lambda x: (x[1].upper(), 1)).reduceByKey(lambda x,y:x+y)\n",
    "print (pair_rdd.collect())"
   ]
  },
  {
   "cell_type": "code",
   "execution_count": 7,
   "metadata": {},
   "outputs": [
    {
     "name": "stdout",
     "output_type": "stream",
     "text": [
      "[('1', '2,2,3,4,5'), ('2', '1,4,4,7,9'), ('3', '1,2,3,6,1')]\n"
     ]
    }
   ],
   "source": [
    "# EXERCISE N.4\n",
    "# Create a file with the following list of class,member pairs:\n",
    "# 1,2;1,2;1,3;1,4;1,5;2,1;2,4;2,4;2,7;2,9;3,1;3,2;3,3;3,6;3,1\n",
    "# Read the file and write the code to obtain the list of elements for each class\n",
    "\n",
    "text_rdd = sc.textFile(\"ex1.txt\")\n",
    "pairs_rdd = text_rdd.flatMap(lambda x: x.split(\";\")).map(lambda x: x.split(\",\")).reduceByKey(lambda x,y: x+\",\"+y)\n",
    "\n",
    "print (pairs_rdd.collect())"
   ]
  },
  {
   "cell_type": "code",
   "execution_count": null,
   "metadata": {},
   "outputs": [],
   "source": []
  },
  {
   "cell_type": "code",
   "execution_count": 117,
   "metadata": {},
   "outputs": [
    {
     "name": "stdout",
     "output_type": "stream",
     "text": [
      "[(0, 28), (1, 58), (2, 67), (3, 44), (4, 10), (5, 29), (6, 42), (7, 39), (8, 31), (9, 81), (10, 54), (11, 46), (12, 88), (13, 30), (14, 38), (15, 51), (16, 62), (17, 80), (18, 89), (19, 33)]\n"
     ]
    }
   ],
   "source": [
    "# EXERCISE N.5\n",
    "# Generate 1000 random points (x,y) and 20 seed points(a,b). Assign the points to the closer seed and than \n",
    "# count how many points are assigned to each seed.\n",
    "\n",
    "from random import random\n",
    "import numpy as np\n",
    "\n",
    "def closer(elem,listS):\n",
    "    min = 1000000\n",
    "    min_i = -1\n",
    "    for e in listS:\n",
    "        elem=np.array(elem)\n",
    "        seed=np.array(e[1])\n",
    "        p=np.sum((elem-seed)**2)\n",
    "        d=np.sqrt(p)\n",
    "        if min>d: \n",
    "            min = d\n",
    "            min_i = e[0]\n",
    "    return min_i\n",
    "\n",
    "points = []\n",
    "for _ in range(1000):\n",
    "    value_x = random()\n",
    "    value_y = random()\n",
    "    points.append((value_x,value_y))\n",
    "    \n",
    "seeds = []\n",
    "for i in range(20):\n",
    "    value_x = random()\n",
    "    value_y = random()\n",
    "    seeds.append((i,(value_x,value_y)))\n",
    "    \n",
    "points_rdd = sc.parallelize(points)\n",
    "distances_rdd = points_rdd.map(lambda x: closer(x, seeds)).map(lambda x: (x,1)).reduceByKey(lambda x,y: x+y).sortByKey()\n",
    "\n",
    "print(distances_rdd.collect())"
   ]
  },
  {
   "cell_type": "code",
   "execution_count": null,
   "metadata": {},
   "outputs": [],
   "source": []
  }
 ],
 "metadata": {
  "kernelspec": {
   "display_name": "Python 3",
   "language": "python",
   "name": "python3"
  },
  "language_info": {
   "codemirror_mode": {
    "name": "ipython",
    "version": 3
   },
   "file_extension": ".py",
   "mimetype": "text/x-python",
   "name": "python",
   "nbconvert_exporter": "python",
   "pygments_lexer": "ipython3",
   "version": "3.7.7"
  }
 },
 "nbformat": 4,
 "nbformat_minor": 4
}
