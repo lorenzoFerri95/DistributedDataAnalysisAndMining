{
 "cells": [
  {
   "cell_type": "code",
   "execution_count": null,
   "metadata": {},
   "outputs": [],
   "source": [
    "# Create Spark Session and a Steaming Context\n",
    "\n",
    "import sys\n",
    "from pyspark import SparkContext\n",
    "from pyspark.streaming import StreamingContext\n",
    "\n",
    "sc = SparkContext(appName=\"PysparkStreaming\")\n",
    "ssc = StreamingContext(sc, 10)   #Streaming will execute in each 10 seconds\n"
   ]
  },
  {
   "cell_type": "code",
   "execution_count": null,
   "metadata": {},
   "outputs": [],
   "source": [
    "# Read NEW data from the source\n",
    "# Only new data will be considered\n",
    "lines = ssc.textFileStream(\"data/\") \n",
    "\n",
    "# Perform the analysis\n",
    "counts = lines.flatMap(lambda line: line.split(\" \")) \\\n",
    "        .map(lambda x: (x, 1)) \\\n",
    "        .reduceByKey(lambda a, b: a + b)\n",
    "\n",
    "# Print the results\n",
    "counts.pprint()\n",
    "\n",
    "# Start the process \n",
    "ssc.start()\n",
    "ssc.awaitTermination()\n"
   ]
  },
  {
   "cell_type": "code",
   "execution_count": null,
   "metadata": {},
   "outputs": [],
   "source": []
  }
 ],
 "metadata": {
  "kernelspec": {
   "display_name": "Python 3",
   "language": "python",
   "name": "python3"
  },
  "language_info": {
   "codemirror_mode": {
    "name": "ipython",
    "version": 3
   },
   "file_extension": ".py",
   "mimetype": "text/x-python",
   "name": "python",
   "nbconvert_exporter": "python",
   "pygments_lexer": "ipython3",
   "version": "3.7.7"
  }
 },
 "nbformat": 4,
 "nbformat_minor": 4
}
