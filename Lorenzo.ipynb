{
 "cells": [
  {
   "cell_type": "code",
   "execution_count": 1,
   "metadata": {
    "scrolled": true
   },
   "outputs": [],
   "source": [
    "# librerie\n",
    "\n",
    "from pyspark import SparkContext\n",
    "from pyspark.sql import SparkSession\n",
    "\n",
    "from pyspark.sql.types import StringType\n",
    "from pyspark.sql import Row\n",
    "from pyspark.mllib.regression import LabeledPoint"
   ]
  },
  {
   "cell_type": "code",
   "execution_count": 2,
   "metadata": {},
   "outputs": [],
   "source": [
    "# sessione\n",
    "\n",
    "sc = SparkContext(appName=\"DDAM_Project\", master=\"local[*]\")\n",
    "spark = SparkSession.builder \\\n",
    "    .master(\"local[*]\") \\\n",
    "    .appName(\"DDAM_Project\") \\\n",
    "    .config(\"spark.some.config.option\", \"some-value\") \\\n",
    "    .getOrCreate()"
   ]
  },
  {
   "cell_type": "code",
   "execution_count": 3,
   "metadata": {
    "scrolled": false
   },
   "outputs": [
    {
     "name": "stdout",
     "output_type": "stream",
     "text": [
      "root\n",
      " |-- Loan_ID: string (nullable = true)\n",
      " |-- Customer_ID: string (nullable = true)\n",
      " |-- Loan_Status: string (nullable = true)\n",
      " |-- Current_Loan_Amount: integer (nullable = true)\n",
      " |-- Term: string (nullable = true)\n",
      " |-- Credit_Score: integer (nullable = true)\n",
      " |-- Annual_Income: integer (nullable = true)\n",
      " |-- Years_in_current_job: string (nullable = true)\n",
      " |-- Home_Ownership: string (nullable = true)\n",
      " |-- Purpose: string (nullable = true)\n",
      " |-- Monthly_Debt: double (nullable = true)\n",
      " |-- Years_of_Credit_History: double (nullable = true)\n",
      " |-- Months_since_last_delinquent: string (nullable = true)\n",
      " |-- Number_of_Open_Accounts: integer (nullable = true)\n",
      " |-- Number_of_Credit_Problems: integer (nullable = true)\n",
      " |-- Current_Credit_Balance: integer (nullable = true)\n",
      " |-- Maximum_Open_Credit: integer (nullable = true)\n",
      " |-- Bankruptcies: string (nullable = true)\n",
      " |-- Tax_Liens: string (nullable = true)\n",
      "\n"
     ]
    }
   ],
   "source": [
    "sdf = spark.read.csv(\"hdfs://kddrtserver11.isti.cnr.it:9000/user/hpsa04/credit_train.csv\", sep=\",\",\n",
    "                     inferSchema=True, header=True)\n",
    "\n",
    "columns = sdf.schema.names\n",
    "\n",
    "# rinominare le colonne sotituendo lo spazio con l'underscore\n",
    "for col in columns:\n",
    "    sdf = sdf.withColumnRenamed(col, col.replace(' ', '_'))\n",
    "\n",
    "columns = sdf.schema.names\n",
    "\n",
    "sdf.printSchema()"
   ]
  },
  {
   "cell_type": "code",
   "execution_count": 40,
   "metadata": {},
   "outputs": [],
   "source": [
    "sdf.createOrReplaceTempView('Bank_Loan_Dataset')"
   ]
  },
  {
   "cell_type": "code",
   "execution_count": 41,
   "metadata": {
    "scrolled": true
   },
   "outputs": [
    {
     "name": "stdout",
     "output_type": "stream",
     "text": [
      "+--------------------+\n",
      "|Years_in_current_job|\n",
      "+--------------------+\n",
      "|                null|\n",
      "|                   0|\n",
      "|                   1|\n",
      "|              1 year|\n",
      "|           10+ years|\n",
      "|                   2|\n",
      "|             2 years|\n",
      "|                   3|\n",
      "|             3 years|\n",
      "|                   4|\n",
      "|             4 years|\n",
      "|                   5|\n",
      "|             5 years|\n",
      "|                   6|\n",
      "|             6 years|\n",
      "|                   7|\n",
      "|             7 years|\n",
      "|             8 years|\n",
      "|             9 years|\n",
      "|            < 1 year|\n",
      "|                 n/a|\n",
      "+--------------------+\n",
      "\n",
      "+----------------------------+\n",
      "|Months_since_last_delinquent|\n",
      "+----------------------------+\n",
      "|                        null|\n",
      "|                          -1|\n",
      "+----------------------------+\n",
      "\n",
      "+--------------------+\n",
      "|        Bankruptcies|\n",
      "+--------------------+\n",
      "|                null|\n",
      "|                   0|\n",
      "|0002005f-3575-462...|\n",
      "|00062646-806a-4e8...|\n",
      "|000685bc-92e8-44c...|\n",
      "|000ae2e0-788e-4b4...|\n",
      "|000b0ae9-bde2-427...|\n",
      "|000d6327-c459-4bd...|\n",
      "|000e1ab7-41d9-46a...|\n",
      "|000f9236-4a3c-438...|\n",
      "|0011c313-8ba2-454...|\n",
      "|00127cca-7050-486...|\n",
      "|00132610-2f2f-4ae...|\n",
      "|0014830b-6ced-446...|\n",
      "|001534d4-00d8-4b9...|\n",
      "|001ccc7d-06e8-4dd...|\n",
      "|0021712b-ea5a-447...|\n",
      "|00218712-8b00-4bf...|\n",
      "|00298d90-81e3-437...|\n",
      "|0029bd00-b6e0-4c5...|\n",
      "|0029df6c-5eac-452...|\n",
      "|002bc5f8-d5a8-482...|\n",
      "|002d963f-1a36-443...|\n",
      "|0030eba5-7867-43d...|\n",
      "|003185a1-5117-467...|\n",
      "|00325b97-c189-447...|\n",
      "|003407a3-64ad-4b6...|\n",
      "|00366f22-c511-42c...|\n",
      "|0037fc7d-06ce-406...|\n",
      "|003ec217-9901-437...|\n",
      "|003f6415-33bb-4f7...|\n",
      "|004424a9-980a-488...|\n",
      "|0045135b-1415-4e7...|\n",
      "|00477151-a4b2-456...|\n",
      "|0047f633-da24-421...|\n",
      "|00498bfb-2998-4d4...|\n",
      "|004ac255-63ce-4b9...|\n",
      "|004e222b-5db0-421...|\n",
      "|004f8f2e-72e9-4f6...|\n",
      "|005045c0-fe30-443...|\n",
      "|0051842e-99d5-4ea...|\n",
      "|00544c75-ec84-447...|\n",
      "|0056ddaa-3721-437...|\n",
      "|0058d7b9-ca71-485...|\n",
      "|00595289-a8c3-43e...|\n",
      "|005c1c39-6a07-45e...|\n",
      "|005c5079-a41d-442...|\n",
      "|005d2ad7-2247-4b4...|\n",
      "|00619151-e46c-497...|\n",
      "|0061d869-9036-42d...|\n",
      "|0063a8f9-1c0d-43b...|\n",
      "|0069f7da-e337-488...|\n",
      "|006cee92-ce13-4b0...|\n",
      "|006d15c5-d9a3-440...|\n",
      "|006e3b2f-dfd4-4a5...|\n",
      "|007158ef-ef75-470...|\n",
      "|0071f47d-356c-411...|\n",
      "|00725f2b-51bd-4ca...|\n",
      "|00731414-10ea-42d...|\n",
      "|00740b68-fa75-4ce...|\n",
      "|007463b5-c5d9-425...|\n",
      "|007752fd-eeb4-49c...|\n",
      "|00776ec2-8af1-4e1...|\n",
      "|0078cc37-36b5-428...|\n",
      "|007bf0b7-37c3-4b7...|\n",
      "|007c8881-4d14-4d7...|\n",
      "|007d637c-bb7c-444...|\n",
      "|007e1cf2-407a-442...|\n",
      "|007e284a-9196-47a...|\n",
      "|007f0ae7-7821-4d9...|\n",
      "|0082e7f4-fd1b-4a7...|\n",
      "|0085194e-765b-448...|\n",
      "|0085f4d6-3586-408...|\n",
      "|00869f46-3098-4a3...|\n",
      "|0087e282-ac34-440...|\n",
      "|00889abf-386b-45e...|\n",
      "|0089aa44-3881-43f...|\n",
      "|0089b9a3-1e98-40d...|\n",
      "|008c1d43-8875-469...|\n",
      "|008fc903-28c4-4da...|\n",
      "|0093b999-43a2-414...|\n",
      "|00953b1f-a2d6-4b7...|\n",
      "|0095bb34-0948-4d6...|\n",
      "|00971a92-55d8-427...|\n",
      "|00977119-f548-44c...|\n",
      "|009ae0c9-4b1a-46b...|\n",
      "|00a180cb-39fb-452...|\n",
      "|00a373da-ba65-407...|\n",
      "|00a3cd45-5253-4cb...|\n",
      "|00a448d5-dce0-490...|\n",
      "|00a5c37f-856c-438...|\n",
      "|00a6cde4-05f0-4ad...|\n",
      "|00aa6e7d-622a-4eb...|\n",
      "|00aac87a-96b4-4f5...|\n",
      "|00b7a288-c698-421...|\n",
      "|00b8cd39-06b0-468...|\n",
      "|00b9e904-09e0-41e...|\n",
      "|00bd9f14-675c-4dd...|\n",
      "|00bf2ead-3e4b-4f3...|\n",
      "|00bf70ec-0421-4de...|\n",
      "|00c067ee-2547-4ea...|\n",
      "|00c22967-bc47-477...|\n",
      "|00c2654d-e2e4-4f1...|\n",
      "|00c4d185-7e4f-4c4...|\n",
      "|00c9f473-fd71-4d4...|\n",
      "|00cdffae-e364-424...|\n",
      "|00ce8351-f0fd-4bb...|\n",
      "|00d01cba-1791-494...|\n",
      "|00d0c446-7c90-439...|\n",
      "|00d369ca-8287-451...|\n",
      "|00d49dbb-041e-403...|\n",
      "|00d5065e-2244-4f7...|\n",
      "|00d56c03-dc74-42f...|\n",
      "|00d79556-7820-4ca...|\n",
      "|00d80677-4519-4cf...|\n",
      "|00d831d5-f455-4d6...|\n",
      "|00d938ca-6560-401...|\n",
      "|00da8ba0-c970-4a8...|\n",
      "|00e0995b-1573-484...|\n",
      "|00e0a862-08ec-4eb...|\n",
      "|00e17604-92f6-41a...|\n",
      "|00e1c242-1d59-42f...|\n",
      "|00e30c5c-dee0-474...|\n",
      "|00e43ea1-dbc1-427...|\n",
      "|00e4dfc2-a29d-46a...|\n",
      "|00e65a71-ca0e-401...|\n",
      "|00e66cfe-17b8-467...|\n",
      "|00e72bef-7153-415...|\n",
      "|00e7a893-6fe6-461...|\n",
      "|00e7de04-2ab5-4b6...|\n",
      "|00e8623f-cdf6-4d2...|\n",
      "|00e86eca-d7e5-44f...|\n",
      "|00e8888e-b280-47e...|\n",
      "|00e8c93f-1830-414...|\n",
      "|00e944e2-1e60-424...|\n",
      "|00eae31e-3404-490...|\n",
      "|00ebcf8e-9c7c-4e2...|\n",
      "|00ec72db-946e-41d...|\n",
      "|00ec9878-043c-462...|\n",
      "|00ee0da0-e767-466...|\n",
      "|00ee7ac9-a31c-473...|\n",
      "|00ef31a6-f93d-4be...|\n",
      "|00ef8c82-eab0-460...|\n",
      "|00f33fac-2f0d-415...|\n",
      "|00f39d99-3806-4f2...|\n",
      "|00f7fe5a-6e4d-4e8...|\n",
      "|00f8712b-f27b-41b...|\n",
      "|00f994b1-a37b-4c2...|\n",
      "|00f9b4ef-1451-4aa...|\n",
      "|00fa2bf2-92ab-43e...|\n",
      "+--------------------+\n",
      "only showing top 150 rows\n",
      "\n",
      "+---------+\n",
      "|Tax_Liens|\n",
      "+---------+\n",
      "|     null|\n",
      "|        0|\n",
      "|        1|\n",
      "|       10|\n",
      "|  1000122|\n",
      "|   100016|\n",
      "|   100035|\n",
      "|   100054|\n",
      "|   100073|\n",
      "|  1000768|\n",
      "|   100092|\n",
      "|   100111|\n",
      "|    10013|\n",
      "|   100130|\n",
      "|   100149|\n",
      "|   100168|\n",
      "|   100187|\n",
      "|   100206|\n",
      "|   100225|\n",
      "|  1002402|\n",
      "|   100244|\n",
      "|   100263|\n",
      "|   100282|\n",
      "|  1002839|\n",
      "|   100301|\n",
      "|  1003067|\n",
      "|    10032|\n",
      "|   100320|\n",
      "|   100339|\n",
      "|   100358|\n",
      "|  1003713|\n",
      "|   100377|\n",
      "|   100396|\n",
      "|   100415|\n",
      "|   100434|\n",
      "|   100453|\n",
      "|   100472|\n",
      "|   100491|\n",
      "|  1005062|\n",
      "|  1005081|\n",
      "|   100510|\n",
      "|   100529|\n",
      "|  1005366|\n",
      "|   100548|\n",
      "|   100567|\n",
      "|  1005689|\n",
      "|   100586|\n",
      "|   100605|\n",
      "|   100624|\n",
      "|  1006259|\n",
      "|   100643|\n",
      "|  1006563|\n",
      "|   100662|\n",
      "|   100681|\n",
      "|     1007|\n",
      "|    10070|\n",
      "|   100738|\n",
      "|   100757|\n",
      "|   100776|\n",
      "|  1007931|\n",
      "|   100795|\n",
      "|   100814|\n",
      "|  1008292|\n",
      "|   100833|\n",
      "|  1008425|\n",
      "|   100852|\n",
      "|   100871|\n",
      "|   100890|\n",
      "|   100909|\n",
      "|   100928|\n",
      "|  1009356|\n",
      "|  1009394|\n",
      "|   100966|\n",
      "|   101004|\n",
      "|   101023|\n",
      "|   101042|\n",
      "|   101061|\n",
      "|    10108|\n",
      "|   101080|\n",
      "|   101099|\n",
      "|  1010990|\n",
      "|   101118|\n",
      "|   101137|\n",
      "|  1011484|\n",
      "|   101156|\n",
      "|  1011731|\n",
      "|   101175|\n",
      "|   101194|\n",
      "|   101213|\n",
      "|   101251|\n",
      "|    10127|\n",
      "|   101270|\n",
      "|   101289|\n",
      "|  1012890|\n",
      "|   101308|\n",
      "|   101327|\n",
      "|  1013327|\n",
      "|   101346|\n",
      "|   101365|\n",
      "|  1013688|\n",
      "|   101384|\n",
      "|   101403|\n",
      "|   101422|\n",
      "|   101441|\n",
      "|  1014429|\n",
      "|    10146|\n",
      "|   101460|\n",
      "|   101479|\n",
      "|   101498|\n",
      "|   101517|\n",
      "|   101536|\n",
      "|  1015455|\n",
      "|  1015474|\n",
      "|   101555|\n",
      "|  1015721|\n",
      "|   101574|\n",
      "|   101612|\n",
      "|   101631|\n",
      "|  1016443|\n",
      "|    10165|\n",
      "|   101650|\n",
      "|   101669|\n",
      "|  1016728|\n",
      "|   101688|\n",
      "|   101707|\n",
      "|   101726|\n",
      "|   101745|\n",
      "|  1017507|\n",
      "|   101764|\n",
      "|  1017773|\n",
      "|  1017811|\n",
      "|   101783|\n",
      "|  1017830|\n",
      "|   101802|\n",
      "|   101821|\n",
      "|    10184|\n",
      "|   101840|\n",
      "|   101859|\n",
      "|   101878|\n",
      "|   101897|\n",
      "|   101916|\n",
      "|   101935|\n",
      "|   101954|\n",
      "|   101973|\n",
      "|   101992|\n",
      "|   102011|\n",
      "|    10203|\n",
      "|   102030|\n",
      "|   102049|\n",
      "|   102068|\n",
      "+---------+\n",
      "only showing top 150 rows\n",
      "\n"
     ]
    }
   ],
   "source": [
    "columns_problematic = ['Years_in_current_job', 'Months_since_last_delinquent', 'Bankruptcies', 'Tax_Liens']\n",
    "\n",
    "for col in columns_problematic:\n",
    "    sql = \"\"\"\n",
    "    SELECT DISTINCT {0}\n",
    "    FROM Bank_Loan_Dataset\n",
    "    ORDER BY {0}\n",
    "    \"\"\".format(col)\n",
    "\n",
    "    spark.sql(sql).show(150)"
   ]
  },
  {
   "cell_type": "code",
   "execution_count": 6,
   "metadata": {
    "scrolled": true
   },
   "outputs": [
    {
     "data": {
      "text/plain": [
       "[Row(Loan_ID='14dd8831-6af5-400b-83ec-68e61888a048', Customer_ID='981165ec-3274-42f5-a3b4-d104041a9ca9', Loan_Status='Fully Paid', Current_Loan_Amount=445412, Term='Short Term', Credit_Score=709, Annual_Income=1167493, Years_in_current_job='8 years', Home_Ownership='Home Mortgage', Purpose='Home Improvements', Monthly_Debt=5214.74, Years_of_Credit_History=17.2, Months_since_last_delinquent='NA', Number_of_Open_Accounts=6, Number_of_Credit_Problems=1, Current_Credit_Balance=228190, Maximum_Open_Credit=416746, Bankruptcies='1', Tax_Liens='0'),\n",
       " Row(Loan_ID='4771cc26-131a-45db-b5aa-537ea4ba5342', Customer_ID='2de017a3-2e01-49cb-a581-08169e83be29', Loan_Status='Fully Paid', Current_Loan_Amount=262328, Term='Short Term', Credit_Score=None, Annual_Income=None, Years_in_current_job='10+ years', Home_Ownership='Home Mortgage', Purpose='Debt Consolidation', Monthly_Debt=33295.98, Years_of_Credit_History=21.1, Months_since_last_delinquent='8', Number_of_Open_Accounts=35, Number_of_Credit_Problems=0, Current_Credit_Balance=229976, Maximum_Open_Credit=850784, Bankruptcies='0', Tax_Liens='0')]"
      ]
     },
     "execution_count": 6,
     "metadata": {},
     "output_type": "execute_result"
    }
   ],
   "source": [
    "rdd = sdf.rdd\n",
    "rdd.take(2)"
   ]
  },
  {
   "cell_type": "markdown",
   "metadata": {},
   "source": [
    "##### 'Years_in_current_job'"
   ]
  },
  {
   "cell_type": "markdown",
   "metadata": {},
   "source": [
    "sono presenti 4222 valori dell'attributo 'Years_in_current_job' uguali a 'n/a'. Pensiamo si possa trattare di soggetti senza lavoro. Il valore è quindi coerente e viene mantenuto così."
   ]
  },
  {
   "cell_type": "code",
   "execution_count": 7,
   "metadata": {},
   "outputs": [
    {
     "name": "stdout",
     "output_type": "stream",
     "text": [
      "+--------+\n",
      "|count(1)|\n",
      "+--------+\n",
      "|    4222|\n",
      "+--------+\n",
      "\n"
     ]
    }
   ],
   "source": [
    "sql = \"\"\"\n",
    "    SELECT COUNT(*)\n",
    "    FROM Bank_Loan_Dataset\n",
    "    WHERE Years_in_current_job = 'n/a'\n",
    "    \"\"\"\n",
    "spark.sql(sql).show()"
   ]
  },
  {
   "cell_type": "markdown",
   "metadata": {},
   "source": [
    "##### 'Months_since_last_delinquent'"
   ]
  },
  {
   "cell_type": "markdown",
   "metadata": {},
   "source": [
    "sono presenti 53141 valori dell'attributo 'Months_since_last_delinquent' uguali a NA. la nostra interpretazione di questo valore è che il soggetto in questione non ha mai commesso nessun reato. quest'interpretazione dervia anche dal fatto che i valori 'NA' siano la maggior parte.\n",
    "\n",
    "trasformiamo i valori 'NA' in -1, in modo da rendere numerico l'attributo, i cui valori quindi potranno essere confrontati."
   ]
  },
  {
   "cell_type": "code",
   "execution_count": 8,
   "metadata": {},
   "outputs": [
    {
     "data": {
      "text/plain": [
       "53141"
      ]
     },
     "execution_count": 8,
     "metadata": {},
     "output_type": "execute_result"
    }
   ],
   "source": [
    "rdd.filter(lambda row: row['Months_since_last_delinquent'] == 'NA').count()"
   ]
  },
  {
   "cell_type": "code",
   "execution_count": 9,
   "metadata": {},
   "outputs": [],
   "source": [
    "#sdf.withColumn(\"Months_since_last_delinquent\", when(df[\"Months_since_last_delinquent\"] == 'NA', -1))"
   ]
  },
  {
   "cell_type": "code",
   "execution_count": 10,
   "metadata": {},
   "outputs": [],
   "source": [
    "# le Row sono tipi di Tuple, quindi oggetti immutabili.\n",
    "# quindi per sostituire il valore 'NA' dobbiamo sovrascrivere l'intera Row\n",
    "\n",
    "def change_value(row):\n",
    "    if row['Months_since_last_delinquent'] == 'NA':\n",
    "        return Row(Loan_ID = row['Loan_ID'],\n",
    "                Customer_ID = row['Customer_ID'],\n",
    "                Loan_Status = row['Loan_Status'],\n",
    "                Current_Loan_Amount = row['Current_Loan_Amount'],\n",
    "                Term = row['Term'],\n",
    "                Credit_Score = row['Credit_Score'],\n",
    "                Annual_Income = row['Annual_Income'],\n",
    "                Years_in_current_job = row['Years_in_current_job'],\n",
    "                Home_Ownership = row['Home_Ownership'],\n",
    "                Purpose = row['Purpose'],\n",
    "                Monthly_Debt = row['Monthly_Debt'],\n",
    "                Years_of_Credit_History = row['Years_of_Credit_History'],\n",
    "                Months_since_last_delinquent = -1,\n",
    "                Number_of_Open_Accounts = row['Number_of_Open_Accounts'],\n",
    "                Number_of_Credit_Problems = row['Number_of_Credit_Problems'],\n",
    "                Current_Credit_Balance = row['Current_Credit_Balance'],\n",
    "                Maximum_Open_Credit = row['Maximum_Open_Credit'],\n",
    "                Bankruptcies = row['Bankruptcies'],\n",
    "                Tax_Liens = row['Tax_Liens'])\n",
    "    else:\n",
    "        return row"
   ]
  },
  {
   "cell_type": "code",
   "execution_count": 11,
   "metadata": {},
   "outputs": [],
   "source": [
    "rdd = rdd.map(change_value)"
   ]
  },
  {
   "cell_type": "code",
   "execution_count": 42,
   "metadata": {},
   "outputs": [
    {
     "data": {
      "text/plain": [
       "[Row(Annual_Income=1167493, Bankruptcies='1', Credit_Score=709, Current_Credit_Balance=228190, Current_Loan_Amount=445412, Customer_ID='981165ec-3274-42f5-a3b4-d104041a9ca9', Home_Ownership='Home Mortgage', Loan_ID='14dd8831-6af5-400b-83ec-68e61888a048', Loan_Status='Fully Paid', Maximum_Open_Credit=416746, Monthly_Debt=5214.74, Months_since_last_delinquent=-1, Number_of_Credit_Problems=1, Number_of_Open_Accounts=6, Purpose='Home Improvements', Tax_Liens='0', Term='Short Term', Years_in_current_job='8 years', Years_of_Credit_History=17.2),\n",
       " Row(Loan_ID='4771cc26-131a-45db-b5aa-537ea4ba5342', Customer_ID='2de017a3-2e01-49cb-a581-08169e83be29', Loan_Status='Fully Paid', Current_Loan_Amount=262328, Term='Short Term', Credit_Score=None, Annual_Income=None, Years_in_current_job='10+ years', Home_Ownership='Home Mortgage', Purpose='Debt Consolidation', Monthly_Debt=33295.98, Years_of_Credit_History=21.1, Months_since_last_delinquent='8', Number_of_Open_Accounts=35, Number_of_Credit_Problems=0, Current_Credit_Balance=229976, Maximum_Open_Credit=850784, Bankruptcies='0', Tax_Liens='0'),\n",
       " Row(Loan_ID='4eed4e6a-aa2f-4c91-8651-ce984ee8fb26', Customer_ID='5efb2b2b-bf11-4dfd-a572-3761a2694725', Loan_Status='Fully Paid', Current_Loan_Amount=99999999, Term='Short Term', Credit_Score=741, Annual_Income=2231892, Years_in_current_job='8 years', Home_Ownership='Own Home', Purpose='Debt Consolidation', Monthly_Debt=29200.53, Years_of_Credit_History=14.9, Months_since_last_delinquent='29', Number_of_Open_Accounts=18, Number_of_Credit_Problems=1, Current_Credit_Balance=297996, Maximum_Open_Credit=750090, Bankruptcies='0', Tax_Liens='0')]"
      ]
     },
     "execution_count": 42,
     "metadata": {},
     "output_type": "execute_result"
    }
   ],
   "source": [
    "rdd.take(3)"
   ]
  },
  {
   "cell_type": "code",
   "execution_count": 12,
   "metadata": {
    "scrolled": true
   },
   "outputs": [
    {
     "data": {
      "text/plain": [
       "53141"
      ]
     },
     "execution_count": 12,
     "metadata": {},
     "output_type": "execute_result"
    }
   ],
   "source": [
    "rdd.filter(lambda row: row['Months_since_last_delinquent'] == -1).count()"
   ]
  },
  {
   "cell_type": "markdown",
   "metadata": {},
   "source": [
    "##### 'Bankruptcies'"
   ]
  },
  {
   "cell_type": "markdown",
   "metadata": {},
   "source": [
    "sono presenti 204 valori dell'attributo 'Bankruptcies' uguali a NA. Poichè il valore 0 è presente si pensa possa trattarsi di missing values, quindi li trasformiamo in None."
   ]
  },
  {
   "cell_type": "code",
   "execution_count": 13,
   "metadata": {
    "scrolled": true
   },
   "outputs": [
    {
     "data": {
      "text/plain": [
       "204"
      ]
     },
     "execution_count": 13,
     "metadata": {},
     "output_type": "execute_result"
    }
   ],
   "source": [
    "rdd.filter(lambda row: row['Bankruptcies'] == 'NA').count()"
   ]
  },
  {
   "cell_type": "code",
   "execution_count": 14,
   "metadata": {},
   "outputs": [
    {
     "data": {
      "text/plain": [
       "514"
      ]
     },
     "execution_count": 14,
     "metadata": {},
     "output_type": "execute_result"
    }
   ],
   "source": [
    "rdd.filter(lambda row: row['Bankruptcies'] is None).count()"
   ]
  },
  {
   "cell_type": "code",
   "execution_count": 15,
   "metadata": {},
   "outputs": [],
   "source": [
    "def change_value(row):\n",
    "    if row['Bankruptcies'] == 'NA':\n",
    "        return Row(Loan_ID = row['Loan_ID'],\n",
    "                Customer_ID = row['Customer_ID'],\n",
    "                Loan_Status = row['Loan_Status'],\n",
    "                Current_Loan_Amount = row['Current_Loan_Amount'],\n",
    "                Term = row['Term'],\n",
    "                Credit_Score = row['Credit_Score'],\n",
    "                Annual_Income = row['Annual_Income'],\n",
    "                Years_in_current_job = row['Years_in_current_job'],\n",
    "                Home_Ownership = row['Home_Ownership'],\n",
    "                Purpose = row['Purpose'],\n",
    "                Monthly_Debt = row['Monthly_Debt'],\n",
    "                Years_of_Credit_History = row['Years_of_Credit_History'],\n",
    "                Months_since_last_delinquent = row['Months_since_last_delinquent'],\n",
    "                Number_of_Open_Accounts = row['Number_of_Open_Accounts'],\n",
    "                Number_of_Credit_Problems = row['Number_of_Credit_Problems'],\n",
    "                Current_Credit_Balance = row['Current_Credit_Balance'],\n",
    "                Maximum_Open_Credit = row['Maximum_Open_Credit'],\n",
    "                Bankruptcies = None,\n",
    "                Tax_Liens = row['Tax_Liens'])\n",
    "    else:\n",
    "        return row"
   ]
  },
  {
   "cell_type": "code",
   "execution_count": 16,
   "metadata": {},
   "outputs": [],
   "source": [
    "rdd = rdd.map(change_value)"
   ]
  },
  {
   "cell_type": "code",
   "execution_count": 17,
   "metadata": {},
   "outputs": [
    {
     "data": {
      "text/plain": [
       "718"
      ]
     },
     "execution_count": 17,
     "metadata": {},
     "output_type": "execute_result"
    }
   ],
   "source": [
    "rdd.filter(lambda row: row['Bankruptcies'] is None).count()"
   ]
  },
  {
   "cell_type": "markdown",
   "metadata": {},
   "source": [
    "##### 'Tax_Liens'"
   ]
  },
  {
   "cell_type": "markdown",
   "metadata": {},
   "source": [
    "sono presenti 10 valori dell'attributo 'Tax_Liens' uguali a NA. Poichè il valore 0 è presente si pensa possa trattarsi di missing values, quindi li trasformiamo in None."
   ]
  },
  {
   "cell_type": "code",
   "execution_count": 32,
   "metadata": {},
   "outputs": [
    {
     "data": {
      "text/plain": [
       "0"
      ]
     },
     "execution_count": 32,
     "metadata": {},
     "output_type": "execute_result"
    }
   ],
   "source": [
    "rdd.filter(lambda row: row['Tax_Liens'] == 'NA').count()"
   ]
  },
  {
   "cell_type": "code",
   "execution_count": 19,
   "metadata": {},
   "outputs": [
    {
     "data": {
      "text/plain": [
       "514"
      ]
     },
     "execution_count": 19,
     "metadata": {},
     "output_type": "execute_result"
    }
   ],
   "source": [
    "rdd.filter(lambda row: row['Tax_Liens'] is None).count()"
   ]
  },
  {
   "cell_type": "code",
   "execution_count": 20,
   "metadata": {},
   "outputs": [],
   "source": [
    "def change_value(row):\n",
    "    if row['Tax_Liens'] == 'NA':\n",
    "        return Row(Loan_ID = row['Loan_ID'],\n",
    "                Customer_ID = row['Customer_ID'],\n",
    "                Loan_Status = row['Loan_Status'],\n",
    "                Current_Loan_Amount = row['Current_Loan_Amount'],\n",
    "                Term = row['Term'],\n",
    "                Credit_Score = row['Credit_Score'],\n",
    "                Annual_Income = row['Annual_Income'],\n",
    "                Years_in_current_job = row['Years_in_current_job'],\n",
    "                Home_Ownership = row['Home_Ownership'],\n",
    "                Purpose = row['Purpose'],\n",
    "                Monthly_Debt = row['Monthly_Debt'],\n",
    "                Years_of_Credit_History = row['Years_of_Credit_History'],\n",
    "                Months_since_last_delinquent = row['Months_since_last_delinquent'],\n",
    "                Number_of_Open_Accounts = row['Number_of_Open_Accounts'],\n",
    "                Number_of_Credit_Problems = row['Number_of_Credit_Problems'],\n",
    "                Current_Credit_Balance = row['Current_Credit_Balance'],\n",
    "                Maximum_Open_Credit = row['Maximum_Open_Credit'],\n",
    "                Bankruptcies = row['Bankruptcies'],\n",
    "                Tax_Liens = None)\n",
    "    else:\n",
    "        return row"
   ]
  },
  {
   "cell_type": "code",
   "execution_count": 21,
   "metadata": {},
   "outputs": [],
   "source": [
    "rdd = rdd.map(change_value)"
   ]
  },
  {
   "cell_type": "code",
   "execution_count": 22,
   "metadata": {},
   "outputs": [
    {
     "data": {
      "text/plain": [
       "524"
      ]
     },
     "execution_count": 22,
     "metadata": {},
     "output_type": "execute_result"
    }
   ],
   "source": [
    "rdd.filter(lambda row: row['Tax_Liens'] is None).count()"
   ]
  },
  {
   "cell_type": "code",
   "execution_count": null,
   "metadata": {},
   "outputs": [],
   "source": []
  },
  {
   "cell_type": "code",
   "execution_count": null,
   "metadata": {},
   "outputs": [],
   "source": []
  },
  {
   "cell_type": "code",
   "execution_count": null,
   "metadata": {},
   "outputs": [],
   "source": []
  },
  {
   "cell_type": "code",
   "execution_count": 33,
   "metadata": {},
   "outputs": [],
   "source": [
    "sdf = rdd.toDF()"
   ]
  },
  {
   "cell_type": "code",
   "execution_count": 34,
   "metadata": {},
   "outputs": [
    {
     "name": "stdout",
     "output_type": "stream",
     "text": [
      "root\n",
      " |-- Annual_Income: long (nullable = true)\n",
      " |-- Bankruptcies: string (nullable = true)\n",
      " |-- Credit_Score: long (nullable = true)\n",
      " |-- Current_Credit_Balance: long (nullable = true)\n",
      " |-- Current_Loan_Amount: long (nullable = true)\n",
      " |-- Customer_ID: string (nullable = true)\n",
      " |-- Home_Ownership: string (nullable = true)\n",
      " |-- Loan_ID: string (nullable = true)\n",
      " |-- Loan_Status: string (nullable = true)\n",
      " |-- Maximum_Open_Credit: long (nullable = true)\n",
      " |-- Monthly_Debt: double (nullable = true)\n",
      " |-- Months_since_last_delinquent: long (nullable = true)\n",
      " |-- Number_of_Credit_Problems: long (nullable = true)\n",
      " |-- Number_of_Open_Accounts: long (nullable = true)\n",
      " |-- Purpose: string (nullable = true)\n",
      " |-- Tax_Liens: string (nullable = true)\n",
      " |-- Term: string (nullable = true)\n",
      " |-- Years_in_current_job: string (nullable = true)\n",
      " |-- Years_of_Credit_History: double (nullable = true)\n",
      "\n"
     ]
    }
   ],
   "source": [
    "sdf.printSchema()"
   ]
  },
  {
   "cell_type": "code",
   "execution_count": 35,
   "metadata": {
    "scrolled": true
   },
   "outputs": [],
   "source": [
    "columns_categorical = [col.name for col in sdf.schema.fields if isinstance(col.dataType, StringType)]\n",
    "\n",
    "columns_numerical = [col for col in columns if col not in columns_categorical]"
   ]
  },
  {
   "cell_type": "code",
   "execution_count": 36,
   "metadata": {
    "scrolled": false
   },
   "outputs": [
    {
     "data": {
      "text/plain": [
       "['Current_Loan_Amount',\n",
       " 'Credit_Score',\n",
       " 'Annual_Income',\n",
       " 'Monthly_Debt',\n",
       " 'Years_of_Credit_History',\n",
       " 'Months_since_last_delinquent',\n",
       " 'Number_of_Open_Accounts',\n",
       " 'Number_of_Credit_Problems',\n",
       " 'Current_Credit_Balance',\n",
       " 'Maximum_Open_Credit']"
      ]
     },
     "execution_count": 36,
     "metadata": {},
     "output_type": "execute_result"
    }
   ],
   "source": [
    "columns_numerical"
   ]
  },
  {
   "cell_type": "code",
   "execution_count": 37,
   "metadata": {
    "scrolled": true
   },
   "outputs": [
    {
     "data": {
      "text/plain": [
       "['Bankruptcies',\n",
       " 'Customer_ID',\n",
       " 'Home_Ownership',\n",
       " 'Loan_ID',\n",
       " 'Loan_Status',\n",
       " 'Purpose',\n",
       " 'Tax_Liens',\n",
       " 'Term',\n",
       " 'Years_in_current_job']"
      ]
     },
     "execution_count": 37,
     "metadata": {},
     "output_type": "execute_result"
    }
   ],
   "source": [
    "columns_categorical"
   ]
  },
  {
   "cell_type": "code",
   "execution_count": 38,
   "metadata": {
    "scrolled": true
   },
   "outputs": [],
   "source": [
    "def get_nbr_nulls(view_name, columns):\n",
    "    \"\"\"funzione per ottenere il numero di valori nulli presenti in ogni colonna dello Spark DF\"\"\"\n",
    "\n",
    "    Project = ''\n",
    "    for col in columns:\n",
    "        if col == columns[-1]:\n",
    "            Project += 'SUM(CASE WHEN {0} IS NULL THEN 1 ELSE 0 END) AS {0}'.format(col)\n",
    "            break\n",
    "        Project += 'SUM(CASE WHEN {0} IS NULL THEN 1 ELSE 0 END) AS {0}, '.format(col)\n",
    "\n",
    "\n",
    "    sql = \"\"\"\\\n",
    "    SELECT {0}\n",
    "    FROM {1}\\\n",
    "    \"\"\".format(Project, view_name)\n",
    "\n",
    "    nbr_nulls = spark.sql(sql).collect()[0]\n",
    "\n",
    "    print('Number of Nulls for each attribute: ')\n",
    "    for col in columns:\n",
    "        print(col + ':', '{:>10}'.format(nbr_nulls[col]) )\n",
    "        \n",
    "        \n",
    "    return nbr_nulls"
   ]
  },
  {
   "cell_type": "code",
   "execution_count": 39,
   "metadata": {
    "scrolled": true
   },
   "outputs": [
    {
     "name": "stdout",
     "output_type": "stream",
     "text": [
      "Number of Nulls for each attribute: \n",
      "Loan_ID:        514\n",
      "Customer_ID:       9159\n",
      "Loan_Status:        514\n",
      "Current_Loan_Amount:      47170\n",
      "Term:        516\n",
      "Credit_Score:      57679\n",
      "Annual_Income:      57679\n",
      "Years_in_current_job:        514\n",
      "Home_Ownership:       9159\n",
      "Purpose:        514\n",
      "Monthly_Debt:        514\n",
      "Years_of_Credit_History:      47170\n",
      "Months_since_last_delinquent:      47373\n",
      "Number_of_Open_Accounts:        514\n",
      "Number_of_Credit_Problems:      47170\n",
      "Current_Credit_Balance:        514\n",
      "Maximum_Open_Credit:      47170\n",
      "Bankruptcies:        718\n",
      "Tax_Liens:        524\n"
     ]
    }
   ],
   "source": [
    "sdf.createOrReplaceTempView('Bank_Loan_Dataset')\n",
    "\n",
    "nbr_nulls = get_nbr_nulls(view_name = 'Bank_Loan_Dataset', columns = columns)"
   ]
  },
  {
   "cell_type": "code",
   "execution_count": 6,
   "metadata": {
    "scrolled": true
   },
   "outputs": [
    {
     "data": {
      "text/plain": [
       "100514"
      ]
     },
     "execution_count": 6,
     "metadata": {},
     "output_type": "execute_result"
    }
   ],
   "source": [
    "rdd.count()"
   ]
  },
  {
   "cell_type": "code",
   "execution_count": 7,
   "metadata": {},
   "outputs": [
    {
     "data": {
      "text/plain": [
       "100000"
      ]
     },
     "execution_count": 7,
     "metadata": {},
     "output_type": "execute_result"
    }
   ],
   "source": [
    "rdd = rdd.filter(lambda row: not ( (row['Loan_ID'] is None) and (row['Customer_ID'] is None) ))\n",
    "rdd.count()"
   ]
  },
  {
   "cell_type": "code",
   "execution_count": 8,
   "metadata": {},
   "outputs": [
    {
     "data": {
      "text/plain": [
       "89785"
      ]
     },
     "execution_count": 8,
     "metadata": {},
     "output_type": "execute_result"
    }
   ],
   "source": [
    "rdd = rdd.distinct()\n",
    "rdd.count()"
   ]
  },
  {
   "cell_type": "code",
   "execution_count": 9,
   "metadata": {},
   "outputs": [],
   "source": [
    "sdf = rdd.toDF()"
   ]
  },
  {
   "cell_type": "code",
   "execution_count": 10,
   "metadata": {
    "scrolled": false
   },
   "outputs": [
    {
     "name": "stdout",
     "output_type": "stream",
     "text": [
      "Number of Nulls for each attribute: \n",
      "Loan_ID:          0\n",
      "Customer_ID:          0\n",
      "Loan_Status:          0\n",
      "Current_Loan_Amount:          0\n",
      "Term:          0\n",
      "Credit_Score:      19154\n",
      "Annual_Income:      19154\n",
      "Years_in_current_job:          0\n",
      "Home_Ownership:          0\n",
      "Purpose:          0\n",
      "Monthly_Debt:          0\n",
      "Years_of_Credit_History:          0\n",
      "Months_since_last_delinquent:          0\n",
      "Number_of_Open_Accounts:          0\n",
      "Number_of_Credit_Problems:          0\n",
      "Current_Credit_Balance:          0\n",
      "Maximum_Open_Credit:          2\n",
      "Bankruptcies:          0\n",
      "Tax_Liens:          0\n"
     ]
    }
   ],
   "source": [
    "sdf.createOrReplaceTempView('Bank_Loan_Dataset')\n",
    "\n",
    "nbr_nulls = get_nbr_nulls(view_name = 'Bank_Loan_Dataset', columns = columns)"
   ]
  },
  {
   "cell_type": "markdown",
   "metadata": {},
   "source": [
    "Problema: ci sono coppie di righe con tutti i valori duplicati eccetto per le due colonne 'Credit_Score' e 'Annual_Income', per le quali uno dei due valori è presente e l'altro è nullo."
   ]
  },
  {
   "cell_type": "code",
   "execution_count": 12,
   "metadata": {},
   "outputs": [
    {
     "name": "stdout",
     "output_type": "stream",
     "text": [
      "+------------+\n",
      "|nbr_distinct|\n",
      "+------------+\n",
      "|       85576|\n",
      "+------------+\n",
      "\n"
     ]
    }
   ],
   "source": [
    "columns_new = [col for col in columns if col != 'Credit_Score' and col != 'Annual_Income']\n",
    "Project = ''\n",
    "for col in columns_new:\n",
    "    if col == columns[-1]:\n",
    "        Project += (col)\n",
    "        break\n",
    "    Project += (col + ', ')\n",
    "\n",
    "sql = \"\"\"\n",
    "SELECT COUNT(DISTINCT {0}) AS nbr_distinct\n",
    "FROM Bank_Loan_Dataset\n",
    "\"\"\".format(Project)\n",
    "\n",
    "spark.sql(sql).show()"
   ]
  },
  {
   "cell_type": "markdown",
   "metadata": {},
   "source": [
    "Soluzione: si raggruppa per tutti gli attributi tranne quei due e poi si calcola la media di quei due. In questo modo se le uniche due righe uguali sono quelle con un valore nullo e uno non nullo per quegli attributi, lo media sarà uguale al valore non nullo; se invece ci fossero altre righe ugauli ma con altri valori diversi non nulli per quegli attributi, viene effettivamente calcolata la media, il che è auspicabile considerando che tutto il resto della riga è uguale e quindi si tratta molto probabilmente dello stesso oggetto, duplicato per errore, di cui dunque prendiamo un valore medio tra quelli presenti."
   ]
  },
  {
   "cell_type": "code",
   "execution_count": 13,
   "metadata": {},
   "outputs": [],
   "source": [
    "columns_new = [col for col in columns if col != 'Credit_Score' and col != 'Annual_Income']\n",
    "Project = ''\n",
    "for col in columns_new:\n",
    "    if col == columns[-1]:\n",
    "        Project += (col)\n",
    "        break\n",
    "    Project += (col + ', ')\n",
    "\n",
    "sql = \"\"\"\n",
    "SELECT {0}, AVG(Credit_Score) AS Credit_Score, AVG(Annual_Income) AS Annual_Income\n",
    "FROM Bank_Loan_Dataset\n",
    "GROUP BY {0}\n",
    "\"\"\".format(Project)\n",
    "\n",
    "sdf = spark.sql(sql)"
   ]
  },
  {
   "cell_type": "code",
   "execution_count": 20,
   "metadata": {},
   "outputs": [
    {
     "data": {
      "text/plain": [
       "85578"
      ]
     },
     "execution_count": 20,
     "metadata": {},
     "output_type": "execute_result"
    }
   ],
   "source": [
    "rdd = sdf.rdd\n",
    "rdd.count()"
   ]
  },
  {
   "cell_type": "code",
   "execution_count": 21,
   "metadata": {
    "scrolled": true
   },
   "outputs": [
    {
     "name": "stdout",
     "output_type": "stream",
     "text": [
      "Number of Nulls for each attribute: \n",
      "Loan_ID:          0\n",
      "Customer_ID:          0\n",
      "Loan_Status:          0\n",
      "Current_Loan_Amount:          0\n",
      "Term:          0\n",
      "Credit_Score:      14947\n",
      "Annual_Income:      14947\n",
      "Years_in_current_job:          0\n",
      "Home_Ownership:          0\n",
      "Purpose:          0\n",
      "Monthly_Debt:          0\n",
      "Years_of_Credit_History:          0\n",
      "Months_since_last_delinquent:          0\n",
      "Number_of_Open_Accounts:          0\n",
      "Number_of_Credit_Problems:          0\n",
      "Current_Credit_Balance:          0\n",
      "Maximum_Open_Credit:          2\n",
      "Bankruptcies:          0\n",
      "Tax_Liens:          0\n"
     ]
    }
   ],
   "source": [
    "sdf.createOrReplaceTempView('Bank_Loan_Dataset')\n",
    "nbr_nulls = get_nbr_nulls(view_name = 'Bank_Loan_Dataset', columns = columns)"
   ]
  },
  {
   "cell_type": "markdown",
   "metadata": {},
   "source": [
    "# sei qui"
   ]
  },
  {
   "cell_type": "code",
   "execution_count": 26,
   "metadata": {},
   "outputs": [
    {
     "data": {
      "text/plain": [
       "[Row(Loan_ID='e42ae1f7-74b5-46d7-95ce-46a88918ba12', Customer_ID='a679ed55-963a-4de6-8be0-4364eb601b6f', Loan_Status='Charged Off', Current_Loan_Amount=45144, Term='Short Term', Years_in_current_job='10+ years', Home_Ownership='Rent', Purpose='Debt Consolidation', Monthly_Debt=36290.38, Years_of_Credit_History=22.4, Months_since_last_delinquent='37', Number_of_Open_Accounts=9, Number_of_Credit_Problems=0, Current_Credit_Balance=0, Maximum_Open_Credit=None, Bankruptcies='0', Tax_Liens='0', Credit_Score=7030.0, Annual_Income=1806995.0),\n",
       " Row(Loan_ID='b798f46b-e27b-4823-af83-294b1ffc3490', Customer_ID='f61890c5-e264-4b0f-a047-9cfa03b9d182', Loan_Status='Charged Off', Current_Loan_Amount=32340, Term='Short Term', Years_in_current_job='2 years', Home_Ownership='Rent', Purpose='Debt Consolidation', Monthly_Debt=9620.46, Years_of_Credit_History=15.3, Months_since_last_delinquent='26', Number_of_Open_Accounts=3, Number_of_Credit_Problems=0, Current_Credit_Balance=0, Maximum_Open_Credit=None, Bankruptcies='0', Tax_Liens='0', Credit_Score=None, Annual_Income=None)]"
      ]
     },
     "execution_count": 26,
     "metadata": {},
     "output_type": "execute_result"
    }
   ],
   "source": [
    "rdd.filter(lambda row: row['Maximum_Open_Credit'] is None).take(2)"
   ]
  },
  {
   "cell_type": "code",
   "execution_count": null,
   "metadata": {},
   "outputs": [],
   "source": []
  },
  {
   "cell_type": "code",
   "execution_count": null,
   "metadata": {},
   "outputs": [],
   "source": []
  },
  {
   "cell_type": "code",
   "execution_count": null,
   "metadata": {},
   "outputs": [],
   "source": []
  },
  {
   "cell_type": "code",
   "execution_count": null,
   "metadata": {},
   "outputs": [],
   "source": []
  },
  {
   "cell_type": "code",
   "execution_count": null,
   "metadata": {},
   "outputs": [],
   "source": []
  },
  {
   "cell_type": "code",
   "execution_count": null,
   "metadata": {},
   "outputs": [],
   "source": []
  },
  {
   "cell_type": "code",
   "execution_count": null,
   "metadata": {},
   "outputs": [],
   "source": []
  },
  {
   "cell_type": "code",
   "execution_count": null,
   "metadata": {},
   "outputs": [],
   "source": []
  },
  {
   "cell_type": "code",
   "execution_count": null,
   "metadata": {},
   "outputs": [],
   "source": []
  },
  {
   "cell_type": "code",
   "execution_count": 27,
   "metadata": {},
   "outputs": [
    {
     "name": "stdout",
     "output_type": "stream",
     "text": [
      "+-----------+-----------------+\n",
      "|Loan_Status| avg_Credit_Score|\n",
      "+-----------+-----------------+\n",
      "| Fully Paid|721.2176297710638|\n",
      "|Charged Off|2402.296862289367|\n",
      "+-----------+-----------------+\n",
      "\n"
     ]
    }
   ],
   "source": [
    "sql = \"\"\"\n",
    "SELECT Loan_Status, AVG(Credit_Score) AS avg_Credit_Score\n",
    "FROM Bank_Loan_Dataset\n",
    "GROUP BY Loan_Status \"\"\"\n",
    "\n",
    "spark.sql(sql).show()"
   ]
  },
  {
   "cell_type": "code",
   "execution_count": null,
   "metadata": {},
   "outputs": [],
   "source": []
  },
  {
   "cell_type": "code",
   "execution_count": null,
   "metadata": {},
   "outputs": [],
   "source": []
  },
  {
   "cell_type": "code",
   "execution_count": null,
   "metadata": {},
   "outputs": [],
   "source": []
  },
  {
   "cell_type": "code",
   "execution_count": null,
   "metadata": {},
   "outputs": [],
   "source": []
  },
  {
   "cell_type": "code",
   "execution_count": null,
   "metadata": {},
   "outputs": [],
   "source": []
  },
  {
   "cell_type": "code",
   "execution_count": null,
   "metadata": {},
   "outputs": [],
   "source": []
  },
  {
   "cell_type": "code",
   "execution_count": null,
   "metadata": {},
   "outputs": [],
   "source": [
    "pdf = sdf.toPandas()\n",
    "pdf.head(2)"
   ]
  },
  {
   "cell_type": "code",
   "execution_count": null,
   "metadata": {},
   "outputs": [],
   "source": []
  },
  {
   "cell_type": "code",
   "execution_count": null,
   "metadata": {},
   "outputs": [],
   "source": []
  },
  {
   "cell_type": "code",
   "execution_count": null,
   "metadata": {},
   "outputs": [],
   "source": []
  },
  {
   "cell_type": "code",
   "execution_count": null,
   "metadata": {},
   "outputs": [],
   "source": []
  },
  {
   "cell_type": "code",
   "execution_count": null,
   "metadata": {},
   "outputs": [],
   "source": []
  },
  {
   "cell_type": "markdown",
   "metadata": {},
   "source": [
    "# Ricordati!"
   ]
  },
  {
   "cell_type": "markdown",
   "metadata": {},
   "source": [
    "anche se non esistono valori distinti  COUNT(\\*)  può differire da COUNT(DISTINCT \\*).\n",
    "\n",
    "perché il primo conta tutte le righe mentre il secondo conta tutte e sole le righe dove non è presente neanche un NULL value"
   ]
  },
  {
   "cell_type": "code",
   "execution_count": 35,
   "metadata": {},
   "outputs": [
    {
     "name": "stdout",
     "output_type": "stream",
     "text": [
      "+--------+\n",
      "|nbr_rows|\n",
      "+--------+\n",
      "|   89785|\n",
      "+--------+\n",
      "\n"
     ]
    }
   ],
   "source": [
    "sql = \"\"\"\n",
    "SELECT COUNT(*) AS nbr_rows\n",
    "FROM Bank_Loan_Dataset\n",
    "\"\"\"\n",
    "\n",
    "spark.sql(sql).show()"
   ]
  },
  {
   "cell_type": "code",
   "execution_count": 31,
   "metadata": {
    "scrolled": true
   },
   "outputs": [
    {
     "name": "stdout",
     "output_type": "stream",
     "text": [
      "+--------+\n",
      "|nbr_rows|\n",
      "+--------+\n",
      "|   70631|\n",
      "+--------+\n",
      "\n"
     ]
    }
   ],
   "source": [
    "sql = \"\"\"\n",
    "SELECT COUNT(Credit_Score) AS nbr_rows\n",
    "FROM Bank_Loan_Dataset\n",
    "\"\"\"\n",
    "\n",
    "spark.sql(sql).show()"
   ]
  },
  {
   "cell_type": "code",
   "execution_count": 32,
   "metadata": {},
   "outputs": [
    {
     "name": "stdout",
     "output_type": "stream",
     "text": [
      "+--------+\n",
      "|nbr_rows|\n",
      "+--------+\n",
      "|   70630|\n",
      "+--------+\n",
      "\n"
     ]
    }
   ],
   "source": [
    "sql = \"\"\"\n",
    "SELECT COUNT(DISTINCT *) AS nbr_rows\n",
    "FROM Bank_Loan_Dataset\n",
    "\"\"\"\n",
    "\n",
    "spark.sql(sql).show()"
   ]
  }
 ],
 "metadata": {
  "kernelspec": {
   "display_name": "Python 3",
   "language": "python",
   "name": "python3"
  },
  "language_info": {
   "codemirror_mode": {
    "name": "ipython",
    "version": 3
   },
   "file_extension": ".py",
   "mimetype": "text/x-python",
   "name": "python",
   "nbconvert_exporter": "python",
   "pygments_lexer": "ipython3",
   "version": "3.7.7"
  }
 },
 "nbformat": 4,
 "nbformat_minor": 4
}
